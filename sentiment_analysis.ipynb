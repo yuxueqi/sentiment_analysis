{
 "cells": [
  {
   "cell_type": "markdown",
   "metadata": {},
   "source": [
    "# 1. DATA EXPLORATION"
   ]
  },
  {
   "cell_type": "code",
   "execution_count": 1,
   "metadata": {},
   "outputs": [],
   "source": [
    "import pandas as pd\n",
    "import seaborn as sns\n",
    "import matplotlib.pyplot as plt\n",
    "# Preprocessing and Feature Engineering\n",
    "from textblob import TextBlob\n",
    "import re \n",
    "from nltk.corpus import stopwords\n",
    "from nltk.stem.wordnet import WordNetLemmatizer"
   ]
  },
  {
   "cell_type": "code",
   "execution_count": 2,
   "metadata": {},
   "outputs": [],
   "source": [
    "df = pd.read_excel('sentences_with_sentiment.xlsx')"
   ]
  },
  {
   "cell_type": "code",
   "execution_count": 3,
   "metadata": {
    "scrolled": false
   },
   "outputs": [],
   "source": [
    "df = df[['Sentence','Positive','Negative','Neutral']].drop_duplicates()"
   ]
  },
  {
   "cell_type": "code",
   "execution_count": 4,
   "metadata": {},
   "outputs": [
    {
     "data": {
      "text/plain": [
       "1    236\n",
       "dtype: int64"
      ]
     },
     "execution_count": 4,
     "metadata": {},
     "output_type": "execute_result"
    }
   ],
   "source": [
    "(df ['Positive']+df ['Negative']+df ['Neutral']).value_counts()"
   ]
  },
  {
   "cell_type": "code",
   "execution_count": 5,
   "metadata": {},
   "outputs": [],
   "source": [
    "df['label'] = df[['Positive','Negative','Neutral']].idxmax(axis=1)"
   ]
  },
  {
   "cell_type": "code",
   "execution_count": 6,
   "metadata": {},
   "outputs": [],
   "source": [
    "df[['Sentence','label']].to_excel('sentiment_sentences.xlsx',index=False)"
   ]
  },
  {
   "cell_type": "code",
   "execution_count": 7,
   "metadata": {
    "scrolled": true
   },
   "outputs": [],
   "source": [
    "df_label_count = df['label'].value_counts().reset_index()"
   ]
  },
  {
   "cell_type": "code",
   "execution_count": 8,
   "metadata": {
    "scrolled": true
   },
   "outputs": [
    {
     "data": {
      "text/html": [
       "<div>\n",
       "<style scoped>\n",
       "    .dataframe tbody tr th:only-of-type {\n",
       "        vertical-align: middle;\n",
       "    }\n",
       "\n",
       "    .dataframe tbody tr th {\n",
       "        vertical-align: top;\n",
       "    }\n",
       "\n",
       "    .dataframe thead th {\n",
       "        text-align: right;\n",
       "    }\n",
       "</style>\n",
       "<table border=\"1\" class=\"dataframe\">\n",
       "  <thead>\n",
       "    <tr style=\"text-align: right;\">\n",
       "      <th></th>\n",
       "      <th>index</th>\n",
       "      <th>label</th>\n",
       "    </tr>\n",
       "  </thead>\n",
       "  <tbody>\n",
       "    <tr>\n",
       "      <th>0</th>\n",
       "      <td>Positive</td>\n",
       "      <td>140</td>\n",
       "    </tr>\n",
       "    <tr>\n",
       "      <th>1</th>\n",
       "      <td>Neutral</td>\n",
       "      <td>64</td>\n",
       "    </tr>\n",
       "    <tr>\n",
       "      <th>2</th>\n",
       "      <td>Negative</td>\n",
       "      <td>32</td>\n",
       "    </tr>\n",
       "  </tbody>\n",
       "</table>\n",
       "</div>"
      ],
      "text/plain": [
       "      index  label\n",
       "0  Positive    140\n",
       "1   Neutral     64\n",
       "2  Negative     32"
      ]
     },
     "execution_count": 8,
     "metadata": {},
     "output_type": "execute_result"
    }
   ],
   "source": [
    "df_label_count"
   ]
  },
  {
   "cell_type": "code",
   "execution_count": 9,
   "metadata": {},
   "outputs": [
    {
     "data": {
      "text/html": [
       "<div>\n",
       "<style scoped>\n",
       "    .dataframe tbody tr th:only-of-type {\n",
       "        vertical-align: middle;\n",
       "    }\n",
       "\n",
       "    .dataframe tbody tr th {\n",
       "        vertical-align: top;\n",
       "    }\n",
       "\n",
       "    .dataframe thead th {\n",
       "        text-align: right;\n",
       "    }\n",
       "</style>\n",
       "<table border=\"1\" class=\"dataframe\">\n",
       "  <thead>\n",
       "    <tr style=\"text-align: right;\">\n",
       "      <th></th>\n",
       "      <th>Sentence</th>\n",
       "      <th>label</th>\n",
       "    </tr>\n",
       "  </thead>\n",
       "  <tbody>\n",
       "    <tr>\n",
       "      <th>74</th>\n",
       "      <td>The study has been performed under fed conditions, which reflects recommendations in the brand leader’s SPC for the administration of the product.</td>\n",
       "      <td>Positive</td>\n",
       "    </tr>\n",
       "    <tr>\n",
       "      <th>114</th>\n",
       "      <td>No clinically relevant added benefit of additional treatment cycles beyond year 2 was evident.</td>\n",
       "      <td>Neutral</td>\n",
       "    </tr>\n",
       "    <tr>\n",
       "      <th>184</th>\n",
       "      <td>The current studies do not provide evidence that the treatment effects persist with indefinite length of treatment, neither in infantile nor in later onset SMA</td>\n",
       "      <td>Negative</td>\n",
       "    </tr>\n",
       "    <tr>\n",
       "      <th>84</th>\n",
       "      <td>The safety observation is based on a total of 3354 patients exposed to at least 1 dose of sarilumab for a total of 5981.0 patient-years of exposure.</td>\n",
       "      <td>Neutral</td>\n",
       "    </tr>\n",
       "    <tr>\n",
       "      <th>33</th>\n",
       "      <td>The superiority to placebo was demonstrated for both dupilumab doses as monotherapy or in combination with TCS in AD patients who are insufficiently controlled with topical therapies alone.</td>\n",
       "      <td>Positive</td>\n",
       "    </tr>\n",
       "    <tr>\n",
       "      <th>63</th>\n",
       "      <td>For the purpose of the clinical biosimilarity exercise for biosimilar insulin products, the evaluation of HbA1c is not a sensitive endpoint and therefore efficacy studies evaluating HbA1c are not requested (EMEA/CHMP/BMWP/32775/2005_Rev.</td>\n",
       "      <td>Neutral</td>\n",
       "    </tr>\n",
       "    <tr>\n",
       "      <th>175</th>\n",
       "      <td>The safety profile of ABP 501 and Humira is considered comparable.</td>\n",
       "      <td>Positive</td>\n",
       "    </tr>\n",
       "    <tr>\n",
       "      <th>45</th>\n",
       "      <td>Overall, the safety profile of PPS is not considered of concern.</td>\n",
       "      <td>Positive</td>\n",
       "    </tr>\n",
       "    <tr>\n",
       "      <th>32</th>\n",
       "      <td>This is in accordance with the relevant guideline and additional clinical studies were not considered necessary.</td>\n",
       "      <td>Positive</td>\n",
       "    </tr>\n",
       "    <tr>\n",
       "      <th>186</th>\n",
       "      <td>PAES: In order to evaluate the long term efficacy and safety of Nusinersen in symptomatic patients with spinal muscular atrophy, Phase 3, open-label extension study (SHINE, CS11)</td>\n",
       "      <td>Negative</td>\n",
       "    </tr>\n",
       "  </tbody>\n",
       "</table>\n",
       "</div>"
      ],
      "text/plain": [
       "                                                                                                                                                                                                                                          Sentence  \\\n",
       "74                                                                                              The study has been performed under fed conditions, which reflects recommendations in the brand leader’s SPC for the administration of the product.   \n",
       "114                                                                                                                                                 No clinically relevant added benefit of additional treatment cycles beyond year 2 was evident.   \n",
       "184                                                                                The current studies do not provide evidence that the treatment effects persist with indefinite length of treatment, neither in infantile nor in later onset SMA   \n",
       "84                                                                                            The safety observation is based on a total of 3354 patients exposed to at least 1 dose of sarilumab for a total of 5981.0 patient-years of exposure.   \n",
       "33                                                   The superiority to placebo was demonstrated for both dupilumab doses as monotherapy or in combination with TCS in AD patients who are insufficiently controlled with topical therapies alone.   \n",
       "63   For the purpose of the clinical biosimilarity exercise for biosimilar insulin products, the evaluation of HbA1c is not a sensitive endpoint and therefore efficacy studies evaluating HbA1c are not requested (EMEA/CHMP/BMWP/32775/2005_Rev.   \n",
       "175                                                                                                                                                                             The safety profile of ABP 501 and Humira is considered comparable.   \n",
       "45                                                                                                                                                                                Overall, the safety profile of PPS is not considered of concern.   \n",
       "32                                                                                                                                This is in accordance with the relevant guideline and additional clinical studies were not considered necessary.   \n",
       "186                                                             PAES: In order to evaluate the long term efficacy and safety of Nusinersen in symptomatic patients with spinal muscular atrophy, Phase 3, open-label extension study (SHINE, CS11)   \n",
       "\n",
       "        label  \n",
       "74   Positive  \n",
       "114   Neutral  \n",
       "184  Negative  \n",
       "84    Neutral  \n",
       "33   Positive  \n",
       "63    Neutral  \n",
       "175  Positive  \n",
       "45   Positive  \n",
       "32   Positive  \n",
       "186  Negative  "
      ]
     },
     "execution_count": 9,
     "metadata": {},
     "output_type": "execute_result"
    }
   ],
   "source": [
    "pd.set_option('max_colwidth',None)\n",
    "df[['Sentence','label']].sample(10)"
   ]
  },
  {
   "cell_type": "code",
   "execution_count": 10,
   "metadata": {},
   "outputs": [
    {
     "data": {
      "text/plain": [
       "18    13\n",
       "24    11\n",
       "16    11\n",
       "21    11\n",
       "11    10\n",
       "13    10\n",
       "15     9\n",
       "23     9\n",
       "25     8\n",
       "22     8\n",
       "20     8\n",
       "10     7\n",
       "12     7\n",
       "19     7\n",
       "17     7\n",
       "26     6\n",
       "28     6\n",
       "39     6\n",
       "41     6\n",
       "27     5\n",
       "30     5\n",
       "34     5\n",
       "31     5\n",
       "14     5\n",
       "35     4\n",
       "29     4\n",
       "9      4\n",
       "36     4\n",
       "32     3\n",
       "45     3\n",
       "55     3\n",
       "40     3\n",
       "38     2\n",
       "44     2\n",
       "50     2\n",
       "43     2\n",
       "8      2\n",
       "54     2\n",
       "58     1\n",
       "37     1\n",
       "63     1\n",
       "62     1\n",
       "48     1\n",
       "49     1\n",
       "7      1\n",
       "59     1\n",
       "42     1\n",
       "33     1\n",
       "46     1\n",
       "Name: Sentence, dtype: int64"
      ]
     },
     "execution_count": 10,
     "metadata": {},
     "output_type": "execute_result"
    }
   ],
   "source": [
    "df['Sentence'].apply(lambda x:len(x.split(' '))).value_counts()"
   ]
  },
  {
   "cell_type": "code",
   "execution_count": 11,
   "metadata": {},
   "outputs": [
    {
     "data": {
      "text/plain": [
       "<matplotlib.legend.Legend at 0x169480cd0>"
      ]
     },
     "execution_count": 11,
     "metadata": {},
     "output_type": "execute_result"
    },
    {
     "data": {
      "image/png": "[encoded data removed]",
      "text/plain": [
       "<Figure size 640x480 with 1 Axes>"
      ]
     },
     "metadata": {},
     "output_type": "display_data"
    }
   ],
   "source": [
    "import matplotlib.pyplot as plt\n",
    "import numpy as np\n",
    "\n",
    "def make_autopct(values):\n",
    "    def my_autopct(pct):\n",
    "        total = sum(values)\n",
    "        val = int(round(pct*total/100.0))\n",
    "        # display number and percentage\n",
    "        return '{p:.1f}%({v:d})'.format(p=pct,v=val)\n",
    "    return my_autopct\n",
    "\n",
    "plt.pie(df_label_count['label'],pctdistance=0.8,autopct=make_autopct(df_label_count['label']))\n",
    "plt.pie([1],radius=0.6,colors='w')\n",
    "plt.legend(df_label_count['index'],loc='upper right')"
   ]
  },
  {
   "cell_type": "code",
   "execution_count": 12,
   "metadata": {},
   "outputs": [],
   "source": [
    "pd.options.display.notebook_repr_html=False  # 表格显示\n",
    "plt.rcParams['figure.dpi'] = 75  # 图形分辨率\n",
    "sns.set_theme(style='darkgrid')  # 图形主题"
   ]
  },
  {
   "cell_type": "code",
   "execution_count": 13,
   "metadata": {
    "scrolled": true
   },
   "outputs": [
    {
     "data": {
      "text/plain": [
       "<AxesSubplot: xlabel='label', ylabel='count'>"
      ]
     },
     "execution_count": 13,
     "metadata": {},
     "output_type": "execute_result"
    },
    {
     "data": {
      "image/png": "[encoded data removed]",
      "text/plain": [
       "<Figure size 480x360 with 1 Axes>"
      ]
     },
     "metadata": {},
     "output_type": "display_data"
    }
   ],
   "source": [
    "sns.countplot(x='label',data=df)"
   ]
  },
  {
   "cell_type": "markdown",
   "metadata": {},
   "source": [
    "## 1.1 Preprocessing: Clean Texts"
   ]
  },
  {
   "cell_type": "code",
   "execution_count": 14,
   "metadata": {},
   "outputs": [],
   "source": [
    "from nltk.stem import WordNetLemmatizer\n",
    "from nltk.tokenize import TweetTokenizer\n",
    "from nltk.corpus import stopwords\n",
    "from nltk.tag import pos_tag\n",
    "import pandas as pd\n",
    "from bs4 import BeautifulSoup\n",
    "import re"
   ]
  },
  {
   "cell_type": "code",
   "execution_count": 16,
   "metadata": {},
   "outputs": [],
   "source": [
    "def from_sentence(text):\n",
    "    text_blob = TextBlob(text)\n",
    "    return ' '.join(text_blob.words)\n",
    "\n",
    "def no_stopwords(text):\n",
    "    stop_words = stopwords.words('english')\n",
    "    stop_words = list(set(stop_words)-{'no','nor','not',\"don't\",\"aren't\",\n",
    "                                      \"couldn't\",\"didn't\", \"doesn't\", \"hadn't\",\n",
    "                                      \"hasn't\",  \"haven't\", \"isn't\",  \"mightn't\",\n",
    "                                      \"mustn't\",  \"needn't\",  \"shan't\", \"shouldn't\",\n",
    "                                       \"wasn't\", 'weren', \"weren't\",  \"won't\", \"wouldn't\"})\n",
    "    clean_tokens = [t for t in text.split() if re.match(r'[^\\W\\d]*\\w*$',t)]\n",
    "    clean_s = ' '.join(clean_tokens)\n",
    "    clean_mess = [word.lower() for word in clean_s.split() if word.lower() not in stop_words]\n",
    "    return clean_mess\n",
    "\n",
    "def normalization(text_list):\n",
    "    lem = WordNetLemmatizer()\n",
    "    normalized_words = []\n",
    "    for word in text_list:\n",
    "        normalized_text = lem.lemmatize(word,'v')\n",
    "        normalized_words.append(normalized_text)\n",
    "    return normalized_words"
   ]
  },
  {
   "cell_type": "code",
   "execution_count": 17,
   "metadata": {},
   "outputs": [],
   "source": [
    "df['clean_sentence'] = df['Sentence'].apply(lambda x:' '.join(normalization(no_stopwords(from_sentence(x)))))"
   ]
  },
  {
   "cell_type": "code",
   "execution_count": 17,
   "metadata": {},
   "outputs": [],
   "source": [
    "def review_to_words(raw_review):    \n",
    "    # 1. Remove HTML\n",
    "    review_text = BeautifulSoup(raw_review).get_text() \n",
    "    # 2. Remove non-letters        \n",
    "    letters_only = re.sub(\"[^a-zA-Z\\d]\", \" \", review_text) \n",
    "    # 3. Convert to lower case, split into individual words\n",
    "    words = letters_only.lower().split()                             \n",
    "    # 4. In Python, searching a set is much faster than searching\n",
    "    stops = set(stopwords.words(\"english\"))                  \n",
    "    # 5. Remove stop words\n",
    "    meaningful_words = [w for w in words if not w in stops]   \n",
    "    # 6. Join the words back into one string separated by space, \n",
    "    # and return the result.\n",
    "    return ' '.join(meaningful_words)"
   ]
  },
  {
   "cell_type": "code",
   "execution_count": 18,
   "metadata": {
    "scrolled": false
   },
   "outputs": [
    {
     "name": "stderr",
     "output_type": "stream",
     "text": [
      "/Users/yuxueqi/miniforge3/envs/py38/lib/python3.8/site-packages/bs4/__init__.py:435: MarkupResemblesLocatorWarning: The input looks more like a filename than markup. You may want to open this file and pass the filehandle into Beautiful Soup.\n",
      "  warnings.warn(\n"
     ]
    }
   ],
   "source": [
    "df['clean_text'] = df['Sentence'].apply(lambda x:review_to_words(x))"
   ]
  },
  {
   "cell_type": "markdown",
   "metadata": {},
   "source": [
    "## 1.2 Word Cloud"
   ]
  },
  {
   "cell_type": "code",
   "execution_count": 19,
   "metadata": {},
   "outputs": [],
   "source": [
    "from wordcloud import STOPWORDS,WordCloud\n",
    "from collections import Counter\n",
    "\n",
    "stop_words = STOPWORDS\n",
    "#stop_words.update(['data','patients','study','studies','results','considered','will'])\n",
    "#wordcount = Counter([word for word in ' '.join(df['clean_text']).split(' ') \\\n",
    "#                     if len(word) > 1])\n",
    "wordcount = Counter([word for word in ' '.join(df['clean_sentence']).split(' ')\\\n",
    "                     if len(word) > 1])"
   ]
  },
  {
   "cell_type": "code",
   "execution_count": 20,
   "metadata": {},
   "outputs": [],
   "source": [
    "def get_plt(data, title):\n",
    "    x = [i[0] for i in data]\n",
    "    y = [i[1] for i in data]\n",
    "    fig, ax = plt.subplots()\n",
    "    ax.barh(range(len(x)), y, color='gold')\n",
    "    ax.set_yticks(range(len(x)))\n",
    "    ax.set_yticklabels(x)\n",
    "    plt.title(title, fontsize=10)\n",
    "    plt.ylabel(\"word\")\n",
    "    plt.xlabel('count')\n",
    "    plt.show()"
   ]
  },
  {
   "cell_type": "code",
   "execution_count": 21,
   "metadata": {
    "scrolled": true
   },
   "outputs": [
    {
     "data": {
      "image/png": "[encoded data removed]",
      "text/plain": [
       "<Figure size 480x360 with 1 Axes>"
      ]
     },
     "metadata": {},
     "output_type": "display_data"
    }
   ],
   "source": [
    "get_plt(wordcount.most_common(20),'Top 20 word counts')"
   ]
  },
  {
   "cell_type": "code",
   "execution_count": 34,
   "metadata": {},
   "outputs": [],
   "source": [
    "from PIL import Image\n",
    "import numpy as np\n",
    "from wordcloud import WordCloud, ImageColorGenerator\n",
    "from matplotlib import pyplot as plt\n",
    "\n",
    "cloud_mask = np.array(Image.open(\"/Users/yuxueqi/Downloads/心形.png\"))"
   ]
  },
  {
   "cell_type": "code",
   "execution_count": 36,
   "metadata": {},
   "outputs": [
    {
     "data": {
      "text/plain": [
       "<wordcloud.wordcloud.WordCloud at 0x1683d1310>"
      ]
     },
     "execution_count": 36,
     "metadata": {},
     "output_type": "execute_result"
    }
   ],
   "source": [
    "wc = WordCloud(stopwords=stop_words)\n",
    "\n",
    "wc = WordCloud(background_color=\"white\", \n",
    "    mask=cloud_mask)\n",
    "wc.generate(' '.join(df[df['label']=='Positive']['clean_sentence']))\n",
    "\n",
    "wc.to_file(\"positive_wordcloud.png\")"
   ]
  },
  {
   "cell_type": "code",
   "execution_count": 39,
   "metadata": {
    "scrolled": true
   },
   "outputs": [
    {
     "data": {
      "text/plain": [
       "<wordcloud.wordcloud.WordCloud at 0x1683d1310>"
      ]
     },
     "execution_count": 39,
     "metadata": {},
     "output_type": "execute_result"
    }
   ],
   "source": [
    "wc.generate(' '.join(df[df['label']=='Negative']['clean_sentence']))\n",
    "\n",
    "wc.to_file(\"negative_wordcloud.png\")"
   ]
  },
  {
   "cell_type": "code",
   "execution_count": 40,
   "metadata": {
    "scrolled": true
   },
   "outputs": [
    {
     "data": {
      "text/plain": [
       "<wordcloud.wordcloud.WordCloud at 0x1683d1310>"
      ]
     },
     "execution_count": 40,
     "metadata": {},
     "output_type": "execute_result"
    }
   ],
   "source": [
    "wc.generate(' '.join(df[df['label']=='Neutral']['clean_sentence']))\n",
    "\n",
    "wc.to_file(\"neutral_wordcloud.png\")"
   ]
  },
  {
   "cell_type": "markdown",
   "metadata": {},
   "source": [
    "# 2. Rule Based Methods"
   ]
  },
  {
   "cell_type": "markdown",
   "metadata": {},
   "source": [
    "## 2.1 VADER FROM RULES"
   ]
  },
  {
   "cell_type": "code",
   "execution_count": 29,
   "metadata": {},
   "outputs": [],
   "source": [
    "from vaderSentiment.vaderSentiment import SentimentIntensityAnalyzer\n",
    "from sklearn.metrics import accuracy_score,precision_score,recall_score,classification_report,confusion_matrix"
   ]
  },
  {
   "cell_type": "code",
   "execution_count": 37,
   "metadata": {},
   "outputs": [],
   "source": [
    "def plot_prediction_bar(column,method):\n",
    "    '''\n",
    "    bar plot of prediction vs truth\n",
    "    '''\n",
    "    confusion_mat = confusion_matrix(df['label'],df[column])\n",
    "\n",
    "    ind = [0,5,10]    # the x locations for the groups\n",
    "    width = 1       # the width of the bars: can also be len(x) sequence\n",
    "\n",
    "    p1 = plt.bar(ind, confusion_mat[2,:],width, color='#d62728')#, yerr=menStd)\n",
    "    p2 = plt.bar(ind, confusion_mat[1,:], width,bottom = confusion_mat[2,:])#, yerr=womenStd)\n",
    "    p3 = plt.bar(ind, confusion_mat[0,:], width, bottom = confusion_mat[2,:]+confusion_mat[1,:])\n",
    "    \n",
    "    plt.xlabel('Prediction')\n",
    "    plt.ylabel('Count')\n",
    "    plt.title('Prediction by '+method)\n",
    "    plt.xticks(ind, ('Negative','Neutral','Positive'))\n",
    "    plt.yticks(np.arange(0, 101, 20))\n",
    "    plt.legend((p1[0], p2[0], p3[0]), ('Positive', 'Neutral', 'Negative'))\n",
    "\n",
    "    plt.show()"
   ]
  },
  {
   "cell_type": "code",
   "execution_count": 31,
   "metadata": {},
   "outputs": [],
   "source": [
    "df['vadar_score'] = df['clean_sentence'].apply(lambda x:SentimentIntensityAnalyzer().polarity_scores(x)['compound'])\n",
    "df['vadar_result'] = df['vadar_score'].apply(lambda x:'Positive' if x>0.05 else 'Negative' if x<-0.05 else 'Neutral')"
   ]
  },
  {
   "cell_type": "code",
   "execution_count": 32,
   "metadata": {},
   "outputs": [
    {
     "data": {
      "text/plain": [
       "Positive    134\n",
       "Neutral      59\n",
       "Negative     43\n",
       "Name: vadar_result, dtype: int64"
      ]
     },
     "execution_count": 32,
     "metadata": {},
     "output_type": "execute_result"
    }
   ],
   "source": [
    "df['vadar_result'].value_counts()"
   ]
  },
  {
   "cell_type": "code",
   "execution_count": 33,
   "metadata": {
    "scrolled": true
   },
   "outputs": [
    {
     "data": {
      "text/plain": [
       "0.5127118644067796"
      ]
     },
     "execution_count": 33,
     "metadata": {},
     "output_type": "execute_result"
    }
   ],
   "source": [
    "accuracy_score(df['label'],df['vadar_result'])"
   ]
  },
  {
   "cell_type": "code",
   "execution_count": 34,
   "metadata": {
    "scrolled": true
   },
   "outputs": [
    {
     "name": "stdout",
     "output_type": "stream",
     "text": [
      "              precision    recall  f1-score   support\n",
      "\n",
      "    Negative       0.23      0.31      0.27        32\n",
      "     Neutral       0.39      0.36      0.37        64\n",
      "    Positive       0.66      0.63      0.64       140\n",
      "\n",
      "    accuracy                           0.51       236\n",
      "   macro avg       0.43      0.43      0.43       236\n",
      "weighted avg       0.53      0.51      0.52       236\n",
      "\n"
     ]
    }
   ],
   "source": [
    "print(classification_report(df['label'],df['vadar_result']))"
   ]
  },
  {
   "cell_type": "code",
   "execution_count": 38,
   "metadata": {},
   "outputs": [
    {
     "data": {
      "image/png": "[encoded data removed]",
      "text/plain": [
       "<Figure size 480x360 with 1 Axes>"
      ]
     },
     "metadata": {},
     "output_type": "display_data"
    }
   ],
   "source": [
    "plot_prediction_bar('vadar_result','VADER')"
   ]
  },
  {
   "cell_type": "markdown",
   "metadata": {},
   "source": [
    "## 2.2 Opinion Lexicon Method"
   ]
  },
  {
   "cell_type": "code",
   "execution_count": 105,
   "metadata": {},
   "outputs": [],
   "source": [
    "from nltk.corpus import sentiwordnet as swn\n",
    "from nltk.tokenize import word_tokenize\n",
    "from nltk import pos_tag\n",
    "from nltk.corpus import sentiwordnet\n",
    "from nltk.corpus import wordnet\n",
    "import nltk\n",
    "from sklearn.metrics import confusion_matrix,ConfusionMatrixDisplay,precision_score,\\\n",
    "recall_score,accuracy_score,roc_auc_score,classification_report\n",
    "\n",
    "from nltk.corpus import opinion_lexicon\n",
    "import numpy as np\n",
    "import matplotlib.pyplot as plt"
   ]
  },
  {
   "cell_type": "code",
   "execution_count": 52,
   "metadata": {},
   "outputs": [],
   "source": [
    "def score_from_opinion_lexicon(text):\n",
    "    pos_words = set(text.split(' ')).intersection(set(opinion_lexicon.positive()))\n",
    "    neg_words = set(text.split(' ')).intersection(set(opinion_lexicon.negative()))\n",
    "    pos_num = len(pos_words)\n",
    "    neg_num = len(neg_words)\n",
    "    score = pos_num - neg_num\n",
    "    return {'score':score,'pos_words':pos_words,'neg_words':neg_words}"
   ]
  },
  {
   "cell_type": "code",
   "execution_count": 53,
   "metadata": {},
   "outputs": [],
   "source": [
    "df['score_opnion_lexicon'] = df['clean_sentence'].apply(lambda x:score_from_opinion_lexicon(x))"
   ]
  },
  {
   "cell_type": "code",
   "execution_count": 54,
   "metadata": {},
   "outputs": [],
   "source": [
    "df['predicted_opnion_lexicon'] = df['score_opnion_lexicon'].apply(lambda x:'Positive' if x['score']>0 \\\n",
    "                                                                  else 'Negative' if x['score']<0 else 'Neutral')"
   ]
  },
  {
   "cell_type": "code",
   "execution_count": 55,
   "metadata": {
    "scrolled": false
   },
   "outputs": [
    {
     "data": {
      "text/plain": [
       "Positive    100\n",
       "Neutral      91\n",
       "Negative     45\n",
       "Name: predicted_opnion_lexicon, dtype: int64"
      ]
     },
     "execution_count": 55,
     "metadata": {},
     "output_type": "execute_result"
    }
   ],
   "source": [
    "df['predicted_opnion_lexicon'].value_counts()"
   ]
  },
  {
   "cell_type": "code",
   "execution_count": 66,
   "metadata": {
    "scrolled": true
   },
   "outputs": [
    {
     "data": {
      "text/plain": [
       "0      Positive\n",
       "1      Positive\n",
       "2      Positive\n",
       "3      Positive\n",
       "4      Positive\n",
       "         ...   \n",
       "261     Neutral\n",
       "262    Negative\n",
       "263     Neutral\n",
       "264    Negative\n",
       "265    Negative\n",
       "Name: predicted_opnion_lexicon, Length: 236, dtype: object"
      ]
     },
     "execution_count": 66,
     "metadata": {},
     "output_type": "execute_result"
    }
   ],
   "source": [
    "df['predicted_opnion_lexicon']"
   ]
  },
  {
   "cell_type": "code",
   "execution_count": 80,
   "metadata": {
    "scrolled": true
   },
   "outputs": [
    {
     "data": {
      "text/plain": [
       "Positive    100\n",
       "Neutral      91\n",
       "Negative     45\n",
       "Name: predicted_opnion_lexicon, dtype: int64"
      ]
     },
     "execution_count": 80,
     "metadata": {},
     "output_type": "execute_result"
    }
   ],
   "source": [
    "df['predicted_opnion_lexicon'].value_counts()"
   ]
  },
  {
   "cell_type": "code",
   "execution_count": 70,
   "metadata": {},
   "outputs": [
    {
     "data": {
      "text/plain": [
       "{}              112\n",
       "{support}        14\n",
       "{consistent}      7\n",
       "{regard}          5\n",
       "{sufficient}      4\n",
       "{adequate}        4\n",
       "{benefit}         4\n",
       "{durable}         3\n",
       "{available}       3\n",
       "{well}            3\n",
       "{important}       3\n",
       "Name: score_opnion_lexicon, dtype: int64"
      ]
     },
     "execution_count": 70,
     "metadata": {},
     "output_type": "execute_result"
    }
   ],
   "source": [
    "df['score_opnion_lexicon'].apply(lambda x:x['pos_words']).value_counts().head(11)"
   ]
  },
  {
   "cell_type": "code",
   "execution_count": 65,
   "metadata": {},
   "outputs": [
    {
     "data": {
      "text/plain": [
       "{}                162\n",
       "{concern}          10\n",
       "{issue}             5\n",
       "{risk}              4\n",
       "{severe}            3\n",
       "{adverse}           3\n",
       "{pain}              2\n",
       "{atrophy}           2\n",
       "{inconsistent}      2\n",
       "{severity}          2\n",
       "{limit}             2\n",
       "Name: score_opnion_lexicon, dtype: int64"
      ]
     },
     "execution_count": 65,
     "metadata": {},
     "output_type": "execute_result"
    }
   ],
   "source": [
    "df['score_opnion_lexicon'].apply(lambda x:x['neg_words']).value_counts().head(11)"
   ]
  },
  {
   "cell_type": "code",
   "execution_count": 56,
   "metadata": {},
   "outputs": [
    {
     "name": "stdout",
     "output_type": "stream",
     "text": [
      "              precision    recall  f1-score   support\n",
      "\n",
      "    Negative       0.38      0.53      0.44        32\n",
      "     Neutral       0.29      0.41      0.34        64\n",
      "    Positive       0.71      0.51      0.59       140\n",
      "\n",
      "    accuracy                           0.48       236\n",
      "   macro avg       0.46      0.48      0.46       236\n",
      "weighted avg       0.55      0.48      0.50       236\n",
      "\n"
     ]
    }
   ],
   "source": [
    "print(classification_report(df['label'],df['predicted_opnion_lexicon']))"
   ]
  },
  {
   "cell_type": "code",
   "execution_count": 74,
   "metadata": {},
   "outputs": [],
   "source": [
    "def text_score(text,stop_word_list):\n",
    "    #create word lsit\n",
    "    #nltk.pos_tag是打标签\n",
    "    ttt = nltk.pos_tag([i for i in word_tokenize(str(text).lower()) if i not in stop_word_list])\n",
    "    word_tag_fq = nltk.FreqDist(ttt)\n",
    "    wordlist = word_tag_fq.most_common()\n",
    "\n",
    "    key = []\n",
    "    part = []\n",
    "    frequency = []\n",
    "    for i in range(len(wordlist)):\n",
    "        key.append(wordlist[i][0][0])\n",
    "        part.append(wordlist[i][0][1])\n",
    "        frequency.append(wordlist[i][1])\n",
    "    textdf = pd.DataFrame({'key':key,\n",
    "                      'part':part,\n",
    "                      'frequency':frequency},\n",
    "                      columns=['key','part','frequency'])\n",
    "\n",
    "    #编码\n",
    "    n = ['NN','NNP','NNPS','NNS','UH']\n",
    "    v = ['VB','VBD','VBG','VBN','VBP','VBZ']\n",
    "    a = ['JJ','JJR','JJS']\n",
    "    r = ['RB','RBR','RBS','RP','WRB']\n",
    "\n",
    "    for i in range(len(textdf['key'])):\n",
    "        z = textdf.iloc[i,1]\n",
    "\n",
    "        if z in n:\n",
    "            textdf.iloc[i,1]='n'\n",
    "        elif z in v:\n",
    "            textdf.iloc[i,1]='v'\n",
    "        elif z in a:\n",
    "            textdf.iloc[i,1]='a'\n",
    "        elif z in r:\n",
    "            textdf.iloc[i,1]='r'\n",
    "        else:\n",
    "            textdf.iloc[i,1]=''\n",
    "            \n",
    "    #Calculate sentiment score of a sentence\n",
    "    score = []\n",
    "    for i in range(len(textdf['key'])):\n",
    "        m = list(swn.senti_synsets(textdf.iloc[i,0],textdf.iloc[i,1]))\n",
    "        s = 0\n",
    "        ra = 0\n",
    "        if len(m) > 0:\n",
    "            for j in range(len(m)):\n",
    "                s += (m[j].pos_score()-m[j].neg_score())/(j+1)\n",
    "                ra += 1/(j+1)\n",
    "            score.append(s/ra)\n",
    "        else:\n",
    "            score.append(0)\n",
    "        #pd.concat([textdf,pd.DataFrame({'score':score})],axis=1),    \n",
    "    return sum(score)\n"
   ]
  },
  {
   "cell_type": "code",
   "execution_count": 61,
   "metadata": {},
   "outputs": [],
   "source": [
    "stop_words = stopwords.words('english')\n",
    "stop_words = list(set(stop_words)-{'no','nor','not',\"don't\",\"aren't\",\n",
    "                                      \"couldn't\",\"didn't\", \"doesn't\", \"hadn't\",\n",
    "                                      \"hasn't\",  \"haven't\", \"isn't\",  \"mightn't\",\n",
    "                                      \"mustn't\",  \"needn't\",  \"shan't\", \"shouldn't\",\n",
    "                                       \"wasn't\", 'weren', \"weren't\",  \"won't\", \"wouldn't\"})"
   ]
  },
  {
   "cell_type": "code",
   "execution_count": 76,
   "metadata": {},
   "outputs": [
    {
     "data": {
      "text/plain": [
       " 0.000    199\n",
       " 0.375     15\n",
       " 0.125     13\n",
       "-0.500      5\n",
       " 0.250      3\n",
       "-0.125      1\n",
       "Name: Sentence, dtype: int64"
      ]
     },
     "execution_count": 76,
     "metadata": {},
     "output_type": "execute_result"
    }
   ],
   "source": [
    "df['Sentence'].apply(lambda x:text_score(x,stop_words)).value_counts()"
   ]
  },
  {
   "cell_type": "markdown",
   "metadata": {},
   "source": [
    "# MACHINE LEARNING METHODS"
   ]
  },
  {
   "cell_type": "code",
   "execution_count": 27,
   "metadata": {},
   "outputs": [],
   "source": [
    "from sklearn.feature_extraction.text import TfidfVectorizer\n",
    "from sklearn.preprocessing import FunctionTransformer\n",
    "from sklearn.model_selection import train_test_split\n",
    "from sklearn.naive_bayes import MultinomialNB, GaussianNB\n",
    "from sklearn.pipeline import Pipeline\n",
    "from sklearn.metrics import accuracy_score,precision_score,recall_score,classification_report,confusion_matrix"
   ]
  },
  {
   "cell_type": "code",
   "execution_count": 43,
   "metadata": {},
   "outputs": [],
   "source": [
    "def plot_prediction_test_train_bar(column,index_train,index_test,method):\n",
    "    '''\n",
    "    bar plot of prediction vs truth\n",
    "    '''\n",
    "    confusion_mat_train = confusion_matrix(df['label'][index_train],df[column][index_train])\n",
    "    confusion_mat_test = confusion_matrix(df['label'][index_test],df[column][index_test])\n",
    "\n",
    "    ind_train = [0,5,10]  \n",
    "    ind_test = [2,7,12]\n",
    "    # the x locations for the groups\n",
    "    width = 1       # the width of the bars: can also be len(x) sequence\n",
    "\n",
    "    p1 = plt.bar(ind_train, confusion_mat_train[2,:],width, color='#d62728')\n",
    "    p2 = plt.bar(ind_train, confusion_mat_train[1,:], width,bottom = confusion_mat_train[2,:],color = 'navy')\n",
    "    p3 = plt.bar(ind_train, confusion_mat_train[0,:], width, bottom = confusion_mat_train[2,:]+confusion_mat_train[1,:],color='purple')\n",
    "    \n",
    "    p4 = plt.bar(ind_test, confusion_mat_test[2,:],width, color='#d62728')\n",
    "    p5 = plt.bar(ind_test, confusion_mat_test[1,:], width,bottom = confusion_mat_test[2,:],color='navy')\n",
    "    p6 = plt.bar(ind_test, confusion_mat_test[1,:], width,bottom = confusion_mat_test[2,:]+confusion_mat_test[1,:],color='purple')\n",
    "    \n",
    "    plt.xlabel('Prediction')\n",
    "    plt.ylabel('Count')\n",
    "    plt.title('Prediction by '+method)\n",
    "    plt.xticks([1,6,11],('Negative','Neutral','Positive'))\n",
    "    plt.yticks(np.arange(0, 101, 20))\n",
    "    plt.legend((p1[0], p2[0], p3[0]), ('Positive', 'Neutral', 'Negative'))\n",
    "\n",
    "    plt.show()"
   ]
  },
  {
   "cell_type": "code",
   "execution_count": 21,
   "metadata": {},
   "outputs": [],
   "source": [
    "X=df['clean_sentence']\n",
    "y=df['label'].map({'Positive':1,'Negative':-1,'Neutral':0})\n",
    "X_train, X_test, y_train, y_test=train_test_split(X, y,test_size=0.2,random_state=0)"
   ]
  },
  {
   "cell_type": "code",
   "execution_count": 22,
   "metadata": {},
   "outputs": [],
   "source": [
    "tfidf_vec = TfidfVectorizer(ngram_range=(1,2))"
   ]
  },
  {
   "cell_type": "code",
   "execution_count": 23,
   "metadata": {},
   "outputs": [],
   "source": [
    "X_train_transformed=tfidf_vec.fit_transform(X_train)"
   ]
  },
  {
   "cell_type": "code",
   "execution_count": 45,
   "metadata": {},
   "outputs": [],
   "source": [
    "# Naive Bayes Model\n",
    "nb=MultinomialNB()\n",
    "nb.fit(X_train_transformed, y_train)\n",
    "X_test_transformed=tfidf_vec.transform(X_test)"
   ]
  },
  {
   "cell_type": "code",
   "execution_count": 46,
   "metadata": {
    "scrolled": true
   },
   "outputs": [
    {
     "name": "stdout",
     "output_type": "stream",
     "text": [
      "              precision    recall  f1-score   support\n",
      "\n",
      "    Negative       0.00      0.00      0.00         8\n",
      "     Neutral       0.00      0.00      0.00        11\n",
      "    Positive       0.60      1.00      0.75        29\n",
      "\n",
      "    accuracy                           0.60        48\n",
      "   macro avg       0.20      0.33      0.25        48\n",
      "weighted avg       0.37      0.60      0.46        48\n",
      "\n"
     ]
    },
    {
     "name": "stderr",
     "output_type": "stream",
     "text": [
      "/Users/yuxueqi/miniforge3/envs/py38/lib/python3.8/site-packages/sklearn/metrics/_classification.py:1334: UndefinedMetricWarning: Precision and F-score are ill-defined and being set to 0.0 in labels with no predicted samples. Use `zero_division` parameter to control this behavior.\n",
      "  _warn_prf(average, modifier, msg_start, len(result))\n",
      "/Users/yuxueqi/miniforge3/envs/py38/lib/python3.8/site-packages/sklearn/metrics/_classification.py:1334: UndefinedMetricWarning: Precision and F-score are ill-defined and being set to 0.0 in labels with no predicted samples. Use `zero_division` parameter to control this behavior.\n",
      "  _warn_prf(average, modifier, msg_start, len(result))\n",
      "/Users/yuxueqi/miniforge3/envs/py38/lib/python3.8/site-packages/sklearn/metrics/_classification.py:1334: UndefinedMetricWarning: Precision and F-score are ill-defined and being set to 0.0 in labels with no predicted samples. Use `zero_division` parameter to control this behavior.\n",
      "  _warn_prf(average, modifier, msg_start, len(result))\n"
     ]
    }
   ],
   "source": [
    "print(classification_report(y_test,nb.predict(X_test_transformed),target_names=['Negative','Neutral','Positive']))"
   ]
  },
  {
   "cell_type": "code",
   "execution_count": 47,
   "metadata": {
    "scrolled": false
   },
   "outputs": [
    {
     "name": "stdout",
     "output_type": "stream",
     "text": [
      "Test Score: 0.6041666666666666\n",
      "Train Score: 0.8191489361702128\n"
     ]
    }
   ],
   "source": [
    "# Model Evaluation\n",
    "print(f'Test Score: {nb.score(X_test_transformed, y_test)}')\n",
    "print(f'Train Score: {nb.score(X_train_transformed, y_train)}')"
   ]
  },
  {
   "cell_type": "code",
   "execution_count": 48,
   "metadata": {},
   "outputs": [],
   "source": [
    "df['Predicted_NB'] = nb.predict(tfidf_vec.transform(X))\n",
    "df['Predicted_NB'] = df['Predicted_NB'].map({1:'Positive',0:'Neutral',-1:'Negative'})"
   ]
  },
  {
   "cell_type": "code",
   "execution_count": 49,
   "metadata": {},
   "outputs": [
    {
     "data": {
      "image/png": "[encoded data removed]",
      "text/plain": [
       "<Figure size 640x480 with 1 Axes>"
      ]
     },
     "metadata": {},
     "output_type": "display_data"
    }
   ],
   "source": [
    "plot_prediction_test_train_bar('Predicted_NB',X_train.index,X_test.index,'Naive Bayes')"
   ]
  },
  {
   "cell_type": "code",
   "execution_count": 71,
   "metadata": {},
   "outputs": [
    {
     "data": {
      "text/plain": [
       "0.7754237288135594"
      ]
     },
     "execution_count": 71,
     "metadata": {},
     "output_type": "execute_result"
    }
   ],
   "source": [
    "accuracy_score(df['label'],df['Predicted_NB'])"
   ]
  },
  {
   "cell_type": "code",
   "execution_count": 69,
   "metadata": {},
   "outputs": [
    {
     "name": "stdout",
     "output_type": "stream",
     "text": [
      "              precision    recall  f1-score   support\n",
      "\n",
      "    Negative       0.25      1.00      0.40         2\n",
      "     Neutral       0.00      0.00      0.00         0\n",
      "    Positive       1.00      0.63      0.77        46\n",
      "\n",
      "    accuracy                           0.65        48\n",
      "   macro avg       0.42      0.54      0.39        48\n",
      "weighted avg       0.97      0.65      0.76        48\n",
      "\n"
     ]
    },
    {
     "name": "stderr",
     "output_type": "stream",
     "text": [
      "/Users/yuxueqi/miniforge3/envs/py38/lib/python3.8/site-packages/sklearn/metrics/_classification.py:1334: UndefinedMetricWarning: Recall and F-score are ill-defined and being set to 0.0 in labels with no true samples. Use `zero_division` parameter to control this behavior.\n",
      "  _warn_prf(average, modifier, msg_start, len(result))\n",
      "/Users/yuxueqi/miniforge3/envs/py38/lib/python3.8/site-packages/sklearn/metrics/_classification.py:1334: UndefinedMetricWarning: Recall and F-score are ill-defined and being set to 0.0 in labels with no true samples. Use `zero_division` parameter to control this behavior.\n",
      "  _warn_prf(average, modifier, msg_start, len(result))\n",
      "/Users/yuxueqi/miniforge3/envs/py38/lib/python3.8/site-packages/sklearn/metrics/_classification.py:1334: UndefinedMetricWarning: Recall and F-score are ill-defined and being set to 0.0 in labels with no true samples. Use `zero_division` parameter to control this behavior.\n",
      "  _warn_prf(average, modifier, msg_start, len(result))\n"
     ]
    }
   ],
   "source": [
    "from sklearn.linear_model import LogisticRegression\n",
    "from sklearn.ensemble import RandomForestClassifier\n",
    "lr = LogisticRegression()\n",
    "lr.fit(X_train_transformed, y_train)\n",
    "#accuracy_score(lr.predict(X_test_transformed),y_test)\n",
    "\n",
    "print(classification_report(lr.predict(X_test_transformed),y_test,target_names=['Negative','Neutral','Positive']))"
   ]
  },
  {
   "cell_type": "code",
   "execution_count": 70,
   "metadata": {},
   "outputs": [
    {
     "name": "stdout",
     "output_type": "stream",
     "text": [
      "              precision    recall  f1-score   support\n",
      "\n",
      "    Negative       0.25      1.00      0.40         2\n",
      "     Neutral       0.36      0.44      0.40         9\n",
      "    Positive       0.90      0.70      0.79        37\n",
      "\n",
      "    accuracy                           0.67        48\n",
      "   macro avg       0.50      0.72      0.53        48\n",
      "weighted avg       0.77      0.67      0.70        48\n",
      "\n"
     ]
    }
   ],
   "source": [
    "rf = RandomForestClassifier(max_depth=500,n_estimators=1000,max_features=1000)\n",
    "rf.fit(X_train_transformed, y_train)\n",
    "accuracy_score(rf.predict(X_test_transformed),y_test)\n",
    "print(classification_report(rf.predict(X_test_transformed),y_test,target_names=['Negative','Neutral','Positive']))"
   ]
  },
  {
   "cell_type": "code",
   "execution_count": 37,
   "metadata": {
    "scrolled": true
   },
   "outputs": [
    {
     "data": {
      "text/html": [
       "<style>#sk-container-id-6 {color: black;background-color: white;}#sk-container-id-6 pre{padding: 0;}#sk-container-id-6 div.sk-toggleable {background-color: white;}#sk-container-id-6 label.sk-toggleable__label {cursor: pointer;display: block;width: 100%;margin-bottom: 0;padding: 0.3em;box-sizing: border-box;text-align: center;}#sk-container-id-6 label.sk-toggleable__label-arrow:before {content: \"▸\";float: left;margin-right: 0.25em;color: #696969;}#sk-container-id-6 label.sk-toggleable__label-arrow:hover:before {color: black;}#sk-container-id-6 div.sk-estimator:hover label.sk-toggleable__label-arrow:before {color: black;}#sk-container-id-6 div.sk-toggleable__content {max-height: 0;max-width: 0;overflow: hidden;text-align: left;background-color: #f0f8ff;}#sk-container-id-6 div.sk-toggleable__content pre {margin: 0.2em;color: black;border-radius: 0.25em;background-color: #f0f8ff;}#sk-container-id-6 input.sk-toggleable__control:checked~div.sk-toggleable__content {max-height: 200px;max-width: 100%;overflow: auto;}#sk-container-id-6 input.sk-toggleable__control:checked~label.sk-toggleable__label-arrow:before {content: \"▾\";}#sk-container-id-6 div.sk-estimator input.sk-toggleable__control:checked~label.sk-toggleable__label {background-color: #d4ebff;}#sk-container-id-6 div.sk-label input.sk-toggleable__control:checked~label.sk-toggleable__label {background-color: #d4ebff;}#sk-container-id-6 input.sk-hidden--visually {border: 0;clip: rect(1px 1px 1px 1px);clip: rect(1px, 1px, 1px, 1px);height: 1px;margin: -1px;overflow: hidden;padding: 0;position: absolute;width: 1px;}#sk-container-id-6 div.sk-estimator {font-family: monospace;background-color: #f0f8ff;border: 1px dotted black;border-radius: 0.25em;box-sizing: border-box;margin-bottom: 0.5em;}#sk-container-id-6 div.sk-estimator:hover {background-color: #d4ebff;}#sk-container-id-6 div.sk-parallel-item::after {content: \"\";width: 100%;border-bottom: 1px solid gray;flex-grow: 1;}#sk-container-id-6 div.sk-label:hover label.sk-toggleable__label {background-color: #d4ebff;}#sk-container-id-6 div.sk-serial::before {content: \"\";position: absolute;border-left: 1px solid gray;box-sizing: border-box;top: 0;bottom: 0;left: 50%;z-index: 0;}#sk-container-id-6 div.sk-serial {display: flex;flex-direction: column;align-items: center;background-color: white;padding-right: 0.2em;padding-left: 0.2em;position: relative;}#sk-container-id-6 div.sk-item {position: relative;z-index: 1;}#sk-container-id-6 div.sk-parallel {display: flex;align-items: stretch;justify-content: center;background-color: white;position: relative;}#sk-container-id-6 div.sk-item::before, #sk-container-id-6 div.sk-parallel-item::before {content: \"\";position: absolute;border-left: 1px solid gray;box-sizing: border-box;top: 0;bottom: 0;left: 50%;z-index: -1;}#sk-container-id-6 div.sk-parallel-item {display: flex;flex-direction: column;z-index: 1;position: relative;background-color: white;}#sk-container-id-6 div.sk-parallel-item:first-child::after {align-self: flex-end;width: 50%;}#sk-container-id-6 div.sk-parallel-item:last-child::after {align-self: flex-start;width: 50%;}#sk-container-id-6 div.sk-parallel-item:only-child::after {width: 0;}#sk-container-id-6 div.sk-dashed-wrapped {border: 1px dashed gray;margin: 0 0.4em 0.5em 0.4em;box-sizing: border-box;padding-bottom: 0.4em;background-color: white;}#sk-container-id-6 div.sk-label label {font-family: monospace;font-weight: bold;display: inline-block;line-height: 1.2em;}#sk-container-id-6 div.sk-label-container {text-align: center;}#sk-container-id-6 div.sk-container {/* jupyter's `normalize.less` sets `[hidden] { display: none; }` but bootstrap.min.css set `[hidden] { display: none !important; }` so we also need the `!important` here to be able to override the default hidden behavior on the sphinx rendered scikit-learn.org. See: https://github.com/scikit-learn/scikit-learn/issues/21755 */display: inline-block !important;position: relative;}#sk-container-id-6 div.sk-text-repr-fallback {display: none;}</style><div id=\"sk-container-id-6\" class=\"sk-top-container\"><div class=\"sk-text-repr-fallback\"><pre>LGBMClassifier(learning_rate=0.05, max_depth=1000, n_estimators=1000)</pre><b>In a Jupyter environment, please rerun this cell to show the HTML representation or trust the notebook. <br />On GitHub, the HTML representation is unable to render, please try loading this page with nbviewer.org.</b></div><div class=\"sk-container\" hidden><div class=\"sk-item\"><div class=\"sk-estimator sk-toggleable\"><input class=\"sk-toggleable__control sk-hidden--visually\" id=\"sk-estimator-id-6\" type=\"checkbox\" checked><label for=\"sk-estimator-id-6\" class=\"sk-toggleable__label sk-toggleable__label-arrow\">LGBMClassifier</label><div class=\"sk-toggleable__content\"><pre>LGBMClassifier(learning_rate=0.05, max_depth=1000, n_estimators=1000)</pre></div></div></div></div></div>"
      ],
      "text/plain": [
       "LGBMClassifier(learning_rate=0.05, max_depth=1000, n_estimators=1000)"
      ]
     },
     "execution_count": 37,
     "metadata": {},
     "output_type": "execute_result"
    }
   ],
   "source": [
    "import lightgbm as lgb\n",
    "lgb_model = lgb.LGBMClassifier(max_depth=1000,n_estimators=1000,learning_rate=0.05)\n",
    "lgb_model.fit(X_train_transformed,y_train)"
   ]
  },
  {
   "cell_type": "code",
   "execution_count": 39,
   "metadata": {},
   "outputs": [],
   "source": [
    "df['Predicted_lgb'] = lgb_model.predict(tfidf_vec.transform(X))\n",
    "df['Predicted_lgb'] = df['Predicted_lgb'].map({1:'Positive',0:'Neutral',-1:'Negative'})"
   ]
  },
  {
   "cell_type": "code",
   "execution_count": 40,
   "metadata": {},
   "outputs": [
    {
     "name": "stdout",
     "output_type": "stream",
     "text": [
      "0.5625\n",
      "              precision    recall  f1-score   support\n",
      "\n",
      "    Negative       0.12      0.50      0.20         2\n",
      "     Neutral       0.00      0.00      0.00         3\n",
      "    Positive       0.90      0.60      0.72        43\n",
      "\n",
      "    accuracy                           0.56        48\n",
      "   macro avg       0.34      0.37      0.31        48\n",
      "weighted avg       0.81      0.56      0.66        48\n",
      "\n"
     ]
    }
   ],
   "source": [
    "print(accuracy_score(lgb_model.predict(X_test_transformed),y_test))\n",
    "\n",
    "print(classification_report(lgb_model.predict(X_test_transformed),y_test,target_names=['Negative','Neutral','Positive']))"
   ]
  },
  {
   "cell_type": "code",
   "execution_count": 51,
   "metadata": {},
   "outputs": [
    {
     "data": {
      "image/png": "[encoded data removed]",
      "text/plain": [
       "<Figure size 640x480 with 1 Axes>"
      ]
     },
     "metadata": {},
     "output_type": "display_data"
    }
   ],
   "source": [
    "plot_prediction_test_train_bar('Predicted_lgb',X_train.index,X_test.index,'LightGBM')"
   ]
  },
  {
   "cell_type": "markdown",
   "metadata": {},
   "source": [
    "# Deep Learning Methods"
   ]
  },
  {
   "cell_type": "code",
   "execution_count": 24,
   "metadata": {},
   "outputs": [],
   "source": [
    "from keras.layers import Dense\n",
    "from tensorflow.python.keras.layers.recurrent import SimpleRNN\n",
    "from keras.models import Sequential\n",
    "from tensorflow.python.keras.layers.embeddings import Embedding\n",
    "from tensorflow.keras.layers import LSTM, Dense, Dropout, Bidirectional\n",
    "from sklearn.model_selection import train_test_split\n",
    "import numpy as np\n",
    "import nltk\n",
    "from nltk.corpus import stopwords\n",
    "import re\n",
    "import pandas as pd"
   ]
  },
  {
   "cell_type": "code",
   "execution_count": 25,
   "metadata": {},
   "outputs": [
    {
     "name": "stdout",
     "output_type": "stream",
     "text": [
      "1280\n"
     ]
    }
   ],
   "source": [
    "from collections import Counter\n",
    "counts = Counter()\n",
    "for i,review in enumerate(df['clean_text']):\n",
    "    counts.update(review.split())\n",
    "words = sorted(counts, key=counts.get, reverse=True)\n",
    "\n",
    "nb_chars = len(words)\n",
    "print(nb_chars)\n",
    "word_to_int = {word: i for i, word in enumerate(words, 1)}\n",
    "int_to_word = {i: word for i, word in enumerate(words, 1)}"
   ]
  },
  {
   "cell_type": "code",
   "execution_count": 26,
   "metadata": {},
   "outputs": [
    {
     "name": "stdout",
     "output_type": "stream",
     "text": [
      "Original text: results 2nd line treatment show orr 33 patients durable responses resulting apparent pfs plateau\n",
      "Mapped text: [16, 279, 68, 7, 280, 649, 650, 4, 281, 405, 651, 652, 226, 653]\n"
     ]
    }
   ],
   "source": [
    "mapped_reviews = []\n",
    "for review in df['clean_text']:\n",
    "    mapped_reviews.append([word_to_int[word] for word in review.split()])\n",
    "\n",
    "# 打印示例\n",
    "print('Original text:',df.loc[0]['clean_text'])\n",
    "print('Mapped text:',mapped_reviews[0])\n"
   ]
  },
  {
   "cell_type": "code",
   "execution_count": 27,
   "metadata": {},
   "outputs": [],
   "source": [
    "length_sent = []\n",
    "for i in range(len(mapped_reviews)):\n",
    "    length_sent.append(len(mapped_reviews[i]))\n",
    "\n",
    "sequence_length = max(length_sent)"
   ]
  },
  {
   "cell_type": "code",
   "execution_count": 28,
   "metadata": {},
   "outputs": [],
   "source": [
    "from tensorflow.keras.preprocessing.sequence import pad_sequences\n",
    "x = pad_sequences(maxlen=sequence_length, sequences=mapped_reviews, padding=\"post\", value=0)\n",
    "y = df['label'].values\n",
    "y = np.array(pd.get_dummies(y))\n",
    "x_train, x_test, y_train, y_test = train_test_split(x, y, test_size=0.2,random_state=0)"
   ]
  },
  {
   "cell_type": "code",
   "execution_count": 32,
   "metadata": {},
   "outputs": [
    {
     "name": "stdout",
     "output_type": "stream",
     "text": [
      "Epoch 1/50\n",
      "1/1 [==============================] - 0s 465ms/step - loss: 1.1207 - acc: 0.2123 - val_loss: 1.0574 - val_acc: 0.5556\n",
      "Epoch 2/50\n",
      "1/1 [==============================] - 0s 22ms/step - loss: 1.0347 - acc: 0.6226 - val_loss: 0.9870 - val_acc: 0.6852\n",
      "Epoch 3/50\n",
      "1/1 [==============================] - 0s 23ms/step - loss: 0.9696 - acc: 0.6321 - val_loss: 0.9291 - val_acc: 0.6852\n",
      "Epoch 4/50\n",
      "1/1 [==============================] - 0s 24ms/step - loss: 0.9210 - acc: 0.5991 - val_loss: 0.8885 - val_acc: 0.6852\n",
      "Epoch 5/50\n",
      "1/1 [==============================] - 0s 24ms/step - loss: 0.8852 - acc: 0.5896 - val_loss: 0.8650 - val_acc: 0.6852\n",
      "Epoch 6/50\n",
      "1/1 [==============================] - 0s 23ms/step - loss: 0.8495 - acc: 0.5943 - val_loss: 0.8548 - val_acc: 0.6852\n",
      "Epoch 7/50\n",
      "1/1 [==============================] - 0s 23ms/step - loss: 0.7985 - acc: 0.6415 - val_loss: 0.8562 - val_acc: 0.6481\n",
      "Epoch 8/50\n",
      "1/1 [==============================] - 0s 21ms/step - loss: 0.7262 - acc: 0.7264 - val_loss: 0.8711 - val_acc: 0.7037\n",
      "Epoch 9/50\n",
      "1/1 [==============================] - 0s 23ms/step - loss: 0.6491 - acc: 0.9009 - val_loss: 0.8932 - val_acc: 0.6667\n",
      "Epoch 10/50\n",
      "1/1 [==============================] - 0s 23ms/step - loss: 0.5884 - acc: 0.9340 - val_loss: 0.9052 - val_acc: 0.6481\n",
      "Epoch 11/50\n",
      "1/1 [==============================] - 0s 24ms/step - loss: 0.5335 - acc: 0.9434 - val_loss: 0.9005 - val_acc: 0.6481\n",
      "Epoch 12/50\n",
      "1/1 [==============================] - 0s 22ms/step - loss: 0.4700 - acc: 0.9575 - val_loss: 0.8839 - val_acc: 0.6111\n",
      "Epoch 13/50\n",
      "1/1 [==============================] - 0s 23ms/step - loss: 0.3995 - acc: 0.9623 - val_loss: 0.8673 - val_acc: 0.5926\n",
      "Epoch 14/50\n",
      "1/1 [==============================] - 0s 24ms/step - loss: 0.3318 - acc: 0.9764 - val_loss: 0.8622 - val_acc: 0.5926\n",
      "Epoch 15/50\n",
      "1/1 [==============================] - 0s 23ms/step - loss: 0.2772 - acc: 0.9764 - val_loss: 0.8694 - val_acc: 0.5926\n",
      "Epoch 16/50\n",
      "1/1 [==============================] - 0s 24ms/step - loss: 0.2389 - acc: 0.9858 - val_loss: 0.8799 - val_acc: 0.6111\n",
      "Epoch 17/50\n",
      "1/1 [==============================] - 0s 22ms/step - loss: 0.2102 - acc: 0.9906 - val_loss: 0.8858 - val_acc: 0.6296\n",
      "Epoch 18/50\n",
      "1/1 [==============================] - 0s 25ms/step - loss: 0.1842 - acc: 0.9906 - val_loss: 0.8859 - val_acc: 0.6296\n",
      "Epoch 19/50\n",
      "1/1 [==============================] - 0s 23ms/step - loss: 0.1588 - acc: 0.9953 - val_loss: 0.8824 - val_acc: 0.6296\n",
      "Epoch 20/50\n",
      "1/1 [==============================] - 0s 23ms/step - loss: 0.1351 - acc: 0.9953 - val_loss: 0.8779 - val_acc: 0.6296\n",
      "Epoch 21/50\n",
      "1/1 [==============================] - 0s 23ms/step - loss: 0.1145 - acc: 1.0000 - val_loss: 0.8741 - val_acc: 0.6481\n",
      "Epoch 22/50\n",
      "1/1 [==============================] - 0s 24ms/step - loss: 0.0979 - acc: 1.0000 - val_loss: 0.8724 - val_acc: 0.6481\n",
      "Epoch 23/50\n",
      "1/1 [==============================] - 0s 24ms/step - loss: 0.0850 - acc: 1.0000 - val_loss: 0.8729 - val_acc: 0.6481\n",
      "Epoch 24/50\n",
      "1/1 [==============================] - 0s 23ms/step - loss: 0.0750 - acc: 1.0000 - val_loss: 0.8755 - val_acc: 0.6481\n",
      "Epoch 25/50\n",
      "1/1 [==============================] - 0s 24ms/step - loss: 0.0669 - acc: 1.0000 - val_loss: 0.8794 - val_acc: 0.6481\n",
      "Epoch 26/50\n",
      "1/1 [==============================] - 0s 22ms/step - loss: 0.0597 - acc: 1.0000 - val_loss: 0.8840 - val_acc: 0.6481\n",
      "Epoch 27/50\n",
      "1/1 [==============================] - 0s 24ms/step - loss: 0.0530 - acc: 1.0000 - val_loss: 0.8887 - val_acc: 0.6481\n",
      "Epoch 28/50\n",
      "1/1 [==============================] - 0s 24ms/step - loss: 0.0470 - acc: 1.0000 - val_loss: 0.8933 - val_acc: 0.6481\n",
      "Epoch 29/50\n",
      "1/1 [==============================] - 0s 29ms/step - loss: 0.0418 - acc: 1.0000 - val_loss: 0.8975 - val_acc: 0.6481\n",
      "Epoch 30/50\n",
      "1/1 [==============================] - 0s 23ms/step - loss: 0.0375 - acc: 1.0000 - val_loss: 0.9012 - val_acc: 0.6481\n",
      "Epoch 31/50\n",
      "1/1 [==============================] - 0s 22ms/step - loss: 0.0341 - acc: 1.0000 - val_loss: 0.9045 - val_acc: 0.6481\n",
      "Epoch 32/50\n",
      "1/1 [==============================] - 0s 23ms/step - loss: 0.0313 - acc: 1.0000 - val_loss: 0.9076 - val_acc: 0.6481\n",
      "Epoch 33/50\n",
      "1/1 [==============================] - 0s 23ms/step - loss: 0.0290 - acc: 1.0000 - val_loss: 0.9111 - val_acc: 0.6481\n",
      "Epoch 34/50\n",
      "1/1 [==============================] - 0s 23ms/step - loss: 0.0270 - acc: 1.0000 - val_loss: 0.9150 - val_acc: 0.6481\n",
      "Epoch 35/50\n",
      "1/1 [==============================] - 0s 23ms/step - loss: 0.0251 - acc: 1.0000 - val_loss: 0.9196 - val_acc: 0.6481\n",
      "Epoch 36/50\n",
      "1/1 [==============================] - 0s 24ms/step - loss: 0.0233 - acc: 1.0000 - val_loss: 0.9244 - val_acc: 0.6481\n",
      "Epoch 37/50\n",
      "1/1 [==============================] - 0s 22ms/step - loss: 0.0217 - acc: 1.0000 - val_loss: 0.9293 - val_acc: 0.6296\n",
      "Epoch 38/50\n",
      "1/1 [==============================] - 0s 24ms/step - loss: 0.0203 - acc: 1.0000 - val_loss: 0.9338 - val_acc: 0.6296\n",
      "Epoch 39/50\n",
      "1/1 [==============================] - 0s 23ms/step - loss: 0.0190 - acc: 1.0000 - val_loss: 0.9377 - val_acc: 0.6296\n",
      "Epoch 40/50\n",
      "1/1 [==============================] - 0s 24ms/step - loss: 0.0178 - acc: 1.0000 - val_loss: 0.9409 - val_acc: 0.6296\n",
      "Epoch 41/50\n",
      "1/1 [==============================] - 0s 22ms/step - loss: 0.0168 - acc: 1.0000 - val_loss: 0.9431 - val_acc: 0.6296\n",
      "Epoch 42/50\n",
      "1/1 [==============================] - 0s 24ms/step - loss: 0.0159 - acc: 1.0000 - val_loss: 0.9446 - val_acc: 0.6296\n",
      "Epoch 43/50\n",
      "1/1 [==============================] - 0s 23ms/step - loss: 0.0151 - acc: 1.0000 - val_loss: 0.9453 - val_acc: 0.6296\n",
      "Epoch 44/50\n",
      "1/1 [==============================] - 0s 23ms/step - loss: 0.0144 - acc: 1.0000 - val_loss: 0.9454 - val_acc: 0.6296\n",
      "Epoch 45/50\n",
      "1/1 [==============================] - 0s 24ms/step - loss: 0.0138 - acc: 1.0000 - val_loss: 0.9451 - val_acc: 0.6481\n",
      "Epoch 46/50\n",
      "1/1 [==============================] - 0s 23ms/step - loss: 0.0132 - acc: 1.0000 - val_loss: 0.9447 - val_acc: 0.6481\n",
      "Epoch 47/50\n",
      "1/1 [==============================] - 0s 24ms/step - loss: 0.0126 - acc: 1.0000 - val_loss: 0.9442 - val_acc: 0.6481\n",
      "Epoch 48/50\n",
      "1/1 [==============================] - 0s 23ms/step - loss: 0.0121 - acc: 1.0000 - val_loss: 0.9439 - val_acc: 0.6481\n",
      "Epoch 49/50\n",
      "1/1 [==============================] - 0s 23ms/step - loss: 0.0116 - acc: 1.0000 - val_loss: 0.9439 - val_acc: 0.6481\n",
      "Epoch 50/50\n",
      "1/1 [==============================] - 0s 23ms/step - loss: 0.0112 - acc: 1.0000 - val_loss: 0.9443 - val_acc: 0.6481\n",
      "Model: \"sequential_3\"\n",
      "_________________________________________________________________\n",
      " Layer (type)                Output Shape              Param #   \n",
      "=================================================================\n",
      " module_wrapper_6 (ModuleWra  (None, 42, 30)           38430     \n",
      " pper)                                                           \n",
      "                                                                 \n",
      " module_wrapper_7 (ModuleWra  (None, 50)               4050      \n",
      " pper)                                                           \n",
      "                                                                 \n",
      " dense_3 (Dense)             (None, 3)                 153       \n",
      "                                                                 \n",
      "=================================================================\n",
      "Total params: 42,633\n",
      "Trainable params: 42,633\n",
      "Non-trainable params: 0\n",
      "_________________________________________________________________\n"
     ]
    }
   ],
   "source": [
    "embedding_vector_length=100\n",
    "max_review_length=30\n",
    "model = Sequential()\n",
    "model.add(Embedding(input_dim=nb_chars+1, output_dim=max_review_length, input_length = embedding_vector_length))\n",
    "\n",
    "model.add(SimpleRNN(50, return_sequences=False))\n",
    "\n",
    "model.add(Dense(3, activation='softmax'))\n",
    "model.compile(loss='categorical_crossentropy', optimizer='adam', metrics=['acc'])\n",
    "model.fit(x_train,\\\n",
    "          y_train,\\\n",
    "          batch_size=256,\\\n",
    "          epochs=50,\\\n",
    "          validation_data=(x_test,y_test))\n",
    "model.summary()"
   ]
  },
  {
   "cell_type": "code",
   "execution_count": 33,
   "metadata": {},
   "outputs": [],
   "source": [
    "#LSTM拟合"
   ]
  },
  {
   "cell_type": "code",
   "execution_count": 34,
   "metadata": {},
   "outputs": [],
   "source": [
    "from keras.preprocessing.text import Tokenizer\n",
    "from tensorflow.keras.preprocessing.sequence import pad_sequences\n",
    "from keras.models import Sequential\n",
    "from keras import layers\n",
    "from keras.utils.np_utils import *"
   ]
  },
  {
   "cell_type": "code",
   "execution_count": 35,
   "metadata": {},
   "outputs": [],
   "source": [
    "import pickle"
   ]
  },
  {
   "cell_type": "code",
   "execution_count": 36,
   "metadata": {},
   "outputs": [],
   "source": [
    "def load_data(df, input_shape=20):\n",
    "    # 标签及词汇表\n",
    "    labels, vocabulary = list(df['label'].unique()), list(df['clean_text'].unique())\n",
    "    # 构造字符级别的特征\n",
    "    string = ''\n",
    "    for word in vocabulary:\n",
    "        string += word\n",
    "    vocabulary = set(string)\n",
    "    # 字典列表\n",
    "    word_dictionary = {word: i+1 for i, word in enumerate(vocabulary)}\n",
    "    with open('word_dict.pk', 'wb') as f:\n",
    "        pickle.dump(word_dictionary, f)\n",
    "    inverse_word_dictionary = {i+1: word for i, word in enumerate(vocabulary)}\n",
    "    label_dictionary = {label: i for i, label in enumerate(labels)}\n",
    "    with open('label_dict.pk', 'wb') as f:\n",
    "        pickle.dump(label_dictionary, f)\n",
    "    output_dictionary = {i: labels for i, labels in enumerate(labels)}\n",
    "    vocab_size = len(word_dictionary.keys()) # 词汇表大小\n",
    "    label_size = len(label_dictionary.keys()) # 标签类别数量\n",
    "    # 序列填充，按input_shape填充，长度不足的按0补充\n",
    "    x = [[word_dictionary[word] for word in sent] for sent in df['clean_text']]\n",
    "    x = pad_sequences(maxlen=input_shape, sequences=x, padding='post', value=0)\n",
    "    y = [[label_dictionary[sent]] for sent in df['label']]\n",
    "    y = [to_categorical(label, num_classes=label_size) for label in y]\n",
    "    y = np.array([list(_[0]) for _ in y])\n",
    "    return x, y, output_dictionary, vocab_size, label_size, inverse_word_dictionary"
   ]
  },
  {
   "cell_type": "code",
   "execution_count": 41,
   "metadata": {},
   "outputs": [],
   "source": [
    "x, y, output_dictionary, vocab_size, label_size, inverse_word_dictionary = load_data(df,input_shape=500)"
   ]
  },
  {
   "cell_type": "code",
   "execution_count": 47,
   "metadata": {},
   "outputs": [],
   "source": [
    "input_shape = 500\n",
    "output_dim = 100\n",
    "lstm_model = Sequential()\n",
    "lstm_model.add(Embedding(input_dim=vocab_size + 1, output_dim=output_dim,\n",
    "                    input_length=input_shape, mask_zero=True))\n",
    "lstm_model.add(LSTM(3, input_shape=(x.shape[0], x.shape[1])))\n",
    "lstm_model.add(Dropout(0.2))\n",
    "lstm_model.add(Dense(label_size, activation='softmax'))\n",
    "lstm_model.compile(loss='categorical_crossentropy', optimizer='adam', metrics=['accuracy'])\n",
    "#plot_model(model, to_file='./model_lstm.png', show_shapes=True)"
   ]
  },
  {
   "cell_type": "code",
   "execution_count": 48,
   "metadata": {},
   "outputs": [],
   "source": [
    "train_x, test_x, train_y, test_y = train_test_split(x, y, test_size = 0.2, random_state = 42)"
   ]
  },
  {
   "cell_type": "code",
   "execution_count": 49,
   "metadata": {},
   "outputs": [
    {
     "name": "stdout",
     "output_type": "stream",
     "text": [
      "Epoch 1/100\n",
      "2/2 [==============================] - 2s 585ms/step - loss: 1.1011 - accuracy: 0.2689 - val_loss: 1.0924 - val_accuracy: 0.5556\n",
      "Epoch 2/100\n",
      "2/2 [==============================] - 0s 137ms/step - loss: 1.0885 - accuracy: 0.5755 - val_loss: 1.0829 - val_accuracy: 0.5556\n",
      "Epoch 3/100\n",
      "2/2 [==============================] - 0s 135ms/step - loss: 1.0775 - accuracy: 0.6085 - val_loss: 1.0737 - val_accuracy: 0.5556\n",
      "Epoch 4/100\n",
      "2/2 [==============================] - 0s 133ms/step - loss: 1.0644 - accuracy: 0.6179 - val_loss: 1.0644 - val_accuracy: 0.5556\n",
      "Epoch 5/100\n",
      "2/2 [==============================] - 0s 136ms/step - loss: 1.0528 - accuracy: 0.6132 - val_loss: 1.0550 - val_accuracy: 0.5556\n",
      "Epoch 6/100\n",
      "2/2 [==============================] - 0s 135ms/step - loss: 1.0388 - accuracy: 0.6132 - val_loss: 1.0456 - val_accuracy: 0.5556\n",
      "Epoch 7/100\n",
      "2/2 [==============================] - 0s 134ms/step - loss: 1.0261 - accuracy: 0.6132 - val_loss: 1.0363 - val_accuracy: 0.5556\n",
      "Epoch 8/100\n",
      "2/2 [==============================] - 0s 133ms/step - loss: 1.0117 - accuracy: 0.6132 - val_loss: 1.0270 - val_accuracy: 0.5556\n",
      "Epoch 9/100\n",
      "2/2 [==============================] - 0s 134ms/step - loss: 1.0066 - accuracy: 0.6132 - val_loss: 1.0182 - val_accuracy: 0.5556\n",
      "Epoch 10/100\n",
      "2/2 [==============================] - 0s 135ms/step - loss: 0.9936 - accuracy: 0.6085 - val_loss: 1.0097 - val_accuracy: 0.5556\n",
      "Epoch 11/100\n",
      "2/2 [==============================] - 0s 135ms/step - loss: 0.9780 - accuracy: 0.6132 - val_loss: 1.0017 - val_accuracy: 0.5556\n",
      "Epoch 12/100\n",
      "2/2 [==============================] - 0s 134ms/step - loss: 0.9777 - accuracy: 0.6132 - val_loss: 0.9943 - val_accuracy: 0.5556\n",
      "Epoch 13/100\n",
      "2/2 [==============================] - 0s 134ms/step - loss: 0.9602 - accuracy: 0.6085 - val_loss: 0.9877 - val_accuracy: 0.5556\n",
      "Epoch 14/100\n",
      "2/2 [==============================] - 0s 135ms/step - loss: 0.9586 - accuracy: 0.6085 - val_loss: 0.9822 - val_accuracy: 0.5556\n",
      "Epoch 15/100\n",
      "2/2 [==============================] - 0s 135ms/step - loss: 0.9556 - accuracy: 0.5943 - val_loss: 0.9777 - val_accuracy: 0.5556\n",
      "Epoch 16/100\n",
      "2/2 [==============================] - 0s 133ms/step - loss: 0.9378 - accuracy: 0.5991 - val_loss: 0.9742 - val_accuracy: 0.5556\n",
      "Epoch 17/100\n",
      "2/2 [==============================] - 0s 136ms/step - loss: 0.9403 - accuracy: 0.6179 - val_loss: 0.9718 - val_accuracy: 0.5556\n",
      "Epoch 18/100\n",
      "2/2 [==============================] - 0s 133ms/step - loss: 0.9306 - accuracy: 0.5991 - val_loss: 0.9705 - val_accuracy: 0.5556\n",
      "Epoch 19/100\n",
      "2/2 [==============================] - 0s 134ms/step - loss: 0.9392 - accuracy: 0.5849 - val_loss: 0.9699 - val_accuracy: 0.5556\n",
      "Epoch 20/100\n",
      "2/2 [==============================] - 0s 135ms/step - loss: 0.9182 - accuracy: 0.6038 - val_loss: 0.9699 - val_accuracy: 0.5556\n",
      "Epoch 21/100\n",
      "2/2 [==============================] - 0s 136ms/step - loss: 0.9211 - accuracy: 0.6085 - val_loss: 0.9704 - val_accuracy: 0.5556\n",
      "Epoch 22/100\n",
      "2/2 [==============================] - 0s 135ms/step - loss: 0.9177 - accuracy: 0.6179 - val_loss: 0.9712 - val_accuracy: 0.5556\n",
      "Epoch 23/100\n",
      "2/2 [==============================] - 0s 135ms/step - loss: 0.9310 - accuracy: 0.6226 - val_loss: 0.9722 - val_accuracy: 0.5556\n",
      "Epoch 24/100\n",
      "2/2 [==============================] - 0s 135ms/step - loss: 0.9242 - accuracy: 0.6038 - val_loss: 0.9731 - val_accuracy: 0.5556\n",
      "Epoch 25/100\n",
      "2/2 [==============================] - 0s 133ms/step - loss: 0.9225 - accuracy: 0.6132 - val_loss: 0.9737 - val_accuracy: 0.5556\n",
      "Epoch 26/100\n",
      "2/2 [==============================] - 0s 133ms/step - loss: 0.9198 - accuracy: 0.6132 - val_loss: 0.9738 - val_accuracy: 0.5556\n",
      "Epoch 27/100\n",
      "2/2 [==============================] - 0s 134ms/step - loss: 0.9127 - accuracy: 0.6132 - val_loss: 0.9736 - val_accuracy: 0.5556\n",
      "Epoch 28/100\n",
      "2/2 [==============================] - 0s 136ms/step - loss: 0.9278 - accuracy: 0.6132 - val_loss: 0.9731 - val_accuracy: 0.5556\n",
      "Epoch 29/100\n",
      "2/2 [==============================] - 0s 135ms/step - loss: 0.9097 - accuracy: 0.6132 - val_loss: 0.9726 - val_accuracy: 0.5556\n",
      "Epoch 30/100\n",
      "2/2 [==============================] - 0s 135ms/step - loss: 0.9237 - accuracy: 0.6132 - val_loss: 0.9719 - val_accuracy: 0.5556\n",
      "Epoch 31/100\n",
      "2/2 [==============================] - 0s 136ms/step - loss: 0.9314 - accuracy: 0.6132 - val_loss: 0.9710 - val_accuracy: 0.5556\n",
      "Epoch 32/100\n",
      "2/2 [==============================] - 0s 133ms/step - loss: 0.9053 - accuracy: 0.6132 - val_loss: 0.9702 - val_accuracy: 0.5556\n",
      "Epoch 33/100\n",
      "2/2 [==============================] - 0s 134ms/step - loss: 0.9028 - accuracy: 0.6132 - val_loss: 0.9694 - val_accuracy: 0.5556\n",
      "Epoch 34/100\n",
      "2/2 [==============================] - 0s 134ms/step - loss: 0.8951 - accuracy: 0.6132 - val_loss: 0.9689 - val_accuracy: 0.5556\n",
      "Epoch 35/100\n",
      "2/2 [==============================] - 0s 134ms/step - loss: 0.9005 - accuracy: 0.6132 - val_loss: 0.9682 - val_accuracy: 0.5556\n",
      "Epoch 36/100\n",
      "2/2 [==============================] - 0s 133ms/step - loss: 0.8771 - accuracy: 0.6132 - val_loss: 0.9678 - val_accuracy: 0.5556\n",
      "Epoch 37/100\n",
      "2/2 [==============================] - 0s 134ms/step - loss: 0.9005 - accuracy: 0.6179 - val_loss: 0.9675 - val_accuracy: 0.5556\n",
      "Epoch 38/100\n",
      "2/2 [==============================] - 0s 135ms/step - loss: 0.9031 - accuracy: 0.6132 - val_loss: 0.9673 - val_accuracy: 0.5556\n",
      "Epoch 39/100\n",
      "2/2 [==============================] - 0s 134ms/step - loss: 0.8926 - accuracy: 0.6132 - val_loss: 0.9670 - val_accuracy: 0.5556\n",
      "Epoch 40/100\n",
      "2/2 [==============================] - 0s 134ms/step - loss: 0.8957 - accuracy: 0.6132 - val_loss: 0.9667 - val_accuracy: 0.5556\n",
      "Epoch 41/100\n",
      "2/2 [==============================] - 0s 134ms/step - loss: 0.9005 - accuracy: 0.6179 - val_loss: 0.9664 - val_accuracy: 0.5556\n",
      "Epoch 42/100\n",
      "2/2 [==============================] - 0s 135ms/step - loss: 0.8855 - accuracy: 0.6179 - val_loss: 0.9662 - val_accuracy: 0.5556\n",
      "Epoch 43/100\n",
      "2/2 [==============================] - 0s 134ms/step - loss: 0.8972 - accuracy: 0.6179 - val_loss: 0.9660 - val_accuracy: 0.5556\n",
      "Epoch 44/100\n",
      "2/2 [==============================] - 0s 134ms/step - loss: 0.8733 - accuracy: 0.6179 - val_loss: 0.9660 - val_accuracy: 0.5556\n",
      "Epoch 45/100\n",
      "2/2 [==============================] - 0s 134ms/step - loss: 0.9047 - accuracy: 0.6179 - val_loss: 0.9658 - val_accuracy: 0.5556\n",
      "Epoch 46/100\n",
      "2/2 [==============================] - 0s 136ms/step - loss: 0.8708 - accuracy: 0.6179 - val_loss: 0.9657 - val_accuracy: 0.5556\n",
      "Epoch 47/100\n",
      "2/2 [==============================] - 0s 136ms/step - loss: 0.8938 - accuracy: 0.6132 - val_loss: 0.9656 - val_accuracy: 0.5556\n",
      "Epoch 48/100\n",
      "2/2 [==============================] - 0s 137ms/step - loss: 0.8886 - accuracy: 0.6226 - val_loss: 0.9655 - val_accuracy: 0.5556\n",
      "Epoch 49/100\n",
      "2/2 [==============================] - 0s 135ms/step - loss: 0.8716 - accuracy: 0.6132 - val_loss: 0.9654 - val_accuracy: 0.5556\n",
      "Epoch 50/100\n",
      "2/2 [==============================] - 0s 136ms/step - loss: 0.8758 - accuracy: 0.6132 - val_loss: 0.9652 - val_accuracy: 0.5556\n",
      "Epoch 51/100\n",
      "2/2 [==============================] - 0s 134ms/step - loss: 0.8690 - accuracy: 0.6226 - val_loss: 0.9650 - val_accuracy: 0.5556\n",
      "Epoch 52/100\n",
      "2/2 [==============================] - 0s 134ms/step - loss: 0.8925 - accuracy: 0.6226 - val_loss: 0.9648 - val_accuracy: 0.5556\n",
      "Epoch 53/100\n",
      "2/2 [==============================] - 0s 134ms/step - loss: 0.8872 - accuracy: 0.6179 - val_loss: 0.9646 - val_accuracy: 0.5556\n",
      "Epoch 54/100\n",
      "2/2 [==============================] - 0s 134ms/step - loss: 0.8739 - accuracy: 0.6179 - val_loss: 0.9648 - val_accuracy: 0.5556\n",
      "Epoch 55/100\n",
      "2/2 [==============================] - 0s 136ms/step - loss: 0.8650 - accuracy: 0.6226 - val_loss: 0.9650 - val_accuracy: 0.5556\n",
      "Epoch 56/100\n",
      "2/2 [==============================] - 0s 134ms/step - loss: 0.8653 - accuracy: 0.6274 - val_loss: 0.9656 - val_accuracy: 0.5556\n",
      "Epoch 57/100\n",
      "2/2 [==============================] - 0s 135ms/step - loss: 0.8656 - accuracy: 0.6226 - val_loss: 0.9660 - val_accuracy: 0.5556\n",
      "Epoch 58/100\n",
      "2/2 [==============================] - 0s 133ms/step - loss: 0.8645 - accuracy: 0.6226 - val_loss: 0.9663 - val_accuracy: 0.5556\n"
     ]
    },
    {
     "name": "stdout",
     "output_type": "stream",
     "text": [
      "Epoch 59/100\n",
      "2/2 [==============================] - 0s 133ms/step - loss: 0.8747 - accuracy: 0.6226 - val_loss: 0.9664 - val_accuracy: 0.5556\n",
      "Epoch 60/100\n",
      "2/2 [==============================] - 0s 133ms/step - loss: 0.8467 - accuracy: 0.6226 - val_loss: 0.9669 - val_accuracy: 0.5556\n",
      "Epoch 61/100\n",
      "2/2 [==============================] - 0s 135ms/step - loss: 0.8621 - accuracy: 0.6274 - val_loss: 0.9672 - val_accuracy: 0.5556\n",
      "Epoch 62/100\n",
      "2/2 [==============================] - 0s 134ms/step - loss: 0.8284 - accuracy: 0.6274 - val_loss: 0.9687 - val_accuracy: 0.5556\n",
      "Epoch 63/100\n",
      "2/2 [==============================] - 0s 134ms/step - loss: 0.8591 - accuracy: 0.6226 - val_loss: 0.9702 - val_accuracy: 0.5556\n",
      "Epoch 64/100\n",
      "2/2 [==============================] - 0s 133ms/step - loss: 0.8761 - accuracy: 0.6179 - val_loss: 0.9713 - val_accuracy: 0.5556\n",
      "Epoch 65/100\n",
      "2/2 [==============================] - 0s 133ms/step - loss: 0.8484 - accuracy: 0.6226 - val_loss: 0.9723 - val_accuracy: 0.5556\n",
      "Epoch 66/100\n",
      "2/2 [==============================] - 0s 134ms/step - loss: 0.8494 - accuracy: 0.6179 - val_loss: 0.9732 - val_accuracy: 0.5556\n",
      "Epoch 67/100\n",
      "2/2 [==============================] - 0s 134ms/step - loss: 0.8512 - accuracy: 0.6226 - val_loss: 0.9742 - val_accuracy: 0.5556\n",
      "Epoch 68/100\n",
      "2/2 [==============================] - 0s 133ms/step - loss: 0.8306 - accuracy: 0.6321 - val_loss: 0.9751 - val_accuracy: 0.5556\n",
      "Epoch 69/100\n",
      "2/2 [==============================] - 0s 136ms/step - loss: 0.8593 - accuracy: 0.6179 - val_loss: 0.9751 - val_accuracy: 0.5556\n",
      "Epoch 70/100\n",
      "2/2 [==============================] - 0s 134ms/step - loss: 0.8583 - accuracy: 0.6274 - val_loss: 0.9753 - val_accuracy: 0.5556\n",
      "Epoch 71/100\n",
      "2/2 [==============================] - 0s 134ms/step - loss: 0.8386 - accuracy: 0.6274 - val_loss: 0.9753 - val_accuracy: 0.5556\n",
      "Epoch 72/100\n",
      "2/2 [==============================] - 0s 135ms/step - loss: 0.8334 - accuracy: 0.6226 - val_loss: 0.9755 - val_accuracy: 0.5556\n",
      "Epoch 73/100\n",
      "2/2 [==============================] - 0s 135ms/step - loss: 0.8570 - accuracy: 0.6226 - val_loss: 0.9756 - val_accuracy: 0.5556\n",
      "Epoch 74/100\n",
      "2/2 [==============================] - 0s 136ms/step - loss: 0.8341 - accuracy: 0.6226 - val_loss: 0.9750 - val_accuracy: 0.5556\n",
      "Epoch 75/100\n",
      "2/2 [==============================] - 0s 132ms/step - loss: 0.8191 - accuracy: 0.6179 - val_loss: 0.9754 - val_accuracy: 0.5556\n",
      "Epoch 76/100\n",
      "2/2 [==============================] - 0s 133ms/step - loss: 0.8496 - accuracy: 0.6321 - val_loss: 0.9752 - val_accuracy: 0.5556\n",
      "Epoch 77/100\n",
      "2/2 [==============================] - 0s 135ms/step - loss: 0.8443 - accuracy: 0.6274 - val_loss: 0.9755 - val_accuracy: 0.5556\n",
      "Epoch 78/100\n",
      "2/2 [==============================] - 0s 134ms/step - loss: 0.8300 - accuracy: 0.6321 - val_loss: 0.9761 - val_accuracy: 0.5556\n",
      "Epoch 79/100\n",
      "2/2 [==============================] - 0s 133ms/step - loss: 0.8400 - accuracy: 0.6179 - val_loss: 0.9770 - val_accuracy: 0.5556\n",
      "Epoch 80/100\n",
      "2/2 [==============================] - 0s 134ms/step - loss: 0.8379 - accuracy: 0.6321 - val_loss: 0.9760 - val_accuracy: 0.5556\n",
      "Epoch 81/100\n",
      "2/2 [==============================] - 0s 134ms/step - loss: 0.8460 - accuracy: 0.6321 - val_loss: 0.9748 - val_accuracy: 0.5556\n",
      "Epoch 82/100\n",
      "2/2 [==============================] - 0s 136ms/step - loss: 0.8247 - accuracy: 0.6368 - val_loss: 0.9769 - val_accuracy: 0.5556\n",
      "Epoch 83/100\n",
      "2/2 [==============================] - 0s 132ms/step - loss: 0.8171 - accuracy: 0.6274 - val_loss: 0.9800 - val_accuracy: 0.5556\n",
      "Epoch 84/100\n",
      "2/2 [==============================] - 0s 135ms/step - loss: 0.8305 - accuracy: 0.6274 - val_loss: 0.9826 - val_accuracy: 0.5556\n",
      "Epoch 85/100\n",
      "2/2 [==============================] - 0s 135ms/step - loss: 0.8293 - accuracy: 0.6274 - val_loss: 0.9846 - val_accuracy: 0.5556\n",
      "Epoch 86/100\n",
      "2/2 [==============================] - 0s 135ms/step - loss: 0.8399 - accuracy: 0.6368 - val_loss: 0.9846 - val_accuracy: 0.5556\n",
      "Epoch 87/100\n",
      "2/2 [==============================] - 0s 135ms/step - loss: 0.8175 - accuracy: 0.6321 - val_loss: 0.9839 - val_accuracy: 0.5556\n",
      "Epoch 88/100\n",
      "2/2 [==============================] - 0s 132ms/step - loss: 0.8145 - accuracy: 0.6321 - val_loss: 0.9833 - val_accuracy: 0.5556\n",
      "Epoch 89/100\n",
      "2/2 [==============================] - 0s 136ms/step - loss: 0.8052 - accuracy: 0.6462 - val_loss: 0.9829 - val_accuracy: 0.5556\n",
      "Epoch 90/100\n",
      "2/2 [==============================] - 0s 134ms/step - loss: 0.8276 - accuracy: 0.6274 - val_loss: 0.9825 - val_accuracy: 0.5556\n",
      "Epoch 91/100\n",
      "2/2 [==============================] - 0s 134ms/step - loss: 0.8214 - accuracy: 0.6368 - val_loss: 0.9824 - val_accuracy: 0.5556\n",
      "Epoch 92/100\n",
      "2/2 [==============================] - 0s 136ms/step - loss: 0.8084 - accuracy: 0.6462 - val_loss: 0.9833 - val_accuracy: 0.5556\n",
      "Epoch 93/100\n",
      "2/2 [==============================] - 0s 134ms/step - loss: 0.8205 - accuracy: 0.6415 - val_loss: 0.9838 - val_accuracy: 0.5556\n",
      "Epoch 94/100\n",
      "2/2 [==============================] - 0s 135ms/step - loss: 0.8127 - accuracy: 0.6462 - val_loss: 0.9853 - val_accuracy: 0.5556\n",
      "Epoch 95/100\n",
      "2/2 [==============================] - 0s 136ms/step - loss: 0.7976 - accuracy: 0.6509 - val_loss: 0.9874 - val_accuracy: 0.5556\n",
      "Epoch 96/100\n",
      "2/2 [==============================] - 0s 135ms/step - loss: 0.8120 - accuracy: 0.6462 - val_loss: 0.9883 - val_accuracy: 0.5556\n",
      "Epoch 97/100\n",
      "2/2 [==============================] - 0s 131ms/step - loss: 0.8187 - accuracy: 0.6415 - val_loss: 0.9901 - val_accuracy: 0.5556\n",
      "Epoch 98/100\n",
      "2/2 [==============================] - 0s 132ms/step - loss: 0.8066 - accuracy: 0.6368 - val_loss: 0.9925 - val_accuracy: 0.5556\n",
      "Epoch 99/100\n",
      "2/2 [==============================] - 0s 135ms/step - loss: 0.8141 - accuracy: 0.6415 - val_loss: 0.9939 - val_accuracy: 0.5556\n",
      "Epoch 100/100\n",
      "2/2 [==============================] - 0s 136ms/step - loss: 0.7927 - accuracy: 0.6415 - val_loss: 0.9953 - val_accuracy: 0.5556\n"
     ]
    },
    {
     "name": "stderr",
     "output_type": "stream",
     "text": [
      "WARNING:absl:Found untraced functions such as embedding_6_layer_call_fn, embedding_6_layer_call_and_return_conditional_losses, lstm_cell_1_layer_call_fn, lstm_cell_1_layer_call_and_return_conditional_losses while saving (showing 4 of 4). These functions will not be directly callable after loading.\n"
     ]
    },
    {
     "name": "stdout",
     "output_type": "stream",
     "text": [
      "INFO:tensorflow:Assets written to: lstm.pkl/assets\n"
     ]
    },
    {
     "name": "stderr",
     "output_type": "stream",
     "text": [
      "INFO:tensorflow:Assets written to: lstm.pkl/assets\n"
     ]
    },
    {
     "name": "stdout",
     "output_type": "stream",
     "text": [
      "1/1 [==============================] - 0s 443ms/step\n",
      "also support need early treatment nusinersen since shortly loading phase complete rate ventilation among nusinersen treated subjects separated controls Positive Positive\n",
      "1/1 [==============================] - 0s 20ms/step\n",
      "particular interest fdc comprises two pangenotypic components high potency high genetic barrier Neutral Positive\n",
      "1/1 [==============================] - 0s 21ms/step\n",
      "objectives study ct p10 3 3 demonstrate similarity pharmacokinetics non inferiority efficacy ct p10 rituxan primary endpoints coadministered cvp patients advanced fl objectives met furthermore extrapolation context nhl cll indications acceptable Positive Positive\n",
      "1/1 [==============================] - 0s 21ms/step\n",
      "lack long term data beyond 30 weeks frc Negative Positive\n",
      "1/1 [==============================] - 0s 21ms/step\n",
      "overall safety profile pps considered concern Positive Positive\n",
      "1/1 [==============================] - 0s 21ms/step\n",
      "8 week course sof vel vox similarly efficacious 12 weeks sof vel difficult cure daa na cirrhotic gt3 cohort Positive Positive\n",
      "1/1 [==============================] - 0s 21ms/step\n",
      "planned extension studies ct p10 3 2 ra ct p10 3 3 afl ct p10 3 4 ltbfl listed rmp provide additional long term safety data Neutral Positive\n",
      "1/1 [==============================] - 0s 19ms/step\n",
      "overall chmp view available clinical safety data adequate purpose assessing safety cladribine use treatment adult patients highly active rms Positive Positive\n",
      "1/1 [==============================] - 0s 19ms/step\n",
      "although toxicity appears manageable intended combination onset frequent severe toxicity may occur larger database longer term Negative Positive\n",
      "1/1 [==============================] - 0s 20ms/step\n",
      "new safety concerns identified development program clinical trial population Positive Positive\n",
      "1/1 [==============================] - 0s 20ms/step\n",
      "active comparator study demonstrated efficacy sarilumab monotherapy relative biologic dmard adalimumab Positive Positive\n",
      "1/1 [==============================] - 0s 20ms/step\n",
      "bioequivalence applied product ivabradine film coated tablets 7 5 mg respective strength reference product procoralan film coated tablets les laboratoires servier demonstrated one bioequivalence study study 14 vin 785 Positive Positive\n",
      "1/1 [==============================] - 0s 21ms/step\n",
      "summary literature regard clinical data tadalafil two bioequivalence studies provided demonstrate active substance differ significantly properties regards safety efficacy reference product accepted chmp Positive Positive\n",
      "1/1 [==============================] - 0s 20ms/step\n",
      "recommendation supported data lixisenatide file showing statistically significant differences observed pre breakfast pre dinner dosing lixisenatide Neutral Positive\n",
      "1/1 [==============================] - 0s 20ms/step\n",
      "new unexpected adverse reactions noted fixed combination lixisenatide insulin glargine frc compared mono components Positive Positive\n",
      "1/1 [==============================] - 0s 20ms/step\n",
      "planned extension studies ct p10 3 2 ra ct p10 3 3 afl ct p10 3 4 ltbfl listed rmp provide additional long term safety data Neutral Positive\n",
      "1/1 [==============================] - 0s 20ms/step\n",
      "chmp considers following measures necessary address missing efficacy data 1st line treatment context conditional Negative Positive\n",
      "1/1 [==============================] - 0s 20ms/step\n",
      "overall risk minimisation measures including safety information product information well prescriber patient guide considered adequate address risks cladribine treatment data gathered post marketing setting Positive Positive\n",
      "1/1 [==============================] - 0s 20ms/step\n",
      "hcv gt1 infected population widely represented eu observed results 99 svr12 achieved convenient 8 weeks treatment duration non cirrhotic tn te prs patients 97 cirrhotic patients 12 weeks treatment duration support fact fdc represent optimization therapeutic armamentarium Positive Positive\n",
      "1/1 [==============================] - 0s 20ms/step\n",
      "overall safety profile ct p10 appeared roughly similar reference product although pooled incidences aes saes generally lower reference products Neutral Positive\n",
      "1/1 [==============================] - 0s 20ms/step\n",
      "due heparin like structure pps weak anticoagulant effect observed pps patients risk factors increased bleeding undergoing invasive procedures underlying coagulopathy taking anticoagulants carefully evaluated haemorrhage treatment Negative Positive\n",
      "1/1 [==============================] - 0s 20ms/step\n",
      "studies frc always taken breakfast whereas proposed smpc states suliqua taken prior meal Neutral Positive\n",
      "1/1 [==============================] - 0s 21ms/step\n",
      "conclusions concerning recommended use discussed b r section Neutral Positive\n",
      "1/1 [==============================] - 0s 20ms/step\n",
      "addition fatality rate nusinersen treated subjects infantile onset sma half sham controlled subjects Positive Positive\n",
      "1/1 [==============================] - 0s 20ms/step\n",
      "frc decrease hba1c achieved without increase body weight without increase reporting hypoglycaemia compared patients monotherapy insulin glargine Positive Positive\n",
      "1/1 [==============================] - 0s 20ms/step\n",
      "detailed data injection site reactions hypersensitivity anaphylactic reactions requested order allow thorough assessment issue subjects without adas Negative Positive\n",
      "1/1 [==============================] - 0s 20ms/step\n",
      "main safety issues related risks prolonged severe lymphopenia infections including reactivation latent infections opportunistic infections well malignancies Neutral Positive\n",
      "1/1 [==============================] - 0s 20ms/step\n",
      "medicinal product authorised called conditional approval scheme Neutral Positive\n",
      "1/1 [==============================] - 0s 19ms/step\n",
      "incidences documented hypoglycaemic episode comparable frc insulin glargine group Positive Positive\n",
      "1/1 [==============================] - 0s 20ms/step\n",
      "data treated pre symptomatic infants genetically confirmed sma show achieving motor milestones developing muscle strength motor function nusinersen treatment consistent normal infants symptomatic infants sma Positive Positive\n",
      "1/1 [==============================] - 0s 20ms/step\n",
      "therefore available safety data considered supportive biosimilarity ct p10 mabthera Positive Positive\n",
      "1/1 [==============================] - 0s 21ms/step\n",
      "adverse reaction patterns differed however aspect frc group lower frequency subjects gastrointestinal adverse reactions compared lixisenatide group higher frequency subjects reactions compared use insulin glargine Neutral Positive\n",
      "1/1 [==============================] - 0s 20ms/step\n",
      "12 month results study efc12619 supported similar clinical efficacy sar342434 humalog t1dm subjects Positive Positive\n",
      "1/1 [==============================] - 0s 19ms/step\n",
      "pass german real world cohort study submitted additional phv activity address missing information safety efficacy immune compromised patients Negative Positive\n",
      "1/1 [==============================] - 0s 19ms/step\n",
      "appropriately covered maviret smpc addition contra indication ee containing medicines Positive Positive\n",
      "1/1 [==============================] - 0s 20ms/step\n",
      "latter uncertainties due observed imbalance cases occurring patients treated cladribine compared placebo well low number events remained although supportive analyses support causal association Neutral Positive\n",
      "1/1 [==============================] - 0s 19ms/step\n",
      "therefore available safety data considered supportive biosimilarity ct p10 mabthera Positive Positive\n",
      "1/1 [==============================] - 0s 20ms/step\n",
      "size safety database duration exposure considered appropriate evaluation general safety profile insulin lispro sanofi Positive Positive\n",
      "1/1 [==============================] - 0s 19ms/step\n",
      "based data since relapses spms rrms patients underlying inflammatory pathophysiology patients rms instead rrms considered suitable target population Negative Positive\n",
      "1/1 [==============================] - 0s 19ms/step\n",
      "worsening immunogenicity profile observed transitioning humira sb5 Positive Positive\n",
      "1/1 [==============================] - 0s 20ms/step\n",
      "major concerns identified updated analysis Positive Positive\n"
     ]
    },
    {
     "name": "stdout",
     "output_type": "stream",
     "text": [
      "1/1 [==============================] - 0s 20ms/step\n",
      "embrace sm202 phase 2 randomized double blind sham procedure controlled study assess safety tolerability pk efficacy patients eligible participate studies cs3b cs4 Neutral Positive\n",
      "1/1 [==============================] - 0s 20ms/step\n",
      "study triple 5 triple therapy bdp ff gb chf 5993 statistically significant clinically relevant superior effect pre dose 2 h post dose fev1 week 26 bdp ff foster Positive Positive\n",
      "1/1 [==============================] - 0s 19ms/step\n",
      "nusinersen demonstrated favourable safety efficacy pattern treatment infantile onset sma randomized controlled clinical study study cs3b Positive Positive\n",
      "1/1 [==============================] - 0s 19ms/step\n",
      "superiority placebo demonstrated dupilumab doses monotherapy combination tcs ad patients insufficiently controlled topical therapies alone Positive Positive\n",
      "1/1 [==============================] - 0s 20ms/step\n",
      "pivotal ra trial efficacy results terms das28 acr shown comparable ct p10 mabthera Positive Positive\n",
      "1/1 [==============================] - 0s 20ms/step\n",
      "overall chf 5993 pmdi shown benefits reduction exacerbation frequency improvement lung function two large phase iii studies Positive Positive\n",
      "1/1 [==============================] - 0s 20ms/step\n",
      "parameters chf 5993 pmdi foster pmdi tiotropium generally showed similar effect Neutral Positive\n",
      "1/1 [==============================] - 0s 20ms/step\n",
      "safety avelumab proposed indication appears acceptable manageable recommendations proposed smpc rmp Positive Positive\n",
      "1/1 [==============================] - 0s 19ms/step\n",
      "order confirm efficacy chemotherapy na treated patients mah submit final results study emr 100070 003 part b Neutral Positive\n",
      "1/1 [==============================] - 0s 19ms/step\n",
      "risk alt elevations seems lower compared previously authorized ns3 4a remains situations namely case combination ee based regimens identified increased hepatic risk Neutral Positive\n",
      "1/1 [==============================] - 0s 19ms/step\n",
      "addition vox appears increase barrier resistance compared sof vel alone Neutral Positive\n",
      "1/1 [==============================] - 0s 20ms/step\n",
      "studies requested lenvima also provide relevant safety information application Negative Positive\n",
      "1/1 [==============================] - 0s 19ms/step\n",
      "sample size calculated provide adequate power bioequivalence analysis Positive Positive\n",
      "模型在测试集上的准确率为: 0.5555555555555556.\n"
     ]
    }
   ],
   "source": [
    "lstm_model.fit(train_x, train_y, epochs=100, batch_size=128,validation_data=(test_x,test_y))\n",
    "# 模型保存\n",
    "lstm_model.save('lstm.pkl')\n",
    "N = test_x.shape[0]  # 测试的条数\n",
    "predict = []\n",
    "label = []\n",
    "for start, end in zip(range(0, N, 1), range(1, N+1, 1)):\n",
    "    sentence = [inverse_word_dictionary[i] for i in test_x[start] if i != 0]\n",
    "    y_predict = lstm_model.predict(test_x[start:end])\n",
    "    label_predict = output_dictionary[np.argmax(y_predict[0])]\n",
    "    label_true = output_dictionary[np.argmax(test_y[start:end])]\n",
    "    print(''.join(sentence), label_true, label_predict) # 输出预测结果\n",
    "    predict.append(label_predict)\n",
    "    label.append(label_true)\n",
    "acc = accuracy_score(predict, label) # 预测准确率\n",
    "print('模型在测试集上的准确率为: %s.' % acc)"
   ]
  },
  {
   "cell_type": "markdown",
   "metadata": {},
   "source": [
    "## BERT"
   ]
  },
  {
   "cell_type": "code",
   "execution_count": 86,
   "metadata": {},
   "outputs": [
    {
     "name": "stderr",
     "output_type": "stream",
     "text": [
      "/Users/yuxueqi/miniforge3/envs/py38/lib/python3.8/site-packages/tqdm/auto.py:22: TqdmWarning: IProgress not found. Please update jupyter and ipywidgets. See https://ipywidgets.readthedocs.io/en/stable/user_install.html\n",
      "  from .autonotebook import tqdm as notebook_tqdm\n"
     ]
    }
   ],
   "source": [
    "import os\n",
    "import re\n",
    "from tqdm import tqdm\n",
    "import numpy as np\n",
    "import pandas as pd\n",
    "import matplotlib.pyplot as plt\n",
    "\n",
    "%matplotlib inline\n",
    "\n",
    "# Load data and set labels\n",
    "df = pd.read_excel('sentiment_sentences.xlsx')\n",
    "\n",
    "df[['Sentence','label']].drop_duplicates(inplace=True)\n",
    "\n",
    "from sklearn.model_selection import train_test_split\n",
    "X = df.Sentence.values\n",
    "y = df.label.values\n",
    "\n",
    "X_train, X_val, y_train, y_val =\\\n",
    "    train_test_split(X, y, test_size=0.2, random_state=0)\n",
    "\n",
    "import torch\n",
    "device = torch.device(\"cpu\")"
   ]
  },
  {
   "cell_type": "code",
   "execution_count": 88,
   "metadata": {},
   "outputs": [],
   "source": [
    "import nltk\n",
    "from nltk.corpus import stopwords\n",
    "\n",
    "def text_preprocessing(text):\n",
    "    \"\"\"\n",
    "    - Remove entity mentions (eg. '@united')\n",
    "    - Correct errors (eg. '&amp;' to '&')\n",
    "    @param    text (str): a string to be processed.\n",
    "    @return   text (Str): the processed string.\n",
    "    \"\"\"\n",
    "    # Remove '@name'\n",
    "    text = re.sub(r'(@.*?)[\\s]', ' ', text)\n",
    "\n",
    "    # Replace '&amp;' with '&'\n",
    "    text = re.sub(r'&amp;', '&', text)\n",
    "\n",
    "    # Remove trailing whitespace\n",
    "    text = re.sub(r'\\s+', ' ', text).strip()\n",
    "\n",
    "    return text"
   ]
  },
  {
   "cell_type": "code",
   "execution_count": 92,
   "metadata": {},
   "outputs": [
    {
     "ename": "ModuleNotFoundError",
     "evalue": "No module named 'huggingface_hub'",
     "output_type": "error",
     "traceback": [
      "\u001b[0;31m---------------------------------------------------------------------------\u001b[0m",
      "\u001b[0;31mModuleNotFoundError\u001b[0m                       Traceback (most recent call last)",
      "Cell \u001b[0;32mIn [92], line 1\u001b[0m\n\u001b[0;32m----> 1\u001b[0m \u001b[38;5;28;01mfrom\u001b[39;00m \u001b[38;5;21;01mtransformers\u001b[39;00m \u001b[38;5;28;01mimport\u001b[39;00m BertTokenizer\n",
      "File \u001b[0;32m~/miniforge3/envs/py38/lib/python3.8/site-packages/transformers/__init__.py:30\u001b[0m\n\u001b[1;32m     27\u001b[0m \u001b[38;5;28;01mfrom\u001b[39;00m \u001b[38;5;21;01mtyping\u001b[39;00m \u001b[38;5;28;01mimport\u001b[39;00m TYPE_CHECKING\n\u001b[1;32m     29\u001b[0m \u001b[38;5;66;03m# Check the dependencies satisfy the minimal versions required.\u001b[39;00m\n\u001b[0;32m---> 30\u001b[0m \u001b[38;5;28;01mfrom\u001b[39;00m \u001b[38;5;21;01m.\u001b[39;00m \u001b[38;5;28;01mimport\u001b[39;00m dependency_versions_check\n\u001b[1;32m     31\u001b[0m \u001b[38;5;28;01mfrom\u001b[39;00m \u001b[38;5;21;01m.\u001b[39;00m\u001b[38;5;21;01mutils\u001b[39;00m \u001b[38;5;28;01mimport\u001b[39;00m (\n\u001b[1;32m     32\u001b[0m     OptionalDependencyNotAvailable,\n\u001b[1;32m     33\u001b[0m     _LazyModule,\n\u001b[0;32m   (...)\u001b[0m\n\u001b[1;32m     44\u001b[0m     logging,\n\u001b[1;32m     45\u001b[0m )\n\u001b[1;32m     48\u001b[0m logger \u001b[38;5;241m=\u001b[39m logging\u001b[38;5;241m.\u001b[39mget_logger(\u001b[38;5;18m__name__\u001b[39m)  \u001b[38;5;66;03m# pylint: disable=invalid-name\u001b[39;00m\n",
      "File \u001b[0;32m~/miniforge3/envs/py38/lib/python3.8/site-packages/transformers/dependency_versions_check.py:36\u001b[0m\n\u001b[1;32m     33\u001b[0m \u001b[38;5;28;01mif\u001b[39;00m pkg \u001b[38;5;129;01min\u001b[39;00m deps:\n\u001b[1;32m     34\u001b[0m     \u001b[38;5;28;01mif\u001b[39;00m pkg \u001b[38;5;241m==\u001b[39m \u001b[38;5;124m\"\u001b[39m\u001b[38;5;124mtokenizers\u001b[39m\u001b[38;5;124m\"\u001b[39m:\n\u001b[1;32m     35\u001b[0m         \u001b[38;5;66;03m# must be loaded here, or else tqdm check may fail\u001b[39;00m\n\u001b[0;32m---> 36\u001b[0m         \u001b[38;5;28;01mfrom\u001b[39;00m \u001b[38;5;21;01m.\u001b[39;00m\u001b[38;5;21;01mutils\u001b[39;00m \u001b[38;5;28;01mimport\u001b[39;00m is_tokenizers_available\n\u001b[1;32m     38\u001b[0m         \u001b[38;5;28;01mif\u001b[39;00m \u001b[38;5;129;01mnot\u001b[39;00m is_tokenizers_available():\n\u001b[1;32m     39\u001b[0m             \u001b[38;5;28;01mcontinue\u001b[39;00m  \u001b[38;5;66;03m# not required, check version only if installed\u001b[39;00m\n",
      "File \u001b[0;32m~/miniforge3/envs/py38/lib/python3.8/site-packages/transformers/utils/__init__.py:34\u001b[0m\n\u001b[1;32m     25\u001b[0m \u001b[38;5;28;01mfrom\u001b[39;00m \u001b[38;5;21;01m.\u001b[39;00m\u001b[38;5;21;01mconstants\u001b[39;00m \u001b[38;5;28;01mimport\u001b[39;00m IMAGENET_DEFAULT_MEAN, IMAGENET_DEFAULT_STD, IMAGENET_STANDARD_MEAN, IMAGENET_STANDARD_STD\n\u001b[1;32m     26\u001b[0m \u001b[38;5;28;01mfrom\u001b[39;00m \u001b[38;5;21;01m.\u001b[39;00m\u001b[38;5;21;01mdoc\u001b[39;00m \u001b[38;5;28;01mimport\u001b[39;00m (\n\u001b[1;32m     27\u001b[0m     add_code_sample_docstrings,\n\u001b[1;32m     28\u001b[0m     add_end_docstrings,\n\u001b[0;32m   (...)\u001b[0m\n\u001b[1;32m     32\u001b[0m     replace_return_docstrings,\n\u001b[1;32m     33\u001b[0m )\n\u001b[0;32m---> 34\u001b[0m \u001b[38;5;28;01mfrom\u001b[39;00m \u001b[38;5;21;01m.\u001b[39;00m\u001b[38;5;21;01mgeneric\u001b[39;00m \u001b[38;5;28;01mimport\u001b[39;00m (\n\u001b[1;32m     35\u001b[0m     ContextManagers,\n\u001b[1;32m     36\u001b[0m     ExplicitEnum,\n\u001b[1;32m     37\u001b[0m     ModelOutput,\n\u001b[1;32m     38\u001b[0m     PaddingStrategy,\n\u001b[1;32m     39\u001b[0m     TensorType,\n\u001b[1;32m     40\u001b[0m     cached_property,\n\u001b[1;32m     41\u001b[0m     find_labels,\n\u001b[1;32m     42\u001b[0m     flatten_dict,\n\u001b[1;32m     43\u001b[0m     is_tensor,\n\u001b[1;32m     44\u001b[0m     to_numpy,\n\u001b[1;32m     45\u001b[0m     to_py_obj,\n\u001b[1;32m     46\u001b[0m     working_or_temp_dir,\n\u001b[1;32m     47\u001b[0m )\n\u001b[1;32m     48\u001b[0m \u001b[38;5;28;01mfrom\u001b[39;00m \u001b[38;5;21;01m.\u001b[39;00m\u001b[38;5;21;01mhub\u001b[39;00m \u001b[38;5;28;01mimport\u001b[39;00m (\n\u001b[1;32m     49\u001b[0m     CLOUDFRONT_DISTRIB_PREFIX,\n\u001b[1;32m     50\u001b[0m     DISABLE_TELEMETRY,\n\u001b[0;32m   (...)\u001b[0m\n\u001b[1;32m     76\u001b[0m     send_example_telemetry,\n\u001b[1;32m     77\u001b[0m )\n\u001b[1;32m     78\u001b[0m \u001b[38;5;28;01mfrom\u001b[39;00m \u001b[38;5;21;01m.\u001b[39;00m\u001b[38;5;21;01mimport_utils\u001b[39;00m \u001b[38;5;28;01mimport\u001b[39;00m (\n\u001b[1;32m     79\u001b[0m     ENV_VARS_TRUE_AND_AUTO_VALUES,\n\u001b[1;32m     80\u001b[0m     ENV_VARS_TRUE_VALUES,\n\u001b[0;32m   (...)\u001b[0m\n\u001b[1;32m    152\u001b[0m     torch_version,\n\u001b[1;32m    153\u001b[0m )\n",
      "File \u001b[0;32m~/miniforge3/envs/py38/lib/python3.8/site-packages/transformers/utils/generic.py:29\u001b[0m\n\u001b[1;32m     25\u001b[0m \u001b[38;5;28;01mfrom\u001b[39;00m \u001b[38;5;21;01mtyping\u001b[39;00m \u001b[38;5;28;01mimport\u001b[39;00m Any, ContextManager, List, Tuple\n\u001b[1;32m     27\u001b[0m \u001b[38;5;28;01mimport\u001b[39;00m \u001b[38;5;21;01mnumpy\u001b[39;00m \u001b[38;5;28;01mas\u001b[39;00m \u001b[38;5;21;01mnp\u001b[39;00m\n\u001b[0;32m---> 29\u001b[0m \u001b[38;5;28;01mfrom\u001b[39;00m \u001b[38;5;21;01m.\u001b[39;00m\u001b[38;5;21;01mimport_utils\u001b[39;00m \u001b[38;5;28;01mimport\u001b[39;00m is_flax_available, is_tf_available, is_torch_available, is_torch_fx_proxy\n\u001b[1;32m     32\u001b[0m \u001b[38;5;28;01mclass\u001b[39;00m \u001b[38;5;21;01mcached_property\u001b[39;00m(\u001b[38;5;28mproperty\u001b[39m):\n\u001b[1;32m     33\u001b[0m     \u001b[38;5;124;03m\"\"\"\u001b[39;00m\n\u001b[1;32m     34\u001b[0m \u001b[38;5;124;03m    Descriptor that mimics @property but caches output in member variable.\u001b[39;00m\n\u001b[1;32m     35\u001b[0m \n\u001b[0;32m   (...)\u001b[0m\n\u001b[1;32m     38\u001b[0m \u001b[38;5;124;03m    Built-in in functools from Python 3.8.\u001b[39;00m\n\u001b[1;32m     39\u001b[0m \u001b[38;5;124;03m    \"\"\"\u001b[39;00m\n",
      "File \u001b[0;32m~/miniforge3/envs/py38/lib/python3.8/site-packages/transformers/utils/import_utils.py:34\u001b[0m\n\u001b[1;32m     30\u001b[0m \u001b[38;5;28;01mfrom\u001b[39;00m \u001b[38;5;21;01mpackaging\u001b[39;00m \u001b[38;5;28;01mimport\u001b[39;00m version\n\u001b[1;32m     32\u001b[0m \u001b[38;5;28;01mfrom\u001b[39;00m \u001b[38;5;21;01mtransformers\u001b[39;00m\u001b[38;5;21;01m.\u001b[39;00m\u001b[38;5;21;01mutils\u001b[39;00m\u001b[38;5;21;01m.\u001b[39;00m\u001b[38;5;21;01mversions\u001b[39;00m \u001b[38;5;28;01mimport\u001b[39;00m importlib_metadata\n\u001b[0;32m---> 34\u001b[0m \u001b[38;5;28;01mfrom\u001b[39;00m \u001b[38;5;21;01m.\u001b[39;00m \u001b[38;5;28;01mimport\u001b[39;00m logging\n\u001b[1;32m     37\u001b[0m logger \u001b[38;5;241m=\u001b[39m logging\u001b[38;5;241m.\u001b[39mget_logger(\u001b[38;5;18m__name__\u001b[39m)  \u001b[38;5;66;03m# pylint: disable=invalid-name\u001b[39;00m\n\u001b[1;32m     39\u001b[0m ENV_VARS_TRUE_VALUES \u001b[38;5;241m=\u001b[39m {\u001b[38;5;124m\"\u001b[39m\u001b[38;5;124m1\u001b[39m\u001b[38;5;124m\"\u001b[39m, \u001b[38;5;124m\"\u001b[39m\u001b[38;5;124mON\u001b[39m\u001b[38;5;124m\"\u001b[39m, \u001b[38;5;124m\"\u001b[39m\u001b[38;5;124mYES\u001b[39m\u001b[38;5;124m\"\u001b[39m, \u001b[38;5;124m\"\u001b[39m\u001b[38;5;124mTRUE\u001b[39m\u001b[38;5;124m\"\u001b[39m}\n",
      "File \u001b[0;32m~/miniforge3/envs/py38/lib/python3.8/site-packages/transformers/utils/logging.py:33\u001b[0m\n\u001b[1;32m     29\u001b[0m \u001b[38;5;28;01mfrom\u001b[39;00m \u001b[38;5;21;01mtyping\u001b[39;00m \u001b[38;5;28;01mimport\u001b[39;00m Optional\n\u001b[1;32m     31\u001b[0m \u001b[38;5;28;01mfrom\u001b[39;00m \u001b[38;5;21;01mtqdm\u001b[39;00m \u001b[38;5;28;01mimport\u001b[39;00m auto \u001b[38;5;28;01mas\u001b[39;00m tqdm_lib\n\u001b[0;32m---> 33\u001b[0m \u001b[38;5;28;01mimport\u001b[39;00m \u001b[38;5;21;01mhuggingface_hub\u001b[39;00m\u001b[38;5;21;01m.\u001b[39;00m\u001b[38;5;21;01mutils\u001b[39;00m \u001b[38;5;28;01mas\u001b[39;00m \u001b[38;5;21;01mhf_hub_utils\u001b[39;00m\n\u001b[1;32m     36\u001b[0m _lock \u001b[38;5;241m=\u001b[39m threading\u001b[38;5;241m.\u001b[39mLock()\n\u001b[1;32m     37\u001b[0m _default_handler: Optional[logging\u001b[38;5;241m.\u001b[39mHandler] \u001b[38;5;241m=\u001b[39m \u001b[38;5;28;01mNone\u001b[39;00m\n",
      "\u001b[0;31mModuleNotFoundError\u001b[0m: No module named 'huggingface_hub'"
     ]
    }
   ],
   "source": [
    "from transformers import BertTokenizer"
   ]
  },
  {
   "cell_type": "code",
   "execution_count": 91,
   "metadata": {},
   "outputs": [
    {
     "ename": "ModuleNotFoundError",
     "evalue": "No module named 'huggingface_hub'",
     "output_type": "error",
     "traceback": [
      "\u001b[0;31m---------------------------------------------------------------------------\u001b[0m",
      "\u001b[0;31mModuleNotFoundError\u001b[0m                       Traceback (most recent call last)",
      "Cell \u001b[0;32mIn [91], line 1\u001b[0m\n\u001b[0;32m----> 1\u001b[0m \u001b[38;5;28;01mfrom\u001b[39;00m \u001b[38;5;21;01mtransformers\u001b[39;00m \u001b[38;5;28;01mimport\u001b[39;00m BertTokenizer\n\u001b[1;32m      3\u001b[0m \u001b[38;5;66;03m# Load the BERT tokenizer\u001b[39;00m\n\u001b[1;32m      4\u001b[0m tokenizer \u001b[38;5;241m=\u001b[39m BertTokenizer\u001b[38;5;241m.\u001b[39mfrom_pretrained(\u001b[38;5;124m'\u001b[39m\u001b[38;5;124mbert-base-uncased\u001b[39m\u001b[38;5;124m'\u001b[39m, do_lower_case\u001b[38;5;241m=\u001b[39m\u001b[38;5;28;01mTrue\u001b[39;00m)\n",
      "File \u001b[0;32m~/miniforge3/envs/py38/lib/python3.8/site-packages/transformers/__init__.py:30\u001b[0m\n\u001b[1;32m     27\u001b[0m \u001b[38;5;28;01mfrom\u001b[39;00m \u001b[38;5;21;01mtyping\u001b[39;00m \u001b[38;5;28;01mimport\u001b[39;00m TYPE_CHECKING\n\u001b[1;32m     29\u001b[0m \u001b[38;5;66;03m# Check the dependencies satisfy the minimal versions required.\u001b[39;00m\n\u001b[0;32m---> 30\u001b[0m \u001b[38;5;28;01mfrom\u001b[39;00m \u001b[38;5;21;01m.\u001b[39;00m \u001b[38;5;28;01mimport\u001b[39;00m dependency_versions_check\n\u001b[1;32m     31\u001b[0m \u001b[38;5;28;01mfrom\u001b[39;00m \u001b[38;5;21;01m.\u001b[39;00m\u001b[38;5;21;01mutils\u001b[39;00m \u001b[38;5;28;01mimport\u001b[39;00m (\n\u001b[1;32m     32\u001b[0m     OptionalDependencyNotAvailable,\n\u001b[1;32m     33\u001b[0m     _LazyModule,\n\u001b[0;32m   (...)\u001b[0m\n\u001b[1;32m     44\u001b[0m     logging,\n\u001b[1;32m     45\u001b[0m )\n\u001b[1;32m     48\u001b[0m logger \u001b[38;5;241m=\u001b[39m logging\u001b[38;5;241m.\u001b[39mget_logger(\u001b[38;5;18m__name__\u001b[39m)  \u001b[38;5;66;03m# pylint: disable=invalid-name\u001b[39;00m\n",
      "File \u001b[0;32m~/miniforge3/envs/py38/lib/python3.8/site-packages/transformers/dependency_versions_check.py:36\u001b[0m\n\u001b[1;32m     33\u001b[0m \u001b[38;5;28;01mif\u001b[39;00m pkg \u001b[38;5;129;01min\u001b[39;00m deps:\n\u001b[1;32m     34\u001b[0m     \u001b[38;5;28;01mif\u001b[39;00m pkg \u001b[38;5;241m==\u001b[39m \u001b[38;5;124m\"\u001b[39m\u001b[38;5;124mtokenizers\u001b[39m\u001b[38;5;124m\"\u001b[39m:\n\u001b[1;32m     35\u001b[0m         \u001b[38;5;66;03m# must be loaded here, or else tqdm check may fail\u001b[39;00m\n\u001b[0;32m---> 36\u001b[0m         \u001b[38;5;28;01mfrom\u001b[39;00m \u001b[38;5;21;01m.\u001b[39;00m\u001b[38;5;21;01mutils\u001b[39;00m \u001b[38;5;28;01mimport\u001b[39;00m is_tokenizers_available\n\u001b[1;32m     38\u001b[0m         \u001b[38;5;28;01mif\u001b[39;00m \u001b[38;5;129;01mnot\u001b[39;00m is_tokenizers_available():\n\u001b[1;32m     39\u001b[0m             \u001b[38;5;28;01mcontinue\u001b[39;00m  \u001b[38;5;66;03m# not required, check version only if installed\u001b[39;00m\n",
      "File \u001b[0;32m~/miniforge3/envs/py38/lib/python3.8/site-packages/transformers/utils/__init__.py:34\u001b[0m\n\u001b[1;32m     25\u001b[0m \u001b[38;5;28;01mfrom\u001b[39;00m \u001b[38;5;21;01m.\u001b[39;00m\u001b[38;5;21;01mconstants\u001b[39;00m \u001b[38;5;28;01mimport\u001b[39;00m IMAGENET_DEFAULT_MEAN, IMAGENET_DEFAULT_STD, IMAGENET_STANDARD_MEAN, IMAGENET_STANDARD_STD\n\u001b[1;32m     26\u001b[0m \u001b[38;5;28;01mfrom\u001b[39;00m \u001b[38;5;21;01m.\u001b[39;00m\u001b[38;5;21;01mdoc\u001b[39;00m \u001b[38;5;28;01mimport\u001b[39;00m (\n\u001b[1;32m     27\u001b[0m     add_code_sample_docstrings,\n\u001b[1;32m     28\u001b[0m     add_end_docstrings,\n\u001b[0;32m   (...)\u001b[0m\n\u001b[1;32m     32\u001b[0m     replace_return_docstrings,\n\u001b[1;32m     33\u001b[0m )\n\u001b[0;32m---> 34\u001b[0m \u001b[38;5;28;01mfrom\u001b[39;00m \u001b[38;5;21;01m.\u001b[39;00m\u001b[38;5;21;01mgeneric\u001b[39;00m \u001b[38;5;28;01mimport\u001b[39;00m (\n\u001b[1;32m     35\u001b[0m     ContextManagers,\n\u001b[1;32m     36\u001b[0m     ExplicitEnum,\n\u001b[1;32m     37\u001b[0m     ModelOutput,\n\u001b[1;32m     38\u001b[0m     PaddingStrategy,\n\u001b[1;32m     39\u001b[0m     TensorType,\n\u001b[1;32m     40\u001b[0m     cached_property,\n\u001b[1;32m     41\u001b[0m     find_labels,\n\u001b[1;32m     42\u001b[0m     flatten_dict,\n\u001b[1;32m     43\u001b[0m     is_tensor,\n\u001b[1;32m     44\u001b[0m     to_numpy,\n\u001b[1;32m     45\u001b[0m     to_py_obj,\n\u001b[1;32m     46\u001b[0m     working_or_temp_dir,\n\u001b[1;32m     47\u001b[0m )\n\u001b[1;32m     48\u001b[0m \u001b[38;5;28;01mfrom\u001b[39;00m \u001b[38;5;21;01m.\u001b[39;00m\u001b[38;5;21;01mhub\u001b[39;00m \u001b[38;5;28;01mimport\u001b[39;00m (\n\u001b[1;32m     49\u001b[0m     CLOUDFRONT_DISTRIB_PREFIX,\n\u001b[1;32m     50\u001b[0m     DISABLE_TELEMETRY,\n\u001b[0;32m   (...)\u001b[0m\n\u001b[1;32m     76\u001b[0m     send_example_telemetry,\n\u001b[1;32m     77\u001b[0m )\n\u001b[1;32m     78\u001b[0m \u001b[38;5;28;01mfrom\u001b[39;00m \u001b[38;5;21;01m.\u001b[39;00m\u001b[38;5;21;01mimport_utils\u001b[39;00m \u001b[38;5;28;01mimport\u001b[39;00m (\n\u001b[1;32m     79\u001b[0m     ENV_VARS_TRUE_AND_AUTO_VALUES,\n\u001b[1;32m     80\u001b[0m     ENV_VARS_TRUE_VALUES,\n\u001b[0;32m   (...)\u001b[0m\n\u001b[1;32m    152\u001b[0m     torch_version,\n\u001b[1;32m    153\u001b[0m )\n",
      "File \u001b[0;32m~/miniforge3/envs/py38/lib/python3.8/site-packages/transformers/utils/generic.py:29\u001b[0m\n\u001b[1;32m     25\u001b[0m \u001b[38;5;28;01mfrom\u001b[39;00m \u001b[38;5;21;01mtyping\u001b[39;00m \u001b[38;5;28;01mimport\u001b[39;00m Any, ContextManager, List, Tuple\n\u001b[1;32m     27\u001b[0m \u001b[38;5;28;01mimport\u001b[39;00m \u001b[38;5;21;01mnumpy\u001b[39;00m \u001b[38;5;28;01mas\u001b[39;00m \u001b[38;5;21;01mnp\u001b[39;00m\n\u001b[0;32m---> 29\u001b[0m \u001b[38;5;28;01mfrom\u001b[39;00m \u001b[38;5;21;01m.\u001b[39;00m\u001b[38;5;21;01mimport_utils\u001b[39;00m \u001b[38;5;28;01mimport\u001b[39;00m is_flax_available, is_tf_available, is_torch_available, is_torch_fx_proxy\n\u001b[1;32m     32\u001b[0m \u001b[38;5;28;01mclass\u001b[39;00m \u001b[38;5;21;01mcached_property\u001b[39;00m(\u001b[38;5;28mproperty\u001b[39m):\n\u001b[1;32m     33\u001b[0m     \u001b[38;5;124;03m\"\"\"\u001b[39;00m\n\u001b[1;32m     34\u001b[0m \u001b[38;5;124;03m    Descriptor that mimics @property but caches output in member variable.\u001b[39;00m\n\u001b[1;32m     35\u001b[0m \n\u001b[0;32m   (...)\u001b[0m\n\u001b[1;32m     38\u001b[0m \u001b[38;5;124;03m    Built-in in functools from Python 3.8.\u001b[39;00m\n\u001b[1;32m     39\u001b[0m \u001b[38;5;124;03m    \"\"\"\u001b[39;00m\n",
      "File \u001b[0;32m~/miniforge3/envs/py38/lib/python3.8/site-packages/transformers/utils/import_utils.py:34\u001b[0m\n\u001b[1;32m     30\u001b[0m \u001b[38;5;28;01mfrom\u001b[39;00m \u001b[38;5;21;01mpackaging\u001b[39;00m \u001b[38;5;28;01mimport\u001b[39;00m version\n\u001b[1;32m     32\u001b[0m \u001b[38;5;28;01mfrom\u001b[39;00m \u001b[38;5;21;01mtransformers\u001b[39;00m\u001b[38;5;21;01m.\u001b[39;00m\u001b[38;5;21;01mutils\u001b[39;00m\u001b[38;5;21;01m.\u001b[39;00m\u001b[38;5;21;01mversions\u001b[39;00m \u001b[38;5;28;01mimport\u001b[39;00m importlib_metadata\n\u001b[0;32m---> 34\u001b[0m \u001b[38;5;28;01mfrom\u001b[39;00m \u001b[38;5;21;01m.\u001b[39;00m \u001b[38;5;28;01mimport\u001b[39;00m logging\n\u001b[1;32m     37\u001b[0m logger \u001b[38;5;241m=\u001b[39m logging\u001b[38;5;241m.\u001b[39mget_logger(\u001b[38;5;18m__name__\u001b[39m)  \u001b[38;5;66;03m# pylint: disable=invalid-name\u001b[39;00m\n\u001b[1;32m     39\u001b[0m ENV_VARS_TRUE_VALUES \u001b[38;5;241m=\u001b[39m {\u001b[38;5;124m\"\u001b[39m\u001b[38;5;124m1\u001b[39m\u001b[38;5;124m\"\u001b[39m, \u001b[38;5;124m\"\u001b[39m\u001b[38;5;124mON\u001b[39m\u001b[38;5;124m\"\u001b[39m, \u001b[38;5;124m\"\u001b[39m\u001b[38;5;124mYES\u001b[39m\u001b[38;5;124m\"\u001b[39m, \u001b[38;5;124m\"\u001b[39m\u001b[38;5;124mTRUE\u001b[39m\u001b[38;5;124m\"\u001b[39m}\n",
      "File \u001b[0;32m~/miniforge3/envs/py38/lib/python3.8/site-packages/transformers/utils/logging.py:33\u001b[0m\n\u001b[1;32m     29\u001b[0m \u001b[38;5;28;01mfrom\u001b[39;00m \u001b[38;5;21;01mtyping\u001b[39;00m \u001b[38;5;28;01mimport\u001b[39;00m Optional\n\u001b[1;32m     31\u001b[0m \u001b[38;5;28;01mfrom\u001b[39;00m \u001b[38;5;21;01mtqdm\u001b[39;00m \u001b[38;5;28;01mimport\u001b[39;00m auto \u001b[38;5;28;01mas\u001b[39;00m tqdm_lib\n\u001b[0;32m---> 33\u001b[0m \u001b[38;5;28;01mimport\u001b[39;00m \u001b[38;5;21;01mhuggingface_hub\u001b[39;00m\u001b[38;5;21;01m.\u001b[39;00m\u001b[38;5;21;01mutils\u001b[39;00m \u001b[38;5;28;01mas\u001b[39;00m \u001b[38;5;21;01mhf_hub_utils\u001b[39;00m\n\u001b[1;32m     36\u001b[0m _lock \u001b[38;5;241m=\u001b[39m threading\u001b[38;5;241m.\u001b[39mLock()\n\u001b[1;32m     37\u001b[0m _default_handler: Optional[logging\u001b[38;5;241m.\u001b[39mHandler] \u001b[38;5;241m=\u001b[39m \u001b[38;5;28;01mNone\u001b[39;00m\n",
      "\u001b[0;31mModuleNotFoundError\u001b[0m: No module named 'huggingface_hub'"
     ]
    }
   ],
   "source": [
    "from transformers import BertTokenizer\n",
    "\n",
    "# Load the BERT tokenizer\n",
    "tokenizer = BertTokenizer.from_pretrained('bert-base-uncased', do_lower_case=True)\n",
    "\n",
    "# Create a function to tokenize a set of texts\n",
    "def preprocessing_for_bert(data):\n",
    "    \"\"\"Perform required preprocessing steps for pretrained BERT.\n",
    "    @param    data (np.array): Array of texts to be processed.\n",
    "    @return   input_ids (torch.Tensor): Tensor of token ids to be fed to a model.\n",
    "    @return   attention_masks (torch.Tensor): Tensor of indices specifying which\n",
    "                  tokens should be attended to by the model.\n",
    "    \"\"\"\n",
    "    # Create empty lists to store outputs\n",
    "    input_ids = []\n",
    "    attention_masks = []\n",
    "\n",
    "    # For every sentence...\n",
    "    for sent in data:\n",
    "        # `encode_plus` will:\n",
    "        #    (1) Tokenize the sentence\n",
    "        #    (2) Add the `[CLS]` and `[SEP]` token to the start and end\n",
    "        #    (3) Truncate/Pad sentence to max length\n",
    "        #    (4) Map tokens to their IDs\n",
    "        #    (5) Create attention mask\n",
    "        #    (6) Return a dictionary of outputs\n",
    "        encoded_sent = tokenizer.encode_plus(\n",
    "            text=text_preprocessing(sent),  # Preprocess sentence\n",
    "            add_special_tokens=True,        # Add `[CLS]` and `[SEP]`\n",
    "            max_length=MAX_LEN,                  # Max length to truncate/pad\n",
    "            pad_to_max_length=True,         # Pad sentence to max length\n",
    "            #return_tensors='pt',           # Return PyTorch tensor\n",
    "            return_attention_mask=True      # Return attention mask\n",
    "            )\n",
    "        \n",
    "        # Add the outputs to the lists\n",
    "        input_ids.append(encoded_sent.get('input_ids'))\n",
    "        attention_masks.append(encoded_sent.get('attention_mask'))\n",
    "\n",
    "    # Convert lists to tensors\n",
    "    input_ids = torch.tensor(input_ids)\n",
    "    attention_masks = torch.tensor(attention_masks)\n",
    "\n",
    "    return input_ids, attention_masks"
   ]
  }
 ],
 "metadata": {
  "kernelspec": {
   "display_name": "tensorflow",
   "language": "python",
   "name": "py38"
  },
  "language_info": {
   "codemirror_mode": {
    "name": "ipython",
    "version": 3
   },
   "file_extension": ".py",
   "mimetype": "text/x-python",
   "name": "python",
   "nbconvert_exporter": "python",
   "pygments_lexer": "ipython3",
   "version": "3.8.13"
  }
 },
 "nbformat": 4,
 "nbformat_minor": 4
}
