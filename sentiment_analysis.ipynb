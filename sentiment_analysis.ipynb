{
 "cells": [
  {
   "cell_type": "markdown",
   "metadata": {},
   "source": [
    "# 1. DATA EXPLORATION"
   ]
  },
  {
   "cell_type": "code",
   "execution_count": 1,
   "metadata": {},
   "outputs": [],
   "source": [
    "import pandas as pd\n",
    "import seaborn as sns\n",
    "import matplotlib.pyplot as plt\n",
    "# Preprocessing and Feature Engineering\n",
    "from textblob import TextBlob\n",
    "import re \n",
    "from nltk.corpus import stopwords\n",
    "from nltk.stem.wordnet import WordNetLemmatizer"
   ]
  },
  {
   "cell_type": "code",
   "execution_count": 2,
   "metadata": {},
   "outputs": [],
   "source": [
    "df = pd.read_excel('sentences_with_sentiment.xlsx')"
   ]
  },
  {
   "cell_type": "code",
   "execution_count": 3,
   "metadata": {
    "scrolled": false
   },
   "outputs": [],
   "source": [
    "df = df[['Sentence','Positive','Negative','Neutral']].drop_duplicates()"
   ]
  },
  {
   "cell_type": "code",
   "execution_count": 4,
   "metadata": {},
   "outputs": [
    {
     "data": {
      "text/plain": [
       "1    236\n",
       "dtype: int64"
      ]
     },
     "execution_count": 4,
     "metadata": {},
     "output_type": "execute_result"
    }
   ],
   "source": [
    "(df ['Positive']+df ['Negative']+df ['Neutral']).value_counts()"
   ]
  },
  {
   "cell_type": "code",
   "execution_count": 5,
   "metadata": {},
   "outputs": [],
   "source": [
    "df['label'] = df[['Positive','Negative','Neutral']].idxmax(axis=1)"
   ]
  },
  {
   "cell_type": "code",
   "execution_count": 6,
   "metadata": {},
   "outputs": [],
   "source": [
    "df[['Sentence','label']].to_excel('sentiment_sentences.xlsx',index=False)"
   ]
  },
  {
   "cell_type": "code",
   "execution_count": 7,
   "metadata": {
    "scrolled": true
   },
   "outputs": [],
   "source": [
    "df_label_count = df['label'].value_counts().reset_index()"
   ]
  },
  {
   "cell_type": "code",
   "execution_count": 8,
   "metadata": {
    "scrolled": true
   },
   "outputs": [
    {
     "data": {
      "text/html": [
       "<div>\n",
       "<style scoped>\n",
       "    .dataframe tbody tr th:only-of-type {\n",
       "        vertical-align: middle;\n",
       "    }\n",
       "\n",
       "    .dataframe tbody tr th {\n",
       "        vertical-align: top;\n",
       "    }\n",
       "\n",
       "    .dataframe thead th {\n",
       "        text-align: right;\n",
       "    }\n",
       "</style>\n",
       "<table border=\"1\" class=\"dataframe\">\n",
       "  <thead>\n",
       "    <tr style=\"text-align: right;\">\n",
       "      <th></th>\n",
       "      <th>index</th>\n",
       "      <th>label</th>\n",
       "    </tr>\n",
       "  </thead>\n",
       "  <tbody>\n",
       "    <tr>\n",
       "      <th>0</th>\n",
       "      <td>Positive</td>\n",
       "      <td>140</td>\n",
       "    </tr>\n",
       "    <tr>\n",
       "      <th>1</th>\n",
       "      <td>Neutral</td>\n",
       "      <td>64</td>\n",
       "    </tr>\n",
       "    <tr>\n",
       "      <th>2</th>\n",
       "      <td>Negative</td>\n",
       "      <td>32</td>\n",
       "    </tr>\n",
       "  </tbody>\n",
       "</table>\n",
       "</div>"
      ],
      "text/plain": [
       "      index  label\n",
       "0  Positive    140\n",
       "1   Neutral     64\n",
       "2  Negative     32"
      ]
     },
     "execution_count": 8,
     "metadata": {},
     "output_type": "execute_result"
    }
   ],
   "source": [
    "df_label_count"
   ]
  },
  {
   "cell_type": "code",
   "execution_count": 9,
   "metadata": {},
   "outputs": [
    {
     "data": {
      "text/html": [
       "<div>\n",
       "<style scoped>\n",
       "    .dataframe tbody tr th:only-of-type {\n",
       "        vertical-align: middle;\n",
       "    }\n",
       "\n",
       "    .dataframe tbody tr th {\n",
       "        vertical-align: top;\n",
       "    }\n",
       "\n",
       "    .dataframe thead th {\n",
       "        text-align: right;\n",
       "    }\n",
       "</style>\n",
       "<table border=\"1\" class=\"dataframe\">\n",
       "  <thead>\n",
       "    <tr style=\"text-align: right;\">\n",
       "      <th></th>\n",
       "      <th>Sentence</th>\n",
       "      <th>label</th>\n",
       "    </tr>\n",
       "  </thead>\n",
       "  <tbody>\n",
       "    <tr>\n",
       "      <th>90</th>\n",
       "      <td>Furthermore, encouraging signs of a prolonged OS were seen in patients treated with the combination of lenvatinib and everolimus combination therapy as per the primary analysis as well as the two updated analyses that span a more than 1-year period.</td>\n",
       "      <td>Positive</td>\n",
       "    </tr>\n",
       "    <tr>\n",
       "      <th>113</th>\n",
       "      <td>Maintenance of the treatment effect in year 3 and 4 was supported by long-term data from CLARITY EXT.</td>\n",
       "      <td>Positive</td>\n",
       "    </tr>\n",
       "    <tr>\n",
       "      <th>215</th>\n",
       "      <td>The recommendation has been further supported by data from the lixisenatide file, showing that no statistically significant differences are observed between pre-breakfast or pre-dinner dosing of lixisenatide.</td>\n",
       "      <td>Neutral</td>\n",
       "    </tr>\n",
       "    <tr>\n",
       "      <th>85</th>\n",
       "      <td>Sarilumab is associated with infections (including serious infections), decrease in ANC and platelet count, and increase in ALT and lipids, all of which are events consistent with the known effect of IL-6 inhibition, and with injection site reactions, consistent with a SC route of administration.</td>\n",
       "      <td>Neutral</td>\n",
       "    </tr>\n",
       "    <tr>\n",
       "      <th>254</th>\n",
       "      <td>SOF/VEL/VOX for 12 weeks has shown excellent efficacy in patients that have previously failed a regimen containing an NS5A inhibitor.</td>\n",
       "      <td>Positive</td>\n",
       "    </tr>\n",
       "    <tr>\n",
       "      <th>240</th>\n",
       "      <td>Nevertheless, the responder analysis indicates a benefit for CHF 5993 compared with Foster on TDI symptoms for a greater proportion of patients.</td>\n",
       "      <td>Positive</td>\n",
       "    </tr>\n",
       "    <tr>\n",
       "      <th>87</th>\n",
       "      <td>The efficacy of the combination of lenvatinib with everolimus has been shown.</td>\n",
       "      <td>Positive</td>\n",
       "    </tr>\n",
       "    <tr>\n",
       "      <th>239</th>\n",
       "      <td>TDI focal score, the third co-primary endpoint, had a clinically relevant improvement with both treatments, but the mean difference between treatments in TDI focal score at week 26 was not statistically significant.</td>\n",
       "      <td>Neutral</td>\n",
       "    </tr>\n",
       "    <tr>\n",
       "      <th>59</th>\n",
       "      <td>With regard to immunogenicity, the incidence and titre distribution of ADAs were compared and seemed similar for SB5 and Humira, with about half of all subjects developing neutralising antibodies in each treatment group.</td>\n",
       "      <td>Positive</td>\n",
       "    </tr>\n",
       "    <tr>\n",
       "      <th>172</th>\n",
       "      <td>Also the psoriasis study met the primary endpoint with a point estimate of difference of 2% with narrow CIs, indicating similarity.</td>\n",
       "      <td>Positive</td>\n",
       "    </tr>\n",
       "  </tbody>\n",
       "</table>\n",
       "</div>"
      ],
      "text/plain": [
       "                                                                                                                                                                                                                                                                                                      Sentence  \\\n",
       "90                                                   Furthermore, encouraging signs of a prolonged OS were seen in patients treated with the combination of lenvatinib and everolimus combination therapy as per the primary analysis as well as the two updated analyses that span a more than 1-year period.   \n",
       "113                                                                                                                                                                                                      Maintenance of the treatment effect in year 3 and 4 was supported by long-term data from CLARITY EXT.   \n",
       "215                                                                                           The recommendation has been further supported by data from the lixisenatide file, showing that no statistically significant differences are observed between pre-breakfast or pre-dinner dosing of lixisenatide.   \n",
       "85   Sarilumab is associated with infections (including serious infections), decrease in ANC and platelet count, and increase in ALT and lipids, all of which are events consistent with the known effect of IL-6 inhibition, and with injection site reactions, consistent with a SC route of administration.   \n",
       "254                                                                                                                                                                      SOF/VEL/VOX for 12 weeks has shown excellent efficacy in patients that have previously failed a regimen containing an NS5A inhibitor.   \n",
       "240                                                                                                                                                           Nevertheless, the responder analysis indicates a benefit for CHF 5993 compared with Foster on TDI symptoms for a greater proportion of patients.   \n",
       "87                                                                                                                                                                                                                               The efficacy of the combination of lenvatinib with everolimus has been shown.   \n",
       "239                                                                                    TDI focal score, the third co-primary endpoint, had a clinically relevant improvement with both treatments, but the mean difference between treatments in TDI focal score at week 26 was not statistically significant.   \n",
       "59                                                                                With regard to immunogenicity, the incidence and titre distribution of ADAs were compared and seemed similar for SB5 and Humira, with about half of all subjects developing neutralising antibodies in each treatment group.   \n",
       "172                                                                                                                                                                        Also the psoriasis study met the primary endpoint with a point estimate of difference of 2% with narrow CIs, indicating similarity.   \n",
       "\n",
       "        label  \n",
       "90   Positive  \n",
       "113  Positive  \n",
       "215   Neutral  \n",
       "85    Neutral  \n",
       "254  Positive  \n",
       "240  Positive  \n",
       "87   Positive  \n",
       "239   Neutral  \n",
       "59   Positive  \n",
       "172  Positive  "
      ]
     },
     "execution_count": 9,
     "metadata": {},
     "output_type": "execute_result"
    }
   ],
   "source": [
    "pd.set_option('max_colwidth',None)\n",
    "df[['Sentence','label']].sample(10)"
   ]
  },
  {
   "cell_type": "code",
   "execution_count": 10,
   "metadata": {},
   "outputs": [
    {
     "data": {
      "text/plain": [
       "<AxesSubplot: >"
      ]
     },
     "execution_count": 10,
     "metadata": {},
     "output_type": "execute_result"
    },
    {
     "data": {
      "image/png": "[encoded data removed]",
      "text/plain": [
       "<Figure size 640x480 with 1 Axes>"
      ]
     },
     "metadata": {},
     "output_type": "display_data"
    }
   ],
   "source": [
    "df['Sentence'].apply(lambda x:len(x.split(' '))).hist()"
   ]
  },
  {
   "cell_type": "code",
   "execution_count": 11,
   "metadata": {},
   "outputs": [
    {
     "data": {
      "text/plain": [
       "<matplotlib.legend.Legend at 0x169480cd0>"
      ]
     },
     "execution_count": 11,
     "metadata": {},
     "output_type": "execute_result"
    },
    {
     "data": {
      "image/png": "[encoded data removed]",
      "text/plain": [
       "<Figure size 640x480 with 1 Axes>"
      ]
     },
     "metadata": {},
     "output_type": "display_data"
    }
   ],
   "source": [
    "import matplotlib.pyplot as plt\n",
    "import numpy as np\n",
    "\n",
    "def make_autopct(values):\n",
    "    def my_autopct(pct):\n",
    "        total = sum(values)\n",
    "        val = int(round(pct*total/100.0))\n",
    "        # display number and percentage\n",
    "        return '{p:.1f}%({v:d})'.format(p=pct,v=val)\n",
    "    return my_autopct\n",
    "\n",
    "plt.pie(df_label_count['label'],pctdistance=0.8,autopct=make_autopct(df_label_count['label']))\n",
    "plt.pie([1],radius=0.6,colors='w')\n",
    "plt.legend(df_label_count['index'],loc='upper right')"
   ]
  },
  {
   "cell_type": "code",
   "execution_count": 12,
   "metadata": {},
   "outputs": [],
   "source": [
    "pd.options.display.notebook_repr_html=False  # 表格显示\n",
    "plt.rcParams['figure.dpi'] = 75  # 图形分辨率\n",
    "sns.set_theme(style='darkgrid')  # 图形主题"
   ]
  },
  {
   "cell_type": "code",
   "execution_count": 13,
   "metadata": {
    "scrolled": true
   },
   "outputs": [
    {
     "data": {
      "text/plain": [
       "<AxesSubplot: xlabel='label', ylabel='count'>"
      ]
     },
     "execution_count": 13,
     "metadata": {},
     "output_type": "execute_result"
    },
    {
     "data": {
      "image/png": "[encoded data removed]",
      "text/plain": [
       "<Figure size 480x360 with 1 Axes>"
      ]
     },
     "metadata": {},
     "output_type": "display_data"
    }
   ],
   "source": [
    "sns.countplot(x='label',data=df)"
   ]
  },
  {
   "cell_type": "markdown",
   "metadata": {},
   "source": [
    "## 1.1 Preprocessing: Clean Texts"
   ]
  },
  {
   "cell_type": "code",
   "execution_count": 11,
   "metadata": {},
   "outputs": [],
   "source": [
    "from nltk.stem import WordNetLemmatizer\n",
    "from nltk.tokenize import TweetTokenizer\n",
    "from nltk.corpus import stopwords\n",
    "from nltk.tag import pos_tag\n",
    "import pandas as pd\n",
    "from bs4 import BeautifulSoup\n",
    "import re"
   ]
  },
  {
   "cell_type": "code",
   "execution_count": 12,
   "metadata": {},
   "outputs": [],
   "source": [
    "def from_sentence(text):\n",
    "    text_blob = TextBlob(text)\n",
    "    return ' '.join(text_blob.words)\n",
    "\n",
    "def no_stopwords(text):\n",
    "    stop_words = stopwords.words('english')\n",
    "    stop_words = list(set(stop_words)-{'no','nor','not',\"don't\",\"aren't\",\n",
    "                                      \"couldn't\",\"didn't\", \"doesn't\", \"hadn't\",\n",
    "                                      \"hasn't\",  \"haven't\", \"isn't\",  \"mightn't\",\n",
    "                                      \"mustn't\",  \"needn't\",  \"shan't\", \"shouldn't\",\n",
    "                                       \"wasn't\", 'weren', \"weren't\",  \"won't\", \"wouldn't\"})\n",
    "    clean_tokens = [t for t in text.split() if re.match(r'[^\\W\\d]*\\w*$',t)]\n",
    "    clean_s = ' '.join(clean_tokens)\n",
    "    clean_mess = [word.lower() for word in clean_s.split() if word.lower() not in stop_words]\n",
    "    return clean_mess\n",
    "\n",
    "def normalization(text_list):\n",
    "    lem = WordNetLemmatizer()\n",
    "    normalized_words = []\n",
    "    for word in text_list:\n",
    "        normalized_text = lem.lemmatize(word,'v')\n",
    "        normalized_words.append(normalized_text)\n",
    "    return normalized_words"
   ]
  },
  {
   "cell_type": "code",
   "execution_count": 13,
   "metadata": {},
   "outputs": [],
   "source": [
    "df['clean_sentence'] = df['Sentence'].apply(lambda x:' '.join(normalization(no_stopwords(from_sentence(x)))))"
   ]
  },
  {
   "cell_type": "code",
   "execution_count": 17,
   "metadata": {},
   "outputs": [],
   "source": [
    "def review_to_words(raw_review):    \n",
    "    # 1. Remove HTML\n",
    "    review_text = BeautifulSoup(raw_review).get_text() \n",
    "    # 2. Remove non-letters        \n",
    "    letters_only = re.sub(\"[^a-zA-Z\\d]\", \" \", review_text) \n",
    "    # 3. Convert to lower case, split into individual words\n",
    "    words = letters_only.lower().split()                             \n",
    "    # 4. In Python, searching a set is much faster than searching\n",
    "    stops = set(stopwords.words(\"english\"))                  \n",
    "    # 5. Remove stop words\n",
    "    meaningful_words = [w for w in words if not w in stops]   \n",
    "    # 6. Join the words back into one string separated by space, \n",
    "    # and return the result.\n",
    "    return ' '.join(meaningful_words)"
   ]
  },
  {
   "cell_type": "code",
   "execution_count": 18,
   "metadata": {
    "scrolled": false
   },
   "outputs": [
    {
     "name": "stderr",
     "output_type": "stream",
     "text": [
      "/Users/yuxueqi/miniforge3/envs/py38/lib/python3.8/site-packages/bs4/__init__.py:435: MarkupResemblesLocatorWarning: The input looks more like a filename than markup. You may want to open this file and pass the filehandle into Beautiful Soup.\n",
      "  warnings.warn(\n"
     ]
    }
   ],
   "source": [
    "df['clean_text'] = df['Sentence'].apply(lambda x:review_to_words(x))"
   ]
  },
  {
   "cell_type": "markdown",
   "metadata": {},
   "source": [
    "## 1.2 Word Cloud"
   ]
  },
  {
   "cell_type": "code",
   "execution_count": 19,
   "metadata": {},
   "outputs": [],
   "source": [
    "from wordcloud import STOPWORDS,WordCloud\n",
    "from collections import Counter\n",
    "\n",
    "stop_words = STOPWORDS\n",
    "#stop_words.update(['data','patients','study','studies','results','considered','will'])\n",
    "#wordcount = Counter([word for word in ' '.join(df['clean_text']).split(' ') \\\n",
    "#                     if len(word) > 1])\n",
    "wordcount = Counter([word for word in ' '.join(df['clean_sentence']).split(' ')\\\n",
    "                     if len(word) > 1])"
   ]
  },
  {
   "cell_type": "code",
   "execution_count": 20,
   "metadata": {},
   "outputs": [],
   "source": [
    "def get_plt(data, title):\n",
    "    x = [i[0] for i in data]\n",
    "    y = [i[1] for i in data]\n",
    "    fig, ax = plt.subplots()\n",
    "    ax.barh(range(len(x)), y, color='gold')\n",
    "    ax.set_yticks(range(len(x)))\n",
    "    ax.set_yticklabels(x)\n",
    "    plt.title(title, fontsize=10)\n",
    "    plt.ylabel(\"word\")\n",
    "    plt.xlabel('count')\n",
    "    plt.show()"
   ]
  },
  {
   "cell_type": "code",
   "execution_count": 21,
   "metadata": {
    "scrolled": true
   },
   "outputs": [
    {
     "data": {
      "image/png": "[encoded data removed]",
      "text/plain": [
       "<Figure size 480x360 with 1 Axes>"
      ]
     },
     "metadata": {},
     "output_type": "display_data"
    }
   ],
   "source": [
    "get_plt(wordcount.most_common(20),'Top 20 word counts')"
   ]
  },
  {
   "cell_type": "code",
   "execution_count": 34,
   "metadata": {},
   "outputs": [],
   "source": [
    "from PIL import Image\n",
    "import numpy as np\n",
    "from wordcloud import WordCloud, ImageColorGenerator\n",
    "from matplotlib import pyplot as plt\n",
    "\n",
    "cloud_mask = np.array(Image.open(\"/Users/yuxueqi/Downloads/心形.png\"))"
   ]
  },
  {
   "cell_type": "code",
   "execution_count": 36,
   "metadata": {},
   "outputs": [
    {
     "data": {
      "text/plain": [
       "<wordcloud.wordcloud.WordCloud at 0x1683d1310>"
      ]
     },
     "execution_count": 36,
     "metadata": {},
     "output_type": "execute_result"
    }
   ],
   "source": [
    "wc = WordCloud(stopwords=stop_words)\n",
    "\n",
    "wc = WordCloud(background_color=\"white\", \n",
    "    mask=cloud_mask)\n",
    "wc.generate(' '.join(df[df['label']=='Positive']['clean_sentence']))\n",
    "\n",
    "wc.to_file(\"positive_wordcloud.png\")"
   ]
  },
  {
   "cell_type": "code",
   "execution_count": 39,
   "metadata": {
    "scrolled": true
   },
   "outputs": [
    {
     "data": {
      "text/plain": [
       "<wordcloud.wordcloud.WordCloud at 0x1683d1310>"
      ]
     },
     "execution_count": 39,
     "metadata": {},
     "output_type": "execute_result"
    }
   ],
   "source": [
    "wc.generate(' '.join(df[df['label']=='Negative']['clean_sentence']))\n",
    "\n",
    "wc.to_file(\"negative_wordcloud.png\")"
   ]
  },
  {
   "cell_type": "code",
   "execution_count": 40,
   "metadata": {
    "scrolled": true
   },
   "outputs": [
    {
     "data": {
      "text/plain": [
       "<wordcloud.wordcloud.WordCloud at 0x1683d1310>"
      ]
     },
     "execution_count": 40,
     "metadata": {},
     "output_type": "execute_result"
    }
   ],
   "source": [
    "wc.generate(' '.join(df[df['label']=='Neutral']['clean_sentence']))\n",
    "\n",
    "wc.to_file(\"neutral_wordcloud.png\")"
   ]
  },
  {
   "cell_type": "markdown",
   "metadata": {},
   "source": [
    "# 2. Rule Based Methods"
   ]
  },
  {
   "cell_type": "markdown",
   "metadata": {},
   "source": [
    "## 2.1 VADER FROM RULES"
   ]
  },
  {
   "cell_type": "code",
   "execution_count": 29,
   "metadata": {},
   "outputs": [],
   "source": [
    "from vaderSentiment.vaderSentiment import SentimentIntensityAnalyzer\n",
    "from sklearn.metrics import accuracy_score,precision_score,recall_score,classification_report,confusion_matrix"
   ]
  },
  {
   "cell_type": "code",
   "execution_count": 37,
   "metadata": {},
   "outputs": [],
   "source": [
    "def plot_prediction_bar(column,method):\n",
    "    '''\n",
    "    bar plot of prediction vs truth\n",
    "    '''\n",
    "    confusion_mat = confusion_matrix(df['label'],df[column])\n",
    "\n",
    "    ind = [0,5,10]    # the x locations for the groups\n",
    "    width = 1       # the width of the bars: can also be len(x) sequence\n",
    "\n",
    "    p1 = plt.bar(ind, confusion_mat[2,:],width, color='#d62728')#, yerr=menStd)\n",
    "    p2 = plt.bar(ind, confusion_mat[1,:], width,bottom = confusion_mat[2,:])#, yerr=womenStd)\n",
    "    p3 = plt.bar(ind, confusion_mat[0,:], width, bottom = confusion_mat[2,:]+confusion_mat[1,:])\n",
    "    \n",
    "    plt.xlabel('Prediction')\n",
    "    plt.ylabel('Count')\n",
    "    plt.title('Prediction by '+method)\n",
    "    plt.xticks(ind, ('Negative','Neutral','Positive'))\n",
    "    plt.yticks(np.arange(0, 101, 20))\n",
    "    plt.legend((p1[0], p2[0], p3[0]), ('Positive', 'Neutral', 'Negative'))\n",
    "\n",
    "    plt.show()"
   ]
  },
  {
   "cell_type": "code",
   "execution_count": 31,
   "metadata": {},
   "outputs": [],
   "source": [
    "df['vadar_score'] = df['clean_sentence'].apply(lambda x:SentimentIntensityAnalyzer().polarity_scores(x)['compound'])\n",
    "df['vadar_result'] = df['vadar_score'].apply(lambda x:'Positive' if x>0.05 else 'Negative' if x<-0.05 else 'Neutral')"
   ]
  },
  {
   "cell_type": "code",
   "execution_count": 32,
   "metadata": {},
   "outputs": [
    {
     "data": {
      "text/plain": [
       "Positive    134\n",
       "Neutral      59\n",
       "Negative     43\n",
       "Name: vadar_result, dtype: int64"
      ]
     },
     "execution_count": 32,
     "metadata": {},
     "output_type": "execute_result"
    }
   ],
   "source": [
    "df['vadar_result'].value_counts()"
   ]
  },
  {
   "cell_type": "code",
   "execution_count": 33,
   "metadata": {
    "scrolled": true
   },
   "outputs": [
    {
     "data": {
      "text/plain": [
       "0.5127118644067796"
      ]
     },
     "execution_count": 33,
     "metadata": {},
     "output_type": "execute_result"
    }
   ],
   "source": [
    "accuracy_score(df['label'],df['vadar_result'])"
   ]
  },
  {
   "cell_type": "code",
   "execution_count": 34,
   "metadata": {
    "scrolled": true
   },
   "outputs": [
    {
     "name": "stdout",
     "output_type": "stream",
     "text": [
      "              precision    recall  f1-score   support\n",
      "\n",
      "    Negative       0.23      0.31      0.27        32\n",
      "     Neutral       0.39      0.36      0.37        64\n",
      "    Positive       0.66      0.63      0.64       140\n",
      "\n",
      "    accuracy                           0.51       236\n",
      "   macro avg       0.43      0.43      0.43       236\n",
      "weighted avg       0.53      0.51      0.52       236\n",
      "\n"
     ]
    }
   ],
   "source": [
    "print(classification_report(df['label'],df['vadar_result']))"
   ]
  },
  {
   "cell_type": "code",
   "execution_count": 38,
   "metadata": {},
   "outputs": [
    {
     "data": {
      "image/png": "[encoded data removed]",
      "text/plain": [
       "<Figure size 480x360 with 1 Axes>"
      ]
     },
     "metadata": {},
     "output_type": "display_data"
    }
   ],
   "source": [
    "plot_prediction_bar('vadar_result','VADER')"
   ]
  },
  {
   "cell_type": "markdown",
   "metadata": {},
   "source": [
    "## 2.2 Opinion Lexicon Method"
   ]
  },
  {
   "cell_type": "code",
   "execution_count": 105,
   "metadata": {},
   "outputs": [],
   "source": [
    "from nltk.corpus import sentiwordnet as swn\n",
    "from nltk.tokenize import word_tokenize\n",
    "from nltk import pos_tag\n",
    "from nltk.corpus import sentiwordnet\n",
    "from nltk.corpus import wordnet\n",
    "import nltk\n",
    "from sklearn.metrics import confusion_matrix,ConfusionMatrixDisplay,precision_score,\\\n",
    "recall_score,accuracy_score,roc_auc_score,classification_report\n",
    "\n",
    "from nltk.corpus import opinion_lexicon\n",
    "import numpy as np\n",
    "import matplotlib.pyplot as plt"
   ]
  },
  {
   "cell_type": "code",
   "execution_count": 52,
   "metadata": {},
   "outputs": [],
   "source": [
    "def score_from_opinion_lexicon(text):\n",
    "    pos_words = set(text.split(' ')).intersection(set(opinion_lexicon.positive()))\n",
    "    neg_words = set(text.split(' ')).intersection(set(opinion_lexicon.negative()))\n",
    "    pos_num = len(pos_words)\n",
    "    neg_num = len(neg_words)\n",
    "    score = pos_num - neg_num\n",
    "    return {'score':score,'pos_words':pos_words,'neg_words':neg_words}"
   ]
  },
  {
   "cell_type": "code",
   "execution_count": 53,
   "metadata": {},
   "outputs": [],
   "source": [
    "df['score_opnion_lexicon'] = df['clean_sentence'].apply(lambda x:score_from_opinion_lexicon(x))"
   ]
  },
  {
   "cell_type": "code",
   "execution_count": 54,
   "metadata": {},
   "outputs": [],
   "source": [
    "df['predicted_opnion_lexicon'] = df['score_opnion_lexicon'].apply(lambda x:'Positive' if x['score']>0 \\\n",
    "                                                                  else 'Negative' if x['score']<0 else 'Neutral')"
   ]
  },
  {
   "cell_type": "code",
   "execution_count": 55,
   "metadata": {
    "scrolled": false
   },
   "outputs": [
    {
     "data": {
      "text/plain": [
       "Positive    100\n",
       "Neutral      91\n",
       "Negative     45\n",
       "Name: predicted_opnion_lexicon, dtype: int64"
      ]
     },
     "execution_count": 55,
     "metadata": {},
     "output_type": "execute_result"
    }
   ],
   "source": [
    "df['predicted_opnion_lexicon'].value_counts()"
   ]
  },
  {
   "cell_type": "code",
   "execution_count": 66,
   "metadata": {
    "scrolled": true
   },
   "outputs": [
    {
     "data": {
      "text/plain": [
       "0      Positive\n",
       "1      Positive\n",
       "2      Positive\n",
       "3      Positive\n",
       "4      Positive\n",
       "         ...   \n",
       "261     Neutral\n",
       "262    Negative\n",
       "263     Neutral\n",
       "264    Negative\n",
       "265    Negative\n",
       "Name: predicted_opnion_lexicon, Length: 236, dtype: object"
      ]
     },
     "execution_count": 66,
     "metadata": {},
     "output_type": "execute_result"
    }
   ],
   "source": [
    "df['predicted_opnion_lexicon']"
   ]
  },
  {
   "cell_type": "code",
   "execution_count": 80,
   "metadata": {
    "scrolled": true
   },
   "outputs": [
    {
     "data": {
      "text/plain": [
       "Positive    100\n",
       "Neutral      91\n",
       "Negative     45\n",
       "Name: predicted_opnion_lexicon, dtype: int64"
      ]
     },
     "execution_count": 80,
     "metadata": {},
     "output_type": "execute_result"
    }
   ],
   "source": [
    "df['predicted_opnion_lexicon'].value_counts()"
   ]
  },
  {
   "cell_type": "code",
   "execution_count": 70,
   "metadata": {},
   "outputs": [
    {
     "data": {
      "text/plain": [
       "{}              112\n",
       "{support}        14\n",
       "{consistent}      7\n",
       "{regard}          5\n",
       "{sufficient}      4\n",
       "{adequate}        4\n",
       "{benefit}         4\n",
       "{durable}         3\n",
       "{available}       3\n",
       "{well}            3\n",
       "{important}       3\n",
       "Name: score_opnion_lexicon, dtype: int64"
      ]
     },
     "execution_count": 70,
     "metadata": {},
     "output_type": "execute_result"
    }
   ],
   "source": [
    "df['score_opnion_lexicon'].apply(lambda x:x['pos_words']).value_counts().head(11)"
   ]
  },
  {
   "cell_type": "code",
   "execution_count": 65,
   "metadata": {},
   "outputs": [
    {
     "data": {
      "text/plain": [
       "{}                162\n",
       "{concern}          10\n",
       "{issue}             5\n",
       "{risk}              4\n",
       "{severe}            3\n",
       "{adverse}           3\n",
       "{pain}              2\n",
       "{atrophy}           2\n",
       "{inconsistent}      2\n",
       "{severity}          2\n",
       "{limit}             2\n",
       "Name: score_opnion_lexicon, dtype: int64"
      ]
     },
     "execution_count": 65,
     "metadata": {},
     "output_type": "execute_result"
    }
   ],
   "source": [
    "df['score_opnion_lexicon'].apply(lambda x:x['neg_words']).value_counts().head(11)"
   ]
  },
  {
   "cell_type": "code",
   "execution_count": 56,
   "metadata": {},
   "outputs": [
    {
     "name": "stdout",
     "output_type": "stream",
     "text": [
      "              precision    recall  f1-score   support\n",
      "\n",
      "    Negative       0.38      0.53      0.44        32\n",
      "     Neutral       0.29      0.41      0.34        64\n",
      "    Positive       0.71      0.51      0.59       140\n",
      "\n",
      "    accuracy                           0.48       236\n",
      "   macro avg       0.46      0.48      0.46       236\n",
      "weighted avg       0.55      0.48      0.50       236\n",
      "\n"
     ]
    }
   ],
   "source": [
    "print(classification_report(df['label'],df['predicted_opnion_lexicon']))"
   ]
  },
  {
   "cell_type": "code",
   "execution_count": 74,
   "metadata": {},
   "outputs": [],
   "source": [
    "def text_score(text,stop_word_list):\n",
    "    #create word lsit\n",
    "    #nltk.pos_tag是打标签\n",
    "    ttt = nltk.pos_tag([i for i in word_tokenize(str(text).lower()) if i not in stop_word_list])\n",
    "    word_tag_fq = nltk.FreqDist(ttt)\n",
    "    wordlist = word_tag_fq.most_common()\n",
    "\n",
    "    key = []\n",
    "    part = []\n",
    "    frequency = []\n",
    "    for i in range(len(wordlist)):\n",
    "        key.append(wordlist[i][0][0])\n",
    "        part.append(wordlist[i][0][1])\n",
    "        frequency.append(wordlist[i][1])\n",
    "    textdf = pd.DataFrame({'key':key,\n",
    "                      'part':part,\n",
    "                      'frequency':frequency},\n",
    "                      columns=['key','part','frequency'])\n",
    "\n",
    "    #编码\n",
    "    n = ['NN','NNP','NNPS','NNS','UH']\n",
    "    v = ['VB','VBD','VBG','VBN','VBP','VBZ']\n",
    "    a = ['JJ','JJR','JJS']\n",
    "    r = ['RB','RBR','RBS','RP','WRB']\n",
    "\n",
    "    for i in range(len(textdf['key'])):\n",
    "        z = textdf.iloc[i,1]\n",
    "\n",
    "        if z in n:\n",
    "            textdf.iloc[i,1]='n'\n",
    "        elif z in v:\n",
    "            textdf.iloc[i,1]='v'\n",
    "        elif z in a:\n",
    "            textdf.iloc[i,1]='a'\n",
    "        elif z in r:\n",
    "            textdf.iloc[i,1]='r'\n",
    "        else:\n",
    "            textdf.iloc[i,1]=''\n",
    "            \n",
    "    #Calculate sentiment score of a sentence\n",
    "    score = []\n",
    "    for i in range(len(textdf['key'])):\n",
    "        m = list(swn.senti_synsets(textdf.iloc[i,0],textdf.iloc[i,1]))\n",
    "        s = 0\n",
    "        ra = 0\n",
    "        if len(m) > 0:\n",
    "            for j in range(len(m)):\n",
    "                s += (m[j].pos_score()-m[j].neg_score())/(j+1)\n",
    "                ra += 1/(j+1)\n",
    "            score.append(s/ra)\n",
    "        else:\n",
    "            score.append(0)\n",
    "        #pd.concat([textdf,pd.DataFrame({'score':score})],axis=1),    \n",
    "    return sum(score)\n"
   ]
  },
  {
   "cell_type": "code",
   "execution_count": 61,
   "metadata": {},
   "outputs": [],
   "source": [
    "stop_words = stopwords.words('english')\n",
    "stop_words = list(set(stop_words)-{'no','nor','not',\"don't\",\"aren't\",\n",
    "                                      \"couldn't\",\"didn't\", \"doesn't\", \"hadn't\",\n",
    "                                      \"hasn't\",  \"haven't\", \"isn't\",  \"mightn't\",\n",
    "                                      \"mustn't\",  \"needn't\",  \"shan't\", \"shouldn't\",\n",
    "                                       \"wasn't\", 'weren', \"weren't\",  \"won't\", \"wouldn't\"})"
   ]
  },
  {
   "cell_type": "code",
   "execution_count": 76,
   "metadata": {},
   "outputs": [
    {
     "data": {
      "text/plain": [
       " 0.000    199\n",
       " 0.375     15\n",
       " 0.125     13\n",
       "-0.500      5\n",
       " 0.250      3\n",
       "-0.125      1\n",
       "Name: Sentence, dtype: int64"
      ]
     },
     "execution_count": 76,
     "metadata": {},
     "output_type": "execute_result"
    }
   ],
   "source": [
    "df['Sentence'].apply(lambda x:text_score(x,stop_words)).value_counts()"
   ]
  },
  {
   "cell_type": "markdown",
   "metadata": {},
   "source": [
    "# MACHINE LEARNING METHODS"
   ]
  },
  {
   "cell_type": "code",
   "execution_count": 66,
   "metadata": {},
   "outputs": [],
   "source": [
    "from sklearn.feature_extraction.text import TfidfVectorizer\n",
    "from sklearn.preprocessing import FunctionTransformer\n",
    "from sklearn.model_selection import train_test_split\n",
    "from sklearn.naive_bayes import MultinomialNB, GaussianNB\n",
    "from sklearn.pipeline import Pipeline\n",
    "from sklearn.metrics import accuracy_score,precision_score,recall_score,classification_report,confusion_matrix"
   ]
  },
  {
   "cell_type": "code",
   "execution_count": 194,
   "metadata": {},
   "outputs": [],
   "source": [
    "def plot_prediction_test_train_bar(column,index_train,index_test,method):\n",
    "    '''\n",
    "    bar plot of prediction vs truth\n",
    "    '''\n",
    "    confusion_mat_train = confusion_matrix(df['label'][index_train],df[column][index_train])\n",
    "    confusion_mat_test = confusion_matrix(df['label'][index_test],df[column][index_test])\n",
    "\n",
    "    ind_train = [0,5,10]  \n",
    "    ind_test = [1.5,6.5,11.5]\n",
    "    # the x locations for the groups\n",
    "    width = 1       # the width of the bars: can also be len(x) sequence\n",
    "\n",
    "    p1 = plt.bar(ind_train, confusion_mat_train[2,:],width, color='#d62728')\n",
    "    p2 = plt.bar(ind_train, confusion_mat_train[1,:], width,bottom = confusion_mat_train[2,:],color = 'navy')\n",
    "    p3 = plt.bar(ind_train, confusion_mat_train[0,:], width, bottom = confusion_mat_train[2,:]+confusion_mat_train[1,:],color='purple')\n",
    "    \n",
    "    p4 = plt.bar(ind_test, confusion_mat_test[2,:],width, color='#d62728')\n",
    "    p5 = plt.bar(ind_test, confusion_mat_test[1,:], width,bottom = confusion_mat_test[2,:],color='navy')\n",
    "    p6 = plt.bar(ind_test, confusion_mat_test[0,:], width,bottom = confusion_mat_test[2,:]+confusion_mat_test[1,:],color='purple')\n",
    "    \n",
    "    plt.xlabel('Prediction')\n",
    "    plt.ylabel('Count')\n",
    "    plt.title('Prediction by '+method)\n",
    "    plt.xticks([1,6,11],('Negative','Neutral','Positive'))\n",
    "    plt.yticks(np.arange(0, 101, 20))\n",
    "    plt.legend((p1[0], p2[0], p3[0]), ('Positive', 'Neutral', 'Negative'))\n",
    "\n",
    "    plt.show()"
   ]
  },
  {
   "cell_type": "code",
   "execution_count": 16,
   "metadata": {},
   "outputs": [],
   "source": [
    "X=df['clean_sentence']\n",
    "y=df['label'].map({'Positive':1,'Negative':-1,'Neutral':0})\n",
    "X_train, X_test, y_train, y_test=train_test_split(X, y,test_size=0.2,random_state=0)"
   ]
  },
  {
   "cell_type": "code",
   "execution_count": 134,
   "metadata": {},
   "outputs": [],
   "source": [
    "tfidf_vec = TfidfVectorizer(ngram_range=(1,2))\n",
    "\n",
    "X_train_transformed=tfidf_vec.fit_transform(X_train)\n",
    "X_test_transformed=tfidf_vec.transform(X_test)"
   ]
  },
  {
   "cell_type": "code",
   "execution_count": 107,
   "metadata": {},
   "outputs": [],
   "source": [
    "from gensim.models import word2vec\n",
    "import numpy as np\n",
    "train_sent = X_train.apply(lambda x:x.split(' ')).tolist()\n",
    "model = word2vec.Word2Vec(train_sent,window = 5, vector_size=500,epochs = 100,min_count=1)\n",
    "def compute_doc_vec_single(sentence):\n",
    "    vec = np.zeros((model.layer1_size,),dtype=np.float32)\n",
    "    n = 0\n",
    "    for word in sentence:\n",
    "        if word in model.wv:\n",
    "            vec += model.wv[word]\n",
    "            n += 1 \n",
    "    return vec/n\n",
    "X_train_w2v = X_train.apply(lambda x:compute_doc_vec_single(x.split(' ')))\n",
    "X_test_w2v = X_test.apply(lambda x:compute_doc_vec_single(x.split(' ')))"
   ]
  },
  {
   "cell_type": "code",
   "execution_count": 108,
   "metadata": {},
   "outputs": [],
   "source": [
    "train_w2v = X_train_w2v.apply(pd.Series)\n",
    "test_w2v = X_test_w2v.apply(pd.Series)"
   ]
  },
  {
   "cell_type": "code",
   "execution_count": 21,
   "metadata": {
    "scrolled": true
   },
   "outputs": [
    {
     "data": {
      "text/html": [
       "<style>#sk-container-id-1 {color: black;background-color: white;}#sk-container-id-1 pre{padding: 0;}#sk-container-id-1 div.sk-toggleable {background-color: white;}#sk-container-id-1 label.sk-toggleable__label {cursor: pointer;display: block;width: 100%;margin-bottom: 0;padding: 0.3em;box-sizing: border-box;text-align: center;}#sk-container-id-1 label.sk-toggleable__label-arrow:before {content: \"▸\";float: left;margin-right: 0.25em;color: #696969;}#sk-container-id-1 label.sk-toggleable__label-arrow:hover:before {color: black;}#sk-container-id-1 div.sk-estimator:hover label.sk-toggleable__label-arrow:before {color: black;}#sk-container-id-1 div.sk-toggleable__content {max-height: 0;max-width: 0;overflow: hidden;text-align: left;background-color: #f0f8ff;}#sk-container-id-1 div.sk-toggleable__content pre {margin: 0.2em;color: black;border-radius: 0.25em;background-color: #f0f8ff;}#sk-container-id-1 input.sk-toggleable__control:checked~div.sk-toggleable__content {max-height: 200px;max-width: 100%;overflow: auto;}#sk-container-id-1 input.sk-toggleable__control:checked~label.sk-toggleable__label-arrow:before {content: \"▾\";}#sk-container-id-1 div.sk-estimator input.sk-toggleable__control:checked~label.sk-toggleable__label {background-color: #d4ebff;}#sk-container-id-1 div.sk-label input.sk-toggleable__control:checked~label.sk-toggleable__label {background-color: #d4ebff;}#sk-container-id-1 input.sk-hidden--visually {border: 0;clip: rect(1px 1px 1px 1px);clip: rect(1px, 1px, 1px, 1px);height: 1px;margin: -1px;overflow: hidden;padding: 0;position: absolute;width: 1px;}#sk-container-id-1 div.sk-estimator {font-family: monospace;background-color: #f0f8ff;border: 1px dotted black;border-radius: 0.25em;box-sizing: border-box;margin-bottom: 0.5em;}#sk-container-id-1 div.sk-estimator:hover {background-color: #d4ebff;}#sk-container-id-1 div.sk-parallel-item::after {content: \"\";width: 100%;border-bottom: 1px solid gray;flex-grow: 1;}#sk-container-id-1 div.sk-label:hover label.sk-toggleable__label {background-color: #d4ebff;}#sk-container-id-1 div.sk-serial::before {content: \"\";position: absolute;border-left: 1px solid gray;box-sizing: border-box;top: 0;bottom: 0;left: 50%;z-index: 0;}#sk-container-id-1 div.sk-serial {display: flex;flex-direction: column;align-items: center;background-color: white;padding-right: 0.2em;padding-left: 0.2em;position: relative;}#sk-container-id-1 div.sk-item {position: relative;z-index: 1;}#sk-container-id-1 div.sk-parallel {display: flex;align-items: stretch;justify-content: center;background-color: white;position: relative;}#sk-container-id-1 div.sk-item::before, #sk-container-id-1 div.sk-parallel-item::before {content: \"\";position: absolute;border-left: 1px solid gray;box-sizing: border-box;top: 0;bottom: 0;left: 50%;z-index: -1;}#sk-container-id-1 div.sk-parallel-item {display: flex;flex-direction: column;z-index: 1;position: relative;background-color: white;}#sk-container-id-1 div.sk-parallel-item:first-child::after {align-self: flex-end;width: 50%;}#sk-container-id-1 div.sk-parallel-item:last-child::after {align-self: flex-start;width: 50%;}#sk-container-id-1 div.sk-parallel-item:only-child::after {width: 0;}#sk-container-id-1 div.sk-dashed-wrapped {border: 1px dashed gray;margin: 0 0.4em 0.5em 0.4em;box-sizing: border-box;padding-bottom: 0.4em;background-color: white;}#sk-container-id-1 div.sk-label label {font-family: monospace;font-weight: bold;display: inline-block;line-height: 1.2em;}#sk-container-id-1 div.sk-label-container {text-align: center;}#sk-container-id-1 div.sk-container {/* jupyter's `normalize.less` sets `[hidden] { display: none; }` but bootstrap.min.css set `[hidden] { display: none !important; }` so we also need the `!important` here to be able to override the default hidden behavior on the sphinx rendered scikit-learn.org. See: https://github.com/scikit-learn/scikit-learn/issues/21755 */display: inline-block !important;position: relative;}#sk-container-id-1 div.sk-text-repr-fallback {display: none;}</style><div id=\"sk-container-id-1\" class=\"sk-top-container\"><div class=\"sk-text-repr-fallback\"><pre>MultinomialNB()</pre><b>In a Jupyter environment, please rerun this cell to show the HTML representation or trust the notebook. <br />On GitHub, the HTML representation is unable to render, please try loading this page with nbviewer.org.</b></div><div class=\"sk-container\" hidden><div class=\"sk-item\"><div class=\"sk-estimator sk-toggleable\"><input class=\"sk-toggleable__control sk-hidden--visually\" id=\"sk-estimator-id-1\" type=\"checkbox\" checked><label for=\"sk-estimator-id-1\" class=\"sk-toggleable__label sk-toggleable__label-arrow\">MultinomialNB</label><div class=\"sk-toggleable__content\"><pre>MultinomialNB()</pre></div></div></div></div></div>"
      ],
      "text/plain": [
       "MultinomialNB()"
      ]
     },
     "execution_count": 21,
     "metadata": {},
     "output_type": "execute_result"
    }
   ],
   "source": [
    "# Naive Bayes Model\n",
    "nb=MultinomialNB()\n",
    "nb.fit(X_train_transformed, y_train)"
   ]
  },
  {
   "cell_type": "code",
   "execution_count": 46,
   "metadata": {
    "scrolled": true
   },
   "outputs": [
    {
     "name": "stdout",
     "output_type": "stream",
     "text": [
      "              precision    recall  f1-score   support\n",
      "\n",
      "    Negative       0.00      0.00      0.00         8\n",
      "     Neutral       0.00      0.00      0.00        11\n",
      "    Positive       0.60      1.00      0.75        29\n",
      "\n",
      "    accuracy                           0.60        48\n",
      "   macro avg       0.20      0.33      0.25        48\n",
      "weighted avg       0.37      0.60      0.46        48\n",
      "\n"
     ]
    },
    {
     "name": "stderr",
     "output_type": "stream",
     "text": [
      "/Users/yuxueqi/miniforge3/envs/py38/lib/python3.8/site-packages/sklearn/metrics/_classification.py:1334: UndefinedMetricWarning: Precision and F-score are ill-defined and being set to 0.0 in labels with no predicted samples. Use `zero_division` parameter to control this behavior.\n",
      "  _warn_prf(average, modifier, msg_start, len(result))\n",
      "/Users/yuxueqi/miniforge3/envs/py38/lib/python3.8/site-packages/sklearn/metrics/_classification.py:1334: UndefinedMetricWarning: Precision and F-score are ill-defined and being set to 0.0 in labels with no predicted samples. Use `zero_division` parameter to control this behavior.\n",
      "  _warn_prf(average, modifier, msg_start, len(result))\n",
      "/Users/yuxueqi/miniforge3/envs/py38/lib/python3.8/site-packages/sklearn/metrics/_classification.py:1334: UndefinedMetricWarning: Precision and F-score are ill-defined and being set to 0.0 in labels with no predicted samples. Use `zero_division` parameter to control this behavior.\n",
      "  _warn_prf(average, modifier, msg_start, len(result))\n"
     ]
    }
   ],
   "source": [
    "print(classification_report(y_test,nb.predict(X_test_transformed),target_names=['Negative','Neutral','Positive']))"
   ]
  },
  {
   "cell_type": "code",
   "execution_count": 47,
   "metadata": {
    "scrolled": false
   },
   "outputs": [
    {
     "name": "stdout",
     "output_type": "stream",
     "text": [
      "Test Score: 0.6041666666666666\n",
      "Train Score: 0.8191489361702128\n"
     ]
    }
   ],
   "source": [
    "# Model Evaluation\n",
    "print(f'Test Score: {nb.score(X_test_transformed, y_test)}')\n",
    "print(f'Train Score: {nb.score(X_train_transformed, y_train)}')"
   ]
  },
  {
   "cell_type": "code",
   "execution_count": 116,
   "metadata": {},
   "outputs": [],
   "source": [
    "df['Predicted_NB'] = nb.predict(tfidf_vec.transform(X))\n",
    "df['Predicted_NB'] = df['Predicted_NB'].map({1:'Positive',0:'Neutral',-1:'Negative'})"
   ]
  },
  {
   "cell_type": "code",
   "execution_count": 195,
   "metadata": {},
   "outputs": [
    {
     "data": {
      "image/png": "[encoded data removed]",
      "text/plain": [
       "<Figure size 640x480 with 1 Axes>"
      ]
     },
     "metadata": {},
     "output_type": "display_data"
    }
   ],
   "source": [
    "plot_prediction_test_train_bar('Predicted_NB',X_train.index,X_test.index,'Naive Bayes+TFIDF')"
   ]
  },
  {
   "cell_type": "code",
   "execution_count": 71,
   "metadata": {
    "scrolled": true
   },
   "outputs": [
    {
     "data": {
      "text/plain": [
       "0.7754237288135594"
      ]
     },
     "execution_count": 71,
     "metadata": {},
     "output_type": "execute_result"
    }
   ],
   "source": [
    "accuracy_score(df['label'],df['Predicted_NB'])"
   ]
  },
  {
   "cell_type": "code",
   "execution_count": 83,
   "metadata": {},
   "outputs": [
    {
     "name": "stdout",
     "output_type": "stream",
     "text": [
      "              precision    recall  f1-score   support\n",
      "\n",
      "    Negative       0.25      1.00      0.40         2\n",
      "     Neutral       0.00      0.00      0.00         0\n",
      "    Positive       1.00      0.63      0.77        46\n",
      "\n",
      "    accuracy                           0.65        48\n",
      "   macro avg       0.42      0.54      0.39        48\n",
      "weighted avg       0.97      0.65      0.76        48\n",
      "\n"
     ]
    },
    {
     "name": "stderr",
     "output_type": "stream",
     "text": [
      "/Users/yuxueqi/miniforge3/envs/py38/lib/python3.8/site-packages/sklearn/metrics/_classification.py:1334: UndefinedMetricWarning: Recall and F-score are ill-defined and being set to 0.0 in labels with no true samples. Use `zero_division` parameter to control this behavior.\n",
      "  _warn_prf(average, modifier, msg_start, len(result))\n",
      "/Users/yuxueqi/miniforge3/envs/py38/lib/python3.8/site-packages/sklearn/metrics/_classification.py:1334: UndefinedMetricWarning: Recall and F-score are ill-defined and being set to 0.0 in labels with no true samples. Use `zero_division` parameter to control this behavior.\n",
      "  _warn_prf(average, modifier, msg_start, len(result))\n",
      "/Users/yuxueqi/miniforge3/envs/py38/lib/python3.8/site-packages/sklearn/metrics/_classification.py:1334: UndefinedMetricWarning: Recall and F-score are ill-defined and being set to 0.0 in labels with no true samples. Use `zero_division` parameter to control this behavior.\n",
      "  _warn_prf(average, modifier, msg_start, len(result))\n"
     ]
    }
   ],
   "source": [
    "from sklearn.linear_model import LogisticRegression\n",
    "from sklearn.ensemble import RandomForestClassifier\n",
    "lr = LogisticRegression()\n",
    "lr.fit(X_train_transformed, y_train)\n",
    "#accuracy_score(lr.predict(X_test_transformed),y_test)\n",
    "\n",
    "print(classification_report(lr.predict(X_test_transformed),y_test,target_names=['Negative','Neutral','Positive']))"
   ]
  },
  {
   "cell_type": "code",
   "execution_count": 216,
   "metadata": {
    "scrolled": false
   },
   "outputs": [
    {
     "name": "stdout",
     "output_type": "stream",
     "text": [
      "              precision    recall  f1-score   support\n",
      "\n",
      "    Negative       1.00      0.25      0.40         8\n",
      "     Neutral       0.43      0.27      0.33        11\n",
      "    Positive       0.69      0.93      0.79        29\n",
      "\n",
      "    accuracy                           0.67        48\n",
      "   macro avg       0.71      0.48      0.51        48\n",
      "weighted avg       0.68      0.67      0.62        48\n",
      "\n"
     ]
    }
   ],
   "source": [
    "rf = RandomForestClassifier(max_depth=100,n_estimators=1000,max_features=600)\n",
    "rf.fit(X_train_transformed, y_train)\n",
    "accuracy_score(rf.predict(X_test_transformed),y_test)\n",
    "print(classification_report(y_test,rf.predict(X_test_transformed),target_names=['Negative','Neutral','Positive']))"
   ]
  },
  {
   "cell_type": "code",
   "execution_count": 217,
   "metadata": {},
   "outputs": [],
   "source": [
    "df['Predicted_rf'] = rf.predict(tfidf_vec.transform(X))\n",
    "df['Predicted_rf'] = df['Predicted_rf'].map({1:'Positive',0:'Neutral',-1:'Negative'})"
   ]
  },
  {
   "cell_type": "code",
   "execution_count": 218,
   "metadata": {},
   "outputs": [
    {
     "data": {
      "text/plain": [
       "0.9322033898305084"
      ]
     },
     "execution_count": 218,
     "metadata": {},
     "output_type": "execute_result"
    }
   ],
   "source": [
    "accuracy_score(df['label'],df['Predicted_rf'])"
   ]
  },
  {
   "cell_type": "code",
   "execution_count": 221,
   "metadata": {},
   "outputs": [
    {
     "data": {
      "image/png": "[encoded data removed]",
      "text/plain": [
       "<Figure size 640x480 with 1 Axes>"
      ]
     },
     "metadata": {},
     "output_type": "display_data"
    }
   ],
   "source": [
    "plot_prediction_test_train_bar('Predicted_rf',X_train.index,X_test.index,'Random Forest+TFIDF')"
   ]
  },
  {
   "cell_type": "code",
   "execution_count": 242,
   "metadata": {},
   "outputs": [
    {
     "data": {
      "text/html": [
       "<style>#sk-container-id-15 {color: black;background-color: white;}#sk-container-id-15 pre{padding: 0;}#sk-container-id-15 div.sk-toggleable {background-color: white;}#sk-container-id-15 label.sk-toggleable__label {cursor: pointer;display: block;width: 100%;margin-bottom: 0;padding: 0.3em;box-sizing: border-box;text-align: center;}#sk-container-id-15 label.sk-toggleable__label-arrow:before {content: \"▸\";float: left;margin-right: 0.25em;color: #696969;}#sk-container-id-15 label.sk-toggleable__label-arrow:hover:before {color: black;}#sk-container-id-15 div.sk-estimator:hover label.sk-toggleable__label-arrow:before {color: black;}#sk-container-id-15 div.sk-toggleable__content {max-height: 0;max-width: 0;overflow: hidden;text-align: left;background-color: #f0f8ff;}#sk-container-id-15 div.sk-toggleable__content pre {margin: 0.2em;color: black;border-radius: 0.25em;background-color: #f0f8ff;}#sk-container-id-15 input.sk-toggleable__control:checked~div.sk-toggleable__content {max-height: 200px;max-width: 100%;overflow: auto;}#sk-container-id-15 input.sk-toggleable__control:checked~label.sk-toggleable__label-arrow:before {content: \"▾\";}#sk-container-id-15 div.sk-estimator input.sk-toggleable__control:checked~label.sk-toggleable__label {background-color: #d4ebff;}#sk-container-id-15 div.sk-label input.sk-toggleable__control:checked~label.sk-toggleable__label {background-color: #d4ebff;}#sk-container-id-15 input.sk-hidden--visually {border: 0;clip: rect(1px 1px 1px 1px);clip: rect(1px, 1px, 1px, 1px);height: 1px;margin: -1px;overflow: hidden;padding: 0;position: absolute;width: 1px;}#sk-container-id-15 div.sk-estimator {font-family: monospace;background-color: #f0f8ff;border: 1px dotted black;border-radius: 0.25em;box-sizing: border-box;margin-bottom: 0.5em;}#sk-container-id-15 div.sk-estimator:hover {background-color: #d4ebff;}#sk-container-id-15 div.sk-parallel-item::after {content: \"\";width: 100%;border-bottom: 1px solid gray;flex-grow: 1;}#sk-container-id-15 div.sk-label:hover label.sk-toggleable__label {background-color: #d4ebff;}#sk-container-id-15 div.sk-serial::before {content: \"\";position: absolute;border-left: 1px solid gray;box-sizing: border-box;top: 0;bottom: 0;left: 50%;z-index: 0;}#sk-container-id-15 div.sk-serial {display: flex;flex-direction: column;align-items: center;background-color: white;padding-right: 0.2em;padding-left: 0.2em;position: relative;}#sk-container-id-15 div.sk-item {position: relative;z-index: 1;}#sk-container-id-15 div.sk-parallel {display: flex;align-items: stretch;justify-content: center;background-color: white;position: relative;}#sk-container-id-15 div.sk-item::before, #sk-container-id-15 div.sk-parallel-item::before {content: \"\";position: absolute;border-left: 1px solid gray;box-sizing: border-box;top: 0;bottom: 0;left: 50%;z-index: -1;}#sk-container-id-15 div.sk-parallel-item {display: flex;flex-direction: column;z-index: 1;position: relative;background-color: white;}#sk-container-id-15 div.sk-parallel-item:first-child::after {align-self: flex-end;width: 50%;}#sk-container-id-15 div.sk-parallel-item:last-child::after {align-self: flex-start;width: 50%;}#sk-container-id-15 div.sk-parallel-item:only-child::after {width: 0;}#sk-container-id-15 div.sk-dashed-wrapped {border: 1px dashed gray;margin: 0 0.4em 0.5em 0.4em;box-sizing: border-box;padding-bottom: 0.4em;background-color: white;}#sk-container-id-15 div.sk-label label {font-family: monospace;font-weight: bold;display: inline-block;line-height: 1.2em;}#sk-container-id-15 div.sk-label-container {text-align: center;}#sk-container-id-15 div.sk-container {/* jupyter's `normalize.less` sets `[hidden] { display: none; }` but bootstrap.min.css set `[hidden] { display: none !important; }` so we also need the `!important` here to be able to override the default hidden behavior on the sphinx rendered scikit-learn.org. See: https://github.com/scikit-learn/scikit-learn/issues/21755 */display: inline-block !important;position: relative;}#sk-container-id-15 div.sk-text-repr-fallback {display: none;}</style><div id=\"sk-container-id-15\" class=\"sk-top-container\"><div class=\"sk-text-repr-fallback\"><pre>RandomForestClassifier(max_depth=100, max_features=200, n_estimators=1000)</pre><b>In a Jupyter environment, please rerun this cell to show the HTML representation or trust the notebook. <br />On GitHub, the HTML representation is unable to render, please try loading this page with nbviewer.org.</b></div><div class=\"sk-container\" hidden><div class=\"sk-item\"><div class=\"sk-estimator sk-toggleable\"><input class=\"sk-toggleable__control sk-hidden--visually\" id=\"sk-estimator-id-15\" type=\"checkbox\" checked><label for=\"sk-estimator-id-15\" class=\"sk-toggleable__label sk-toggleable__label-arrow\">RandomForestClassifier</label><div class=\"sk-toggleable__content\"><pre>RandomForestClassifier(max_depth=100, max_features=200, n_estimators=1000)</pre></div></div></div></div></div>"
      ],
      "text/plain": [
       "RandomForestClassifier(max_depth=100, max_features=200, n_estimators=1000)"
      ]
     },
     "execution_count": 242,
     "metadata": {},
     "output_type": "execute_result"
    }
   ],
   "source": [
    "rf_w2v = RandomForestClassifier(max_depth=100,n_estimators=1000,max_features=200)\n",
    "rf_w2v.fit(train_w2v,y_train)"
   ]
  },
  {
   "cell_type": "code",
   "execution_count": 243,
   "metadata": {
    "scrolled": false
   },
   "outputs": [
    {
     "name": "stdout",
     "output_type": "stream",
     "text": [
      "              precision    recall  f1-score   support\n",
      "\n",
      "    Negative       1.00      0.25      0.40         8\n",
      "     Neutral       0.38      0.27      0.32        11\n",
      "    Positive       0.68      0.90      0.78        29\n",
      "\n",
      "    accuracy                           0.65        48\n",
      "   macro avg       0.69      0.47      0.50        48\n",
      "weighted avg       0.67      0.65      0.61        48\n",
      "\n"
     ]
    }
   ],
   "source": [
    "accuracy_score(rf_w2v.predict(test_w2v),y_test)\n",
    "print(classification_report(y_test,rf_w2v.predict(test_w2v),target_names=['Negative','Neutral','Positive']))"
   ]
  },
  {
   "cell_type": "code",
   "execution_count": 244,
   "metadata": {},
   "outputs": [],
   "source": [
    "df['Predicted_rf_w2v'] = rf_w2v.predict(X.apply(lambda x:compute_doc_vec_single(x.split(' '))).apply(pd.Series))\n",
    "df['Predicted_rf_w2v'] = df['Predicted_rf_w2v'].map({1:'Positive',0:'Neutral',-1:'Negative'})"
   ]
  },
  {
   "cell_type": "code",
   "execution_count": 245,
   "metadata": {},
   "outputs": [
    {
     "data": {
      "text/plain": [
       "0.9279661016949152"
      ]
     },
     "execution_count": 245,
     "metadata": {},
     "output_type": "execute_result"
    }
   ],
   "source": [
    "accuracy_score(df['label'],df['Predicted_rf_w2v'])"
   ]
  },
  {
   "cell_type": "code",
   "execution_count": 246,
   "metadata": {},
   "outputs": [
    {
     "data": {
      "image/png": "[encoded data removed]",
      "text/plain": [
       "<Figure size 640x480 with 1 Axes>"
      ]
     },
     "metadata": {},
     "output_type": "display_data"
    }
   ],
   "source": [
    "plot_prediction_test_train_bar('Predicted_rf_w2v',X_train.index,X_test.index,'Random Forest+word2vec')"
   ]
  },
  {
   "cell_type": "code",
   "execution_count": 255,
   "metadata": {
    "scrolled": false
   },
   "outputs": [
    {
     "data": {
      "text/html": [
       "<style>#sk-container-id-17 {color: black;background-color: white;}#sk-container-id-17 pre{padding: 0;}#sk-container-id-17 div.sk-toggleable {background-color: white;}#sk-container-id-17 label.sk-toggleable__label {cursor: pointer;display: block;width: 100%;margin-bottom: 0;padding: 0.3em;box-sizing: border-box;text-align: center;}#sk-container-id-17 label.sk-toggleable__label-arrow:before {content: \"▸\";float: left;margin-right: 0.25em;color: #696969;}#sk-container-id-17 label.sk-toggleable__label-arrow:hover:before {color: black;}#sk-container-id-17 div.sk-estimator:hover label.sk-toggleable__label-arrow:before {color: black;}#sk-container-id-17 div.sk-toggleable__content {max-height: 0;max-width: 0;overflow: hidden;text-align: left;background-color: #f0f8ff;}#sk-container-id-17 div.sk-toggleable__content pre {margin: 0.2em;color: black;border-radius: 0.25em;background-color: #f0f8ff;}#sk-container-id-17 input.sk-toggleable__control:checked~div.sk-toggleable__content {max-height: 200px;max-width: 100%;overflow: auto;}#sk-container-id-17 input.sk-toggleable__control:checked~label.sk-toggleable__label-arrow:before {content: \"▾\";}#sk-container-id-17 div.sk-estimator input.sk-toggleable__control:checked~label.sk-toggleable__label {background-color: #d4ebff;}#sk-container-id-17 div.sk-label input.sk-toggleable__control:checked~label.sk-toggleable__label {background-color: #d4ebff;}#sk-container-id-17 input.sk-hidden--visually {border: 0;clip: rect(1px 1px 1px 1px);clip: rect(1px, 1px, 1px, 1px);height: 1px;margin: -1px;overflow: hidden;padding: 0;position: absolute;width: 1px;}#sk-container-id-17 div.sk-estimator {font-family: monospace;background-color: #f0f8ff;border: 1px dotted black;border-radius: 0.25em;box-sizing: border-box;margin-bottom: 0.5em;}#sk-container-id-17 div.sk-estimator:hover {background-color: #d4ebff;}#sk-container-id-17 div.sk-parallel-item::after {content: \"\";width: 100%;border-bottom: 1px solid gray;flex-grow: 1;}#sk-container-id-17 div.sk-label:hover label.sk-toggleable__label {background-color: #d4ebff;}#sk-container-id-17 div.sk-serial::before {content: \"\";position: absolute;border-left: 1px solid gray;box-sizing: border-box;top: 0;bottom: 0;left: 50%;z-index: 0;}#sk-container-id-17 div.sk-serial {display: flex;flex-direction: column;align-items: center;background-color: white;padding-right: 0.2em;padding-left: 0.2em;position: relative;}#sk-container-id-17 div.sk-item {position: relative;z-index: 1;}#sk-container-id-17 div.sk-parallel {display: flex;align-items: stretch;justify-content: center;background-color: white;position: relative;}#sk-container-id-17 div.sk-item::before, #sk-container-id-17 div.sk-parallel-item::before {content: \"\";position: absolute;border-left: 1px solid gray;box-sizing: border-box;top: 0;bottom: 0;left: 50%;z-index: -1;}#sk-container-id-17 div.sk-parallel-item {display: flex;flex-direction: column;z-index: 1;position: relative;background-color: white;}#sk-container-id-17 div.sk-parallel-item:first-child::after {align-self: flex-end;width: 50%;}#sk-container-id-17 div.sk-parallel-item:last-child::after {align-self: flex-start;width: 50%;}#sk-container-id-17 div.sk-parallel-item:only-child::after {width: 0;}#sk-container-id-17 div.sk-dashed-wrapped {border: 1px dashed gray;margin: 0 0.4em 0.5em 0.4em;box-sizing: border-box;padding-bottom: 0.4em;background-color: white;}#sk-container-id-17 div.sk-label label {font-family: monospace;font-weight: bold;display: inline-block;line-height: 1.2em;}#sk-container-id-17 div.sk-label-container {text-align: center;}#sk-container-id-17 div.sk-container {/* jupyter's `normalize.less` sets `[hidden] { display: none; }` but bootstrap.min.css set `[hidden] { display: none !important; }` so we also need the `!important` here to be able to override the default hidden behavior on the sphinx rendered scikit-learn.org. See: https://github.com/scikit-learn/scikit-learn/issues/21755 */display: inline-block !important;position: relative;}#sk-container-id-17 div.sk-text-repr-fallback {display: none;}</style><div id=\"sk-container-id-17\" class=\"sk-top-container\"><div class=\"sk-text-repr-fallback\"><pre>LGBMClassifier(learning_rate=0.01, max_depth=1000, n_estimators=1000)</pre><b>In a Jupyter environment, please rerun this cell to show the HTML representation or trust the notebook. <br />On GitHub, the HTML representation is unable to render, please try loading this page with nbviewer.org.</b></div><div class=\"sk-container\" hidden><div class=\"sk-item\"><div class=\"sk-estimator sk-toggleable\"><input class=\"sk-toggleable__control sk-hidden--visually\" id=\"sk-estimator-id-17\" type=\"checkbox\" checked><label for=\"sk-estimator-id-17\" class=\"sk-toggleable__label sk-toggleable__label-arrow\">LGBMClassifier</label><div class=\"sk-toggleable__content\"><pre>LGBMClassifier(learning_rate=0.01, max_depth=1000, n_estimators=1000)</pre></div></div></div></div></div>"
      ],
      "text/plain": [
       "LGBMClassifier(learning_rate=0.01, max_depth=1000, n_estimators=1000)"
      ]
     },
     "execution_count": 255,
     "metadata": {},
     "output_type": "execute_result"
    }
   ],
   "source": [
    "import lightgbm as lgb\n",
    "lgb_model = lgb.LGBMClassifier(max_depth=1000,n_estimators=1000,learning_rate=0.01)\n",
    "lgb_model.fit(X_train_transformed,y_train)"
   ]
  },
  {
   "cell_type": "code",
   "execution_count": 256,
   "metadata": {},
   "outputs": [],
   "source": [
    "df['Predicted_lgb'] = lgb_model.predict(tfidf_vec.transform(X))\n",
    "df['Predicted_lgb'] = df['Predicted_lgb'].map({1:'Positive',0:'Neutral',-1:'Negative'})"
   ]
  },
  {
   "cell_type": "code",
   "execution_count": 257,
   "metadata": {
    "scrolled": true
   },
   "outputs": [
    {
     "name": "stdout",
     "output_type": "stream",
     "text": [
      "              precision    recall  f1-score   support\n",
      "\n",
      "    Negative       0.67      0.25      0.36         8\n",
      "     Neutral       0.20      0.09      0.13        11\n",
      "    Positive       0.60      0.83      0.70        29\n",
      "\n",
      "    accuracy                           0.56        48\n",
      "   macro avg       0.49      0.39      0.39        48\n",
      "weighted avg       0.52      0.56      0.51        48\n",
      "\n"
     ]
    }
   ],
   "source": [
    "print(classification_report(y_test,lgb_model.predict(X_test_transformed),target_names=['Negative','Neutral','Positive']))"
   ]
  },
  {
   "cell_type": "code",
   "execution_count": 258,
   "metadata": {},
   "outputs": [
    {
     "name": "stdout",
     "output_type": "stream",
     "text": [
      "              precision    recall  f1-score   support\n",
      "\n",
      "    Negative       0.92      0.46      0.61        24\n",
      "     Neutral       0.80      0.38      0.51        53\n",
      "    Positive       0.70      0.95      0.81       111\n",
      "\n",
      "    accuracy                           0.73       188\n",
      "   macro avg       0.81      0.60      0.64       188\n",
      "weighted avg       0.76      0.73      0.70       188\n",
      "\n"
     ]
    }
   ],
   "source": [
    "print(classification_report(y_train,lgb_model.predict(X_train_transformed),target_names=['Negative','Neutral','Positive']))"
   ]
  },
  {
   "cell_type": "code",
   "execution_count": 259,
   "metadata": {
    "scrolled": true
   },
   "outputs": [
    {
     "data": {
      "image/png": "[encoded data removed]",
      "text/plain": [
       "<Figure size 640x480 with 1 Axes>"
      ]
     },
     "metadata": {},
     "output_type": "display_data"
    }
   ],
   "source": [
    "plot_prediction_test_train_bar('Predicted_lgb',X_train.index,X_test.index,'LightGBM+TFIDF')"
   ]
  },
  {
   "cell_type": "code",
   "execution_count": 276,
   "metadata": {},
   "outputs": [
    {
     "data": {
      "text/plain": [
       "0.923728813559322"
      ]
     },
     "execution_count": 276,
     "metadata": {},
     "output_type": "execute_result"
    }
   ],
   "source": [
    "accuracy_score(df['label'],df['Predicted_lgb'])"
   ]
  },
  {
   "cell_type": "code",
   "execution_count": 272,
   "metadata": {
    "scrolled": true
   },
   "outputs": [
    {
     "data": {
      "text/html": [
       "<style>#sk-container-id-21 {color: black;background-color: white;}#sk-container-id-21 pre{padding: 0;}#sk-container-id-21 div.sk-toggleable {background-color: white;}#sk-container-id-21 label.sk-toggleable__label {cursor: pointer;display: block;width: 100%;margin-bottom: 0;padding: 0.3em;box-sizing: border-box;text-align: center;}#sk-container-id-21 label.sk-toggleable__label-arrow:before {content: \"▸\";float: left;margin-right: 0.25em;color: #696969;}#sk-container-id-21 label.sk-toggleable__label-arrow:hover:before {color: black;}#sk-container-id-21 div.sk-estimator:hover label.sk-toggleable__label-arrow:before {color: black;}#sk-container-id-21 div.sk-toggleable__content {max-height: 0;max-width: 0;overflow: hidden;text-align: left;background-color: #f0f8ff;}#sk-container-id-21 div.sk-toggleable__content pre {margin: 0.2em;color: black;border-radius: 0.25em;background-color: #f0f8ff;}#sk-container-id-21 input.sk-toggleable__control:checked~div.sk-toggleable__content {max-height: 200px;max-width: 100%;overflow: auto;}#sk-container-id-21 input.sk-toggleable__control:checked~label.sk-toggleable__label-arrow:before {content: \"▾\";}#sk-container-id-21 div.sk-estimator input.sk-toggleable__control:checked~label.sk-toggleable__label {background-color: #d4ebff;}#sk-container-id-21 div.sk-label input.sk-toggleable__control:checked~label.sk-toggleable__label {background-color: #d4ebff;}#sk-container-id-21 input.sk-hidden--visually {border: 0;clip: rect(1px 1px 1px 1px);clip: rect(1px, 1px, 1px, 1px);height: 1px;margin: -1px;overflow: hidden;padding: 0;position: absolute;width: 1px;}#sk-container-id-21 div.sk-estimator {font-family: monospace;background-color: #f0f8ff;border: 1px dotted black;border-radius: 0.25em;box-sizing: border-box;margin-bottom: 0.5em;}#sk-container-id-21 div.sk-estimator:hover {background-color: #d4ebff;}#sk-container-id-21 div.sk-parallel-item::after {content: \"\";width: 100%;border-bottom: 1px solid gray;flex-grow: 1;}#sk-container-id-21 div.sk-label:hover label.sk-toggleable__label {background-color: #d4ebff;}#sk-container-id-21 div.sk-serial::before {content: \"\";position: absolute;border-left: 1px solid gray;box-sizing: border-box;top: 0;bottom: 0;left: 50%;z-index: 0;}#sk-container-id-21 div.sk-serial {display: flex;flex-direction: column;align-items: center;background-color: white;padding-right: 0.2em;padding-left: 0.2em;position: relative;}#sk-container-id-21 div.sk-item {position: relative;z-index: 1;}#sk-container-id-21 div.sk-parallel {display: flex;align-items: stretch;justify-content: center;background-color: white;position: relative;}#sk-container-id-21 div.sk-item::before, #sk-container-id-21 div.sk-parallel-item::before {content: \"\";position: absolute;border-left: 1px solid gray;box-sizing: border-box;top: 0;bottom: 0;left: 50%;z-index: -1;}#sk-container-id-21 div.sk-parallel-item {display: flex;flex-direction: column;z-index: 1;position: relative;background-color: white;}#sk-container-id-21 div.sk-parallel-item:first-child::after {align-self: flex-end;width: 50%;}#sk-container-id-21 div.sk-parallel-item:last-child::after {align-self: flex-start;width: 50%;}#sk-container-id-21 div.sk-parallel-item:only-child::after {width: 0;}#sk-container-id-21 div.sk-dashed-wrapped {border: 1px dashed gray;margin: 0 0.4em 0.5em 0.4em;box-sizing: border-box;padding-bottom: 0.4em;background-color: white;}#sk-container-id-21 div.sk-label label {font-family: monospace;font-weight: bold;display: inline-block;line-height: 1.2em;}#sk-container-id-21 div.sk-label-container {text-align: center;}#sk-container-id-21 div.sk-container {/* jupyter's `normalize.less` sets `[hidden] { display: none; }` but bootstrap.min.css set `[hidden] { display: none !important; }` so we also need the `!important` here to be able to override the default hidden behavior on the sphinx rendered scikit-learn.org. See: https://github.com/scikit-learn/scikit-learn/issues/21755 */display: inline-block !important;position: relative;}#sk-container-id-21 div.sk-text-repr-fallback {display: none;}</style><div id=\"sk-container-id-21\" class=\"sk-top-container\"><div class=\"sk-text-repr-fallback\"><pre>LGBMClassifier(learning_rate=0.01, max_depth=50, n_estimators=1000)</pre><b>In a Jupyter environment, please rerun this cell to show the HTML representation or trust the notebook. <br />On GitHub, the HTML representation is unable to render, please try loading this page with nbviewer.org.</b></div><div class=\"sk-container\" hidden><div class=\"sk-item\"><div class=\"sk-estimator sk-toggleable\"><input class=\"sk-toggleable__control sk-hidden--visually\" id=\"sk-estimator-id-21\" type=\"checkbox\" checked><label for=\"sk-estimator-id-21\" class=\"sk-toggleable__label sk-toggleable__label-arrow\">LGBMClassifier</label><div class=\"sk-toggleable__content\"><pre>LGBMClassifier(learning_rate=0.01, max_depth=50, n_estimators=1000)</pre></div></div></div></div></div>"
      ],
      "text/plain": [
       "LGBMClassifier(learning_rate=0.01, max_depth=50, n_estimators=1000)"
      ]
     },
     "execution_count": 272,
     "metadata": {},
     "output_type": "execute_result"
    }
   ],
   "source": [
    "lgb_model_w2v = lgb.LGBMClassifier(max_depth=50,n_estimators=1000,learning_rate=0.01)\n",
    "lgb_model_w2v.fit(train_w2v,y_train)"
   ]
  },
  {
   "cell_type": "code",
   "execution_count": 273,
   "metadata": {},
   "outputs": [],
   "source": [
    "df['Predicted_lgb_w2v'] = lgb_model_w2v.predict(X.apply(lambda x:compute_doc_vec_single(x.split(' '))).apply(pd.Series))\n",
    "df['Predicted_lgb_w2v'] = df['Predicted_lgb_w2v'].map({1:'Positive',0:'Neutral',-1:'Negative'})"
   ]
  },
  {
   "cell_type": "code",
   "execution_count": 275,
   "metadata": {},
   "outputs": [
    {
     "data": {
      "text/plain": [
       "0.9279661016949152"
      ]
     },
     "execution_count": 275,
     "metadata": {},
     "output_type": "execute_result"
    }
   ],
   "source": [
    "accuracy_score(df['label'],df['Predicted_lgb_w2v'])"
   ]
  },
  {
   "cell_type": "code",
   "execution_count": 277,
   "metadata": {},
   "outputs": [
    {
     "data": {
      "image/png": "[encoded data removed]",
      "text/plain": [
       "<Figure size 640x480 with 1 Axes>"
      ]
     },
     "metadata": {},
     "output_type": "display_data"
    }
   ],
   "source": [
    "plot_prediction_test_train_bar('Predicted_lgb_w2v',X_train.index,X_test.index,'LightGBM+word2vec')"
   ]
  },
  {
   "cell_type": "markdown",
   "metadata": {},
   "source": [
    "# Deep Learning Methods"
   ]
  },
  {
   "cell_type": "code",
   "execution_count": 278,
   "metadata": {},
   "outputs": [],
   "source": [
    "from keras.layers import Dense\n",
    "from tensorflow.python.keras.layers.recurrent import SimpleRNN\n",
    "from keras.models import Sequential\n",
    "from tensorflow.python.keras.layers.embeddings import Embedding\n",
    "from tensorflow.keras.layers import LSTM, Dense, Dropout, Bidirectional\n",
    "from sklearn.model_selection import train_test_split\n",
    "import numpy as np\n",
    "import nltk\n",
    "from nltk.corpus import stopwords\n",
    "import re\n",
    "import pandas as pd"
   ]
  },
  {
   "cell_type": "code",
   "execution_count": 280,
   "metadata": {},
   "outputs": [
    {
     "name": "stdout",
     "output_type": "stream",
     "text": [
      "1067\n"
     ]
    }
   ],
   "source": [
    "from collections import Counter\n",
    "counts = Counter()\n",
    "for i,review in enumerate(df['clean_sentence']):\n",
    "    counts.update(review.split())\n",
    "words = sorted(counts, key=counts.get, reverse=True)\n",
    "\n",
    "nb_chars = len(words)\n",
    "print(nb_chars)\n",
    "word_to_int = {word: i for i, word in enumerate(words, 1)}\n",
    "int_to_word = {i: word for i, word in enumerate(words, 1)}"
   ]
  },
  {
   "cell_type": "code",
   "execution_count": 282,
   "metadata": {},
   "outputs": [
    {
     "name": "stdout",
     "output_type": "stream",
     "text": [
      "Original text: result 2nd line treatment show orr 33 patients durable responses result apparent pfs plateau\n",
      "Mapped text: [16, 231, 74, 7, 14, 533, 534, 4, 232, 314, 16, 535, 180, 536]\n"
     ]
    }
   ],
   "source": [
    "mapped_reviews = []\n",
    "for review in df['clean_sentence']:\n",
    "    mapped_reviews.append([word_to_int[word] for word in review.split()])\n",
    "\n",
    "# 打印示例\n",
    "print('Original text:',df.loc[0]['clean_sentence'])\n",
    "print('Mapped text:',mapped_reviews[0])\n"
   ]
  },
  {
   "cell_type": "code",
   "execution_count": 283,
   "metadata": {},
   "outputs": [],
   "source": [
    "length_sent = []\n",
    "for i in range(len(mapped_reviews)):\n",
    "    length_sent.append(len(mapped_reviews[i]))\n",
    "\n",
    "sequence_length = max(length_sent)"
   ]
  },
  {
   "cell_type": "code",
   "execution_count": 284,
   "metadata": {},
   "outputs": [],
   "source": [
    "from tensorflow.keras.preprocessing.sequence import pad_sequences\n",
    "x = pad_sequences(maxlen=sequence_length, sequences=mapped_reviews, padding=\"post\", value=0)\n",
    "y = df['label'].values\n",
    "y = np.array(pd.get_dummies(y))\n",
    "x_train, x_test, y_train, y_test = train_test_split(x, y, test_size=0.2,random_state=0)"
   ]
  },
  {
   "cell_type": "code",
   "execution_count": 285,
   "metadata": {},
   "outputs": [
    {
     "name": "stdout",
     "output_type": "stream",
     "text": [
      "Epoch 1/50\n"
     ]
    },
    {
     "name": "stderr",
     "output_type": "stream",
     "text": [
      "2022-10-19 22:50:40.507750: W tensorflow/core/platform/profile_utils/cpu_utils.cc:128] Failed to get CPU frequency: 0 Hz\n"
     ]
    },
    {
     "name": "stdout",
     "output_type": "stream",
     "text": [
      "1/1 [==============================] - 1s 535ms/step - loss: 1.0961 - acc: 0.3723 - val_loss: 1.0269 - val_acc: 0.6042\n",
      "Epoch 2/50\n",
      "1/1 [==============================] - 0s 22ms/step - loss: 1.0121 - acc: 0.5957 - val_loss: 0.9827 - val_acc: 0.6042\n",
      "Epoch 3/50\n",
      "1/1 [==============================] - 0s 23ms/step - loss: 0.9554 - acc: 0.5904 - val_loss: 0.9572 - val_acc: 0.6042\n",
      "Epoch 4/50\n",
      "1/1 [==============================] - 0s 22ms/step - loss: 0.9242 - acc: 0.5904 - val_loss: 0.9473 - val_acc: 0.6042\n",
      "Epoch 5/50\n",
      "1/1 [==============================] - 0s 21ms/step - loss: 0.9040 - acc: 0.5904 - val_loss: 0.9454 - val_acc: 0.6042\n",
      "Epoch 6/50\n",
      "1/1 [==============================] - 0s 23ms/step - loss: 0.8780 - acc: 0.5957 - val_loss: 0.9503 - val_acc: 0.6042\n",
      "Epoch 7/50\n",
      "1/1 [==============================] - 0s 22ms/step - loss: 0.8351 - acc: 0.6117 - val_loss: 0.9680 - val_acc: 0.6042\n",
      "Epoch 8/50\n",
      "1/1 [==============================] - 0s 23ms/step - loss: 0.7677 - acc: 0.6649 - val_loss: 1.0079 - val_acc: 0.4375\n",
      "Epoch 9/50\n",
      "1/1 [==============================] - 0s 21ms/step - loss: 0.6877 - acc: 0.8404 - val_loss: 1.0606 - val_acc: 0.4792\n",
      "Epoch 10/50\n",
      "1/1 [==============================] - 0s 22ms/step - loss: 0.6274 - acc: 0.7872 - val_loss: 1.0978 - val_acc: 0.4583\n",
      "Epoch 11/50\n",
      "1/1 [==============================] - 0s 23ms/step - loss: 0.5810 - acc: 0.7713 - val_loss: 1.1052 - val_acc: 0.4792\n",
      "Epoch 12/50\n",
      "1/1 [==============================] - 0s 22ms/step - loss: 0.5264 - acc: 0.8085 - val_loss: 1.0832 - val_acc: 0.5625\n",
      "Epoch 13/50\n",
      "1/1 [==============================] - 0s 22ms/step - loss: 0.4817 - acc: 0.8617 - val_loss: 1.0845 - val_acc: 0.5417\n",
      "Epoch 14/50\n",
      "1/1 [==============================] - 0s 22ms/step - loss: 0.4473 - acc: 0.9628 - val_loss: 1.1073 - val_acc: 0.5208\n",
      "Epoch 15/50\n",
      "1/1 [==============================] - 0s 22ms/step - loss: 0.4237 - acc: 0.8830 - val_loss: 1.1439 - val_acc: 0.5208\n",
      "Epoch 16/50\n",
      "1/1 [==============================] - 0s 23ms/step - loss: 0.4016 - acc: 0.8723 - val_loss: 1.1912 - val_acc: 0.5208\n",
      "Epoch 17/50\n",
      "1/1 [==============================] - 0s 22ms/step - loss: 0.3825 - acc: 0.8670 - val_loss: 1.2462 - val_acc: 0.5208\n",
      "Epoch 18/50\n",
      "1/1 [==============================] - 0s 24ms/step - loss: 0.3705 - acc: 0.8723 - val_loss: 1.2949 - val_acc: 0.5208\n",
      "Epoch 19/50\n",
      "1/1 [==============================] - 0s 23ms/step - loss: 0.3589 - acc: 0.8723 - val_loss: 1.3231 - val_acc: 0.5208\n",
      "Epoch 20/50\n",
      "1/1 [==============================] - 0s 22ms/step - loss: 0.3556 - acc: 0.8670 - val_loss: 1.3674 - val_acc: 0.5208\n",
      "Epoch 21/50\n",
      "1/1 [==============================] - 0s 23ms/step - loss: 0.3383 - acc: 0.8670 - val_loss: 1.4196 - val_acc: 0.5000\n",
      "Epoch 22/50\n",
      "1/1 [==============================] - 0s 22ms/step - loss: 0.3298 - acc: 0.8723 - val_loss: 1.4476 - val_acc: 0.5000\n",
      "Epoch 23/50\n",
      "1/1 [==============================] - 0s 22ms/step - loss: 0.3223 - acc: 0.8723 - val_loss: 1.4603 - val_acc: 0.5000\n",
      "Epoch 24/50\n",
      "1/1 [==============================] - 0s 22ms/step - loss: 0.3139 - acc: 0.8723 - val_loss: 1.4940 - val_acc: 0.5000\n",
      "Epoch 25/50\n",
      "1/1 [==============================] - 0s 21ms/step - loss: 0.3043 - acc: 0.8723 - val_loss: 1.5322 - val_acc: 0.5000\n",
      "Epoch 26/50\n",
      "1/1 [==============================] - 0s 23ms/step - loss: 0.2960 - acc: 0.8777 - val_loss: 1.5401 - val_acc: 0.4792\n",
      "Epoch 27/50\n",
      "1/1 [==============================] - 0s 23ms/step - loss: 0.2851 - acc: 0.8723 - val_loss: 1.5423 - val_acc: 0.4792\n",
      "Epoch 28/50\n",
      "1/1 [==============================] - 0s 22ms/step - loss: 0.2740 - acc: 0.8723 - val_loss: 1.5210 - val_acc: 0.5000\n",
      "Epoch 29/50\n",
      "1/1 [==============================] - 0s 23ms/step - loss: 0.2594 - acc: 0.8723 - val_loss: 1.4603 - val_acc: 0.5208\n",
      "Epoch 30/50\n",
      "1/1 [==============================] - 0s 22ms/step - loss: 0.2427 - acc: 0.8830 - val_loss: 1.4326 - val_acc: 0.5833\n",
      "Epoch 31/50\n",
      "1/1 [==============================] - 0s 22ms/step - loss: 0.2289 - acc: 0.9096 - val_loss: 1.4247 - val_acc: 0.5833\n",
      "Epoch 32/50\n",
      "1/1 [==============================] - 0s 22ms/step - loss: 0.2157 - acc: 0.9628 - val_loss: 1.4086 - val_acc: 0.5833\n",
      "Epoch 33/50\n",
      "1/1 [==============================] - 0s 21ms/step - loss: 0.1999 - acc: 0.9681 - val_loss: 1.4094 - val_acc: 0.5833\n",
      "Epoch 34/50\n",
      "1/1 [==============================] - 0s 28ms/step - loss: 0.1862 - acc: 0.9734 - val_loss: 1.4173 - val_acc: 0.5833\n",
      "Epoch 35/50\n",
      "1/1 [==============================] - 0s 22ms/step - loss: 0.1731 - acc: 0.9894 - val_loss: 1.4208 - val_acc: 0.5833\n",
      "Epoch 36/50\n",
      "1/1 [==============================] - 0s 23ms/step - loss: 0.1582 - acc: 0.9947 - val_loss: 1.4244 - val_acc: 0.5833\n",
      "Epoch 37/50\n",
      "1/1 [==============================] - 0s 22ms/step - loss: 0.1449 - acc: 0.9947 - val_loss: 1.4382 - val_acc: 0.5625\n",
      "Epoch 38/50\n",
      "1/1 [==============================] - 0s 22ms/step - loss: 0.1318 - acc: 0.9947 - val_loss: 1.4539 - val_acc: 0.5625\n",
      "Epoch 39/50\n",
      "1/1 [==============================] - 0s 21ms/step - loss: 0.1213 - acc: 0.9947 - val_loss: 1.4653 - val_acc: 0.5625\n",
      "Epoch 40/50\n",
      "1/1 [==============================] - 0s 22ms/step - loss: 0.1106 - acc: 0.9947 - val_loss: 1.4777 - val_acc: 0.5625\n",
      "Epoch 41/50\n",
      "1/1 [==============================] - 0s 22ms/step - loss: 0.1018 - acc: 0.9947 - val_loss: 1.4972 - val_acc: 0.5625\n",
      "Epoch 42/50\n",
      "1/1 [==============================] - 0s 21ms/step - loss: 0.0936 - acc: 0.9947 - val_loss: 1.5257 - val_acc: 0.5417\n",
      "Epoch 43/50\n",
      "1/1 [==============================] - 0s 22ms/step - loss: 0.0866 - acc: 0.9947 - val_loss: 1.5529 - val_acc: 0.5417\n",
      "Epoch 44/50\n",
      "1/1 [==============================] - 0s 23ms/step - loss: 0.0808 - acc: 0.9947 - val_loss: 1.5781 - val_acc: 0.5417\n",
      "Epoch 45/50\n",
      "1/1 [==============================] - 0s 22ms/step - loss: 0.0750 - acc: 0.9947 - val_loss: 1.6034 - val_acc: 0.5208\n",
      "Epoch 46/50\n",
      "1/1 [==============================] - 0s 22ms/step - loss: 0.0698 - acc: 0.9947 - val_loss: 1.6280 - val_acc: 0.5208\n",
      "Epoch 47/50\n",
      "1/1 [==============================] - 0s 22ms/step - loss: 0.0646 - acc: 0.9947 - val_loss: 1.6492 - val_acc: 0.5208\n",
      "Epoch 48/50\n",
      "1/1 [==============================] - 0s 22ms/step - loss: 0.0597 - acc: 0.9947 - val_loss: 1.6655 - val_acc: 0.5208\n",
      "Epoch 49/50\n",
      "1/1 [==============================] - 0s 22ms/step - loss: 0.0550 - acc: 0.9947 - val_loss: 1.6798 - val_acc: 0.5208\n",
      "Epoch 50/50\n",
      "1/1 [==============================] - 0s 22ms/step - loss: 0.0505 - acc: 1.0000 - val_loss: 1.6946 - val_acc: 0.5000\n",
      "Model: \"sequential\"\n",
      "_________________________________________________________________\n",
      " Layer (type)                Output Shape              Param #   \n",
      "=================================================================\n",
      " module_wrapper (ModuleWrapp  (None, 38, 30)           32040     \n",
      " er)                                                             \n",
      "                                                                 \n",
      " module_wrapper_1 (ModuleWra  (None, 50)               4050      \n",
      " pper)                                                           \n",
      "                                                                 \n",
      " dense (Dense)               (None, 3)                 153       \n",
      "                                                                 \n",
      "=================================================================\n",
      "Total params: 36,243\n",
      "Trainable params: 36,243\n",
      "Non-trainable params: 0\n",
      "_________________________________________________________________\n"
     ]
    }
   ],
   "source": [
    "embedding_vector_length=100\n",
    "max_review_length=30\n",
    "model = Sequential()\n",
    "model.add(Embedding(input_dim=nb_chars+1, output_dim=max_review_length, input_length = embedding_vector_length))\n",
    "\n",
    "model.add(SimpleRNN(50, return_sequences=False))\n",
    "\n",
    "model.add(Dense(3, activation='softmax'))\n",
    "model.compile(loss='categorical_crossentropy', optimizer='adam', metrics=['acc'])\n",
    "model.fit(x_train,\\\n",
    "          y_train,\\\n",
    "          batch_size=256,\\\n",
    "          epochs=50,\\\n",
    "          validation_data=(x_test,y_test))\n",
    "model.summary()"
   ]
  },
  {
   "cell_type": "code",
   "execution_count": 306,
   "metadata": {},
   "outputs": [
    {
     "name": "stdout",
     "output_type": "stream",
     "text": [
      "8/8 [==============================] - 0s 2ms/step\n"
     ]
    }
   ],
   "source": [
    "df['Predicted_rnn'] = pd.DataFrame(model.predict(x)).idxmax(axis=1).tolist()\n",
    "df['Predicted_rnn'] = df['Predicted_rnn'].map({2:'Positive',1:'Neutral',0:'Negative'})"
   ]
  },
  {
   "cell_type": "code",
   "execution_count": 307,
   "metadata": {},
   "outputs": [
    {
     "data": {
      "text/plain": [
       "Positive    138\n",
       "Neutral      67\n",
       "Negative     31\n",
       "Name: Predicted_rnn, dtype: int64"
      ]
     },
     "execution_count": 307,
     "metadata": {},
     "output_type": "execute_result"
    }
   ],
   "source": [
    "df['Predicted_rnn'].value_counts()"
   ]
  },
  {
   "cell_type": "code",
   "execution_count": 309,
   "metadata": {},
   "outputs": [
    {
     "data": {
      "image/png": "[encoded data removed]",
      "text/plain": [
       "<Figure size 640x480 with 1 Axes>"
      ]
     },
     "metadata": {},
     "output_type": "display_data"
    },
    {
     "name": "stdout",
     "output_type": "stream",
     "text": [
      "0.8983050847457628\n"
     ]
    }
   ],
   "source": [
    "plot_prediction_test_train_bar('Predicted_rnn',X_train.index,X_test.index,'RNN')\n",
    "print(accuracy_score(df['label'],df['Predicted_rnn']))"
   ]
  },
  {
   "cell_type": "code",
   "execution_count": 33,
   "metadata": {},
   "outputs": [],
   "source": [
    "#LSTM拟合"
   ]
  },
  {
   "cell_type": "code",
   "execution_count": 310,
   "metadata": {},
   "outputs": [],
   "source": [
    "from keras.preprocessing.text import Tokenizer\n",
    "from tensorflow.keras.preprocessing.sequence import pad_sequences\n",
    "from keras.models import Sequential\n",
    "from keras import layers\n",
    "from keras.utils.np_utils import *"
   ]
  },
  {
   "cell_type": "code",
   "execution_count": 311,
   "metadata": {},
   "outputs": [],
   "source": [
    "import pickle"
   ]
  },
  {
   "cell_type": "code",
   "execution_count": 336,
   "metadata": {},
   "outputs": [],
   "source": [
    "def load_data(df, input_shape=20):\n",
    "    # 标签及词汇表\n",
    "    labels, vocabulary = list(df['label'].unique()), list(df['clean_sentence'].unique())\n",
    "    # 构造字符级别的特征\n",
    "    string = ''\n",
    "    for word in vocabulary:\n",
    "        string += word\n",
    "    vocabulary = set(string)\n",
    "    # 字典列表\n",
    "    word_dictionary = {word: i+1 for i, word in enumerate(vocabulary)}\n",
    "    with open('word_dict.pk', 'wb') as f:\n",
    "        pickle.dump(word_dictionary, f)\n",
    "    inverse_word_dictionary = {i+1: word for i, word in enumerate(vocabulary)}\n",
    "    label_dictionary = {label: i for i, label in enumerate(labels)}\n",
    "    with open('label_dict.pk', 'wb') as f:\n",
    "        pickle.dump(label_dictionary, f)\n",
    "    output_dictionary = {i: labels for i, labels in enumerate(labels)}\n",
    "    vocab_size = len(word_dictionary.keys()) # 词汇表大小\n",
    "    label_size = len(label_dictionary.keys()) # 标签类别数量\n",
    "    # 序列填充，按input_shape填充，长度不足的按0补充\n",
    "    x = [[word_dictionary[word] for word in sent] for sent in df['clean_sentence']]\n",
    "    x = pad_sequences(maxlen=input_shape, sequences=x, padding='post', value=0)\n",
    "    y = [[label_dictionary[sent]] for sent in df['label']]\n",
    "    y = [to_categorical(label, num_classes=label_size) for label in y]\n",
    "    y = np.array([list(_[0]) for _ in y])\n",
    "    return x, y, output_dictionary, vocab_size, label_size, inverse_word_dictionary"
   ]
  },
  {
   "cell_type": "code",
   "execution_count": 346,
   "metadata": {},
   "outputs": [],
   "source": [
    "x, y, output_dictionary, vocab_size, label_size, inverse_word_dictionary = load_data(df,input_shape=500)"
   ]
  },
  {
   "cell_type": "code",
   "execution_count": 347,
   "metadata": {},
   "outputs": [],
   "source": [
    "input_shape = 500\n",
    "output_dim = 100\n",
    "lstm_model = Sequential()\n",
    "lstm_model.add(Embedding(input_dim=vocab_size + 1, output_dim=output_dim,\n",
    "                    input_length=input_shape, mask_zero=True))\n",
    "lstm_model.add(LSTM(3, input_shape=(x.shape[0], x.shape[1])))\n",
    "lstm_model.add(Dropout(0.2))\n",
    "lstm_model.add(Dense(label_size, activation='softmax'))\n",
    "lstm_model.compile(loss='categorical_crossentropy', optimizer='adam', metrics=['accuracy'])\n",
    "#plot_model(model, to_file='./model_lstm.png', show_shapes=True)"
   ]
  },
  {
   "cell_type": "code",
   "execution_count": 348,
   "metadata": {},
   "outputs": [],
   "source": [
    "train_x, test_x, train_y, test_y = train_test_split(x, y, test_size = 0.2, random_state = 0)"
   ]
  },
  {
   "cell_type": "code",
   "execution_count": 350,
   "metadata": {},
   "outputs": [
    {
     "name": "stdout",
     "output_type": "stream",
     "text": [
      "Epoch 1/100\n",
      "2/2 [==============================] - 0s 128ms/step - loss: 0.7686 - accuracy: 0.7181 - val_loss: 0.9665 - val_accuracy: 0.5625\n",
      "Epoch 2/100\n",
      "2/2 [==============================] - 0s 118ms/step - loss: 0.7783 - accuracy: 0.6809 - val_loss: 0.9648 - val_accuracy: 0.5833\n",
      "Epoch 3/100\n",
      "2/2 [==============================] - 0s 117ms/step - loss: 0.7636 - accuracy: 0.7021 - val_loss: 0.9807 - val_accuracy: 0.5208\n",
      "Epoch 4/100\n",
      "2/2 [==============================] - 0s 117ms/step - loss: 0.7804 - accuracy: 0.6755 - val_loss: 0.9835 - val_accuracy: 0.5000\n",
      "Epoch 5/100\n",
      "2/2 [==============================] - 0s 120ms/step - loss: 0.7686 - accuracy: 0.6862 - val_loss: 0.9577 - val_accuracy: 0.5625\n",
      "Epoch 6/100\n",
      "2/2 [==============================] - 0s 120ms/step - loss: 0.7590 - accuracy: 0.6862 - val_loss: 0.9613 - val_accuracy: 0.5417\n",
      "Epoch 7/100\n",
      "2/2 [==============================] - 0s 117ms/step - loss: 0.7495 - accuracy: 0.7181 - val_loss: 0.9741 - val_accuracy: 0.5208\n",
      "Epoch 8/100\n",
      "2/2 [==============================] - 0s 117ms/step - loss: 0.7269 - accuracy: 0.7606 - val_loss: 0.9616 - val_accuracy: 0.5417\n",
      "Epoch 9/100\n",
      "2/2 [==============================] - 0s 119ms/step - loss: 0.7550 - accuracy: 0.7181 - val_loss: 0.9523 - val_accuracy: 0.5417\n",
      "Epoch 10/100\n",
      "2/2 [==============================] - 0s 117ms/step - loss: 0.7471 - accuracy: 0.7287 - val_loss: 0.9821 - val_accuracy: 0.5000\n",
      "Epoch 11/100\n",
      "2/2 [==============================] - 0s 120ms/step - loss: 0.7522 - accuracy: 0.7287 - val_loss: 0.9712 - val_accuracy: 0.5208\n",
      "Epoch 12/100\n",
      "2/2 [==============================] - 0s 120ms/step - loss: 0.7465 - accuracy: 0.7394 - val_loss: 0.9485 - val_accuracy: 0.5625\n",
      "Epoch 13/100\n",
      "2/2 [==============================] - 0s 120ms/step - loss: 0.7781 - accuracy: 0.6915 - val_loss: 0.9770 - val_accuracy: 0.5000\n",
      "Epoch 14/100\n",
      "2/2 [==============================] - 0s 114ms/step - loss: 0.7678 - accuracy: 0.6915 - val_loss: 1.0159 - val_accuracy: 0.4583\n",
      "Epoch 15/100\n",
      "2/2 [==============================] - 0s 116ms/step - loss: 0.7774 - accuracy: 0.6968 - val_loss: 0.9740 - val_accuracy: 0.5208\n",
      "Epoch 16/100\n",
      "2/2 [==============================] - 0s 116ms/step - loss: 0.7415 - accuracy: 0.7074 - val_loss: 0.9446 - val_accuracy: 0.5625\n",
      "Epoch 17/100\n",
      "2/2 [==============================] - 0s 117ms/step - loss: 0.7630 - accuracy: 0.7074 - val_loss: 1.0063 - val_accuracy: 0.4583\n",
      "Epoch 18/100\n",
      "2/2 [==============================] - 0s 116ms/step - loss: 0.7359 - accuracy: 0.7074 - val_loss: 1.0220 - val_accuracy: 0.4583\n",
      "Epoch 19/100\n",
      "2/2 [==============================] - 0s 118ms/step - loss: 0.7373 - accuracy: 0.6968 - val_loss: 0.9713 - val_accuracy: 0.5208\n",
      "Epoch 20/100\n",
      "2/2 [==============================] - 0s 118ms/step - loss: 0.7262 - accuracy: 0.7128 - val_loss: 0.9710 - val_accuracy: 0.5208\n",
      "Epoch 21/100\n",
      "2/2 [==============================] - 0s 119ms/step - loss: 0.7372 - accuracy: 0.7181 - val_loss: 1.0078 - val_accuracy: 0.4792\n",
      "Epoch 22/100\n",
      "2/2 [==============================] - 0s 115ms/step - loss: 0.7195 - accuracy: 0.7234 - val_loss: 1.0123 - val_accuracy: 0.5000\n",
      "Epoch 23/100\n",
      "2/2 [==============================] - 0s 116ms/step - loss: 0.7335 - accuracy: 0.7287 - val_loss: 0.9632 - val_accuracy: 0.5833\n",
      "Epoch 24/100\n",
      "2/2 [==============================] - 0s 119ms/step - loss: 0.7586 - accuracy: 0.6915 - val_loss: 0.9842 - val_accuracy: 0.5625\n",
      "Epoch 25/100\n",
      "2/2 [==============================] - 0s 118ms/step - loss: 0.7066 - accuracy: 0.7234 - val_loss: 1.0177 - val_accuracy: 0.5000\n",
      "Epoch 26/100\n",
      "2/2 [==============================] - 0s 117ms/step - loss: 0.7443 - accuracy: 0.7128 - val_loss: 0.9628 - val_accuracy: 0.5833\n",
      "Epoch 27/100\n",
      "2/2 [==============================] - 0s 114ms/step - loss: 0.7150 - accuracy: 0.7340 - val_loss: 0.9640 - val_accuracy: 0.5625\n",
      "Epoch 28/100\n",
      "2/2 [==============================] - 0s 117ms/step - loss: 0.7102 - accuracy: 0.7128 - val_loss: 1.0204 - val_accuracy: 0.4792\n",
      "Epoch 29/100\n",
      "2/2 [==============================] - 0s 123ms/step - loss: 0.7282 - accuracy: 0.7340 - val_loss: 1.0543 - val_accuracy: 0.4583\n",
      "Epoch 30/100\n",
      "2/2 [==============================] - 0s 118ms/step - loss: 0.7429 - accuracy: 0.7181 - val_loss: 0.9884 - val_accuracy: 0.4583\n",
      "Epoch 31/100\n",
      "2/2 [==============================] - 0s 115ms/step - loss: 0.7218 - accuracy: 0.7128 - val_loss: 0.9588 - val_accuracy: 0.5417\n",
      "Epoch 32/100\n",
      "2/2 [==============================] - 0s 118ms/step - loss: 0.7429 - accuracy: 0.7074 - val_loss: 0.9677 - val_accuracy: 0.5208\n",
      "Epoch 33/100\n",
      "2/2 [==============================] - 0s 117ms/step - loss: 0.7546 - accuracy: 0.7021 - val_loss: 0.9930 - val_accuracy: 0.4583\n",
      "Epoch 34/100\n",
      "2/2 [==============================] - 0s 119ms/step - loss: 0.7453 - accuracy: 0.7340 - val_loss: 1.0553 - val_accuracy: 0.4375\n",
      "Epoch 35/100\n",
      "2/2 [==============================] - 0s 116ms/step - loss: 0.7550 - accuracy: 0.6862 - val_loss: 1.0460 - val_accuracy: 0.4583\n",
      "Epoch 36/100\n",
      "2/2 [==============================] - 0s 118ms/step - loss: 0.7478 - accuracy: 0.7074 - val_loss: 0.9738 - val_accuracy: 0.4792\n",
      "Epoch 37/100\n",
      "2/2 [==============================] - 0s 118ms/step - loss: 0.7379 - accuracy: 0.7128 - val_loss: 0.9716 - val_accuracy: 0.5208\n",
      "Epoch 38/100\n",
      "2/2 [==============================] - 0s 117ms/step - loss: 0.7871 - accuracy: 0.6649 - val_loss: 0.9535 - val_accuracy: 0.5417\n",
      "Epoch 39/100\n",
      "2/2 [==============================] - 0s 120ms/step - loss: 0.7389 - accuracy: 0.6968 - val_loss: 1.1079 - val_accuracy: 0.3958\n",
      "Epoch 40/100\n",
      "2/2 [==============================] - 0s 115ms/step - loss: 0.8237 - accuracy: 0.6702 - val_loss: 1.0893 - val_accuracy: 0.4167\n",
      "Epoch 41/100\n",
      "2/2 [==============================] - 0s 116ms/step - loss: 0.7752 - accuracy: 0.6915 - val_loss: 1.0776 - val_accuracy: 0.3958\n",
      "Epoch 42/100\n",
      "2/2 [==============================] - 0s 114ms/step - loss: 0.7169 - accuracy: 0.7181 - val_loss: 1.0127 - val_accuracy: 0.4792\n",
      "Epoch 43/100\n",
      "2/2 [==============================] - 0s 117ms/step - loss: 0.7751 - accuracy: 0.6809 - val_loss: 0.9719 - val_accuracy: 0.5417\n",
      "Epoch 44/100\n",
      "2/2 [==============================] - 0s 119ms/step - loss: 0.8056 - accuracy: 0.6809 - val_loss: 0.9721 - val_accuracy: 0.5417\n",
      "Epoch 45/100\n",
      "2/2 [==============================] - 0s 120ms/step - loss: 0.7828 - accuracy: 0.6755 - val_loss: 0.9953 - val_accuracy: 0.5208\n",
      "Epoch 46/100\n",
      "2/2 [==============================] - 0s 119ms/step - loss: 0.7948 - accuracy: 0.6649 - val_loss: 1.0717 - val_accuracy: 0.3958\n",
      "Epoch 47/100\n",
      "2/2 [==============================] - 0s 121ms/step - loss: 0.7353 - accuracy: 0.7128 - val_loss: 1.0863 - val_accuracy: 0.4167\n",
      "Epoch 48/100\n",
      "2/2 [==============================] - 0s 123ms/step - loss: 0.7874 - accuracy: 0.6755 - val_loss: 1.0954 - val_accuracy: 0.3958\n",
      "Epoch 49/100\n",
      "2/2 [==============================] - 0s 117ms/step - loss: 0.7933 - accuracy: 0.6383 - val_loss: 1.0894 - val_accuracy: 0.4167\n",
      "Epoch 50/100\n",
      "2/2 [==============================] - 0s 117ms/step - loss: 0.7319 - accuracy: 0.7447 - val_loss: 0.9582 - val_accuracy: 0.5000\n",
      "Epoch 51/100\n",
      "2/2 [==============================] - 0s 115ms/step - loss: 0.7402 - accuracy: 0.7181 - val_loss: 1.0266 - val_accuracy: 0.5625\n",
      "Epoch 52/100\n",
      "2/2 [==============================] - 0s 114ms/step - loss: 0.8205 - accuracy: 0.6809 - val_loss: 1.0260 - val_accuracy: 0.6042\n",
      "Epoch 53/100\n",
      "2/2 [==============================] - 0s 117ms/step - loss: 0.9096 - accuracy: 0.6596 - val_loss: 1.0214 - val_accuracy: 0.5833\n",
      "Epoch 54/100\n",
      "2/2 [==============================] - 0s 115ms/step - loss: 0.8433 - accuracy: 0.6649 - val_loss: 0.9749 - val_accuracy: 0.5417\n",
      "Epoch 55/100\n",
      "2/2 [==============================] - 0s 116ms/step - loss: 0.7757 - accuracy: 0.7074 - val_loss: 0.9900 - val_accuracy: 0.5000\n",
      "Epoch 56/100\n",
      "2/2 [==============================] - 0s 129ms/step - loss: 0.7439 - accuracy: 0.7074 - val_loss: 1.0827 - val_accuracy: 0.3958\n",
      "Epoch 57/100\n",
      "2/2 [==============================] - 0s 119ms/step - loss: 0.7144 - accuracy: 0.7128 - val_loss: 1.0792 - val_accuracy: 0.4167\n",
      "Epoch 58/100\n",
      "2/2 [==============================] - 0s 117ms/step - loss: 0.7423 - accuracy: 0.7128 - val_loss: 1.0838 - val_accuracy: 0.4167\n"
     ]
    },
    {
     "name": "stdout",
     "output_type": "stream",
     "text": [
      "Epoch 59/100\n",
      "2/2 [==============================] - 0s 118ms/step - loss: 0.7889 - accuracy: 0.6755 - val_loss: 1.0825 - val_accuracy: 0.4167\n",
      "Epoch 60/100\n",
      "2/2 [==============================] - 0s 115ms/step - loss: 0.7637 - accuracy: 0.6809 - val_loss: 1.0921 - val_accuracy: 0.3958\n",
      "Epoch 61/100\n",
      "2/2 [==============================] - 0s 117ms/step - loss: 0.7024 - accuracy: 0.7234 - val_loss: 1.0037 - val_accuracy: 0.4792\n",
      "Epoch 62/100\n",
      "2/2 [==============================] - 0s 115ms/step - loss: 0.7307 - accuracy: 0.6862 - val_loss: 0.9681 - val_accuracy: 0.5208\n",
      "Epoch 63/100\n",
      "2/2 [==============================] - 0s 116ms/step - loss: 0.7460 - accuracy: 0.6968 - val_loss: 0.9707 - val_accuracy: 0.5208\n",
      "Epoch 64/100\n",
      "2/2 [==============================] - 0s 114ms/step - loss: 0.6938 - accuracy: 0.7340 - val_loss: 1.0150 - val_accuracy: 0.4792\n",
      "Epoch 65/100\n",
      "2/2 [==============================] - 0s 121ms/step - loss: 0.7258 - accuracy: 0.7074 - val_loss: 1.0930 - val_accuracy: 0.4167\n",
      "Epoch 66/100\n",
      "2/2 [==============================] - 0s 115ms/step - loss: 0.7486 - accuracy: 0.7181 - val_loss: 1.1056 - val_accuracy: 0.3750\n",
      "Epoch 67/100\n",
      "2/2 [==============================] - 0s 124ms/step - loss: 0.7233 - accuracy: 0.7447 - val_loss: 1.1001 - val_accuracy: 0.3958\n",
      "Epoch 68/100\n",
      "2/2 [==============================] - 0s 116ms/step - loss: 0.6956 - accuracy: 0.7340 - val_loss: 1.0498 - val_accuracy: 0.4583\n",
      "Epoch 69/100\n",
      "2/2 [==============================] - 0s 117ms/step - loss: 0.7069 - accuracy: 0.7128 - val_loss: 0.9934 - val_accuracy: 0.5000\n",
      "Epoch 70/100\n",
      "2/2 [==============================] - 0s 119ms/step - loss: 0.6916 - accuracy: 0.7181 - val_loss: 0.9310 - val_accuracy: 0.5417\n",
      "Epoch 71/100\n",
      "2/2 [==============================] - 0s 118ms/step - loss: 0.6857 - accuracy: 0.7553 - val_loss: 0.9522 - val_accuracy: 0.5417\n",
      "Epoch 72/100\n",
      "2/2 [==============================] - 0s 114ms/step - loss: 0.6801 - accuracy: 0.7447 - val_loss: 0.9583 - val_accuracy: 0.5208\n",
      "Epoch 73/100\n",
      "2/2 [==============================] - 0s 114ms/step - loss: 0.6907 - accuracy: 0.7181 - val_loss: 0.9684 - val_accuracy: 0.5208\n",
      "Epoch 74/100\n",
      "2/2 [==============================] - 0s 122ms/step - loss: 0.6864 - accuracy: 0.7553 - val_loss: 1.0035 - val_accuracy: 0.5000\n",
      "Epoch 75/100\n",
      "2/2 [==============================] - 0s 116ms/step - loss: 0.6983 - accuracy: 0.7394 - val_loss: 1.0261 - val_accuracy: 0.4792\n",
      "Epoch 76/100\n",
      "2/2 [==============================] - 0s 126ms/step - loss: 0.7143 - accuracy: 0.7074 - val_loss: 1.0235 - val_accuracy: 0.4792\n",
      "Epoch 77/100\n",
      "2/2 [==============================] - 0s 116ms/step - loss: 0.6739 - accuracy: 0.7394 - val_loss: 0.9943 - val_accuracy: 0.5000\n",
      "Epoch 78/100\n",
      "2/2 [==============================] - 0s 116ms/step - loss: 0.7066 - accuracy: 0.7394 - val_loss: 0.9854 - val_accuracy: 0.5000\n",
      "Epoch 79/100\n",
      "2/2 [==============================] - 0s 118ms/step - loss: 0.6908 - accuracy: 0.7447 - val_loss: 0.9944 - val_accuracy: 0.5000\n",
      "Epoch 80/100\n",
      "2/2 [==============================] - 0s 115ms/step - loss: 0.6927 - accuracy: 0.7606 - val_loss: 0.9963 - val_accuracy: 0.5000\n",
      "Epoch 81/100\n",
      "2/2 [==============================] - 0s 116ms/step - loss: 0.6802 - accuracy: 0.7500 - val_loss: 0.9882 - val_accuracy: 0.5000\n",
      "Epoch 82/100\n",
      "2/2 [==============================] - 0s 113ms/step - loss: 0.6733 - accuracy: 0.7500 - val_loss: 0.9456 - val_accuracy: 0.5417\n",
      "Epoch 83/100\n",
      "2/2 [==============================] - 0s 113ms/step - loss: 0.6595 - accuracy: 0.7819 - val_loss: 0.9687 - val_accuracy: 0.5208\n",
      "Epoch 84/100\n",
      "2/2 [==============================] - 0s 117ms/step - loss: 0.6761 - accuracy: 0.7447 - val_loss: 1.0011 - val_accuracy: 0.5000\n",
      "Epoch 85/100\n",
      "2/2 [==============================] - 0s 119ms/step - loss: 0.6830 - accuracy: 0.7340 - val_loss: 1.0278 - val_accuracy: 0.4792\n",
      "Epoch 86/100\n",
      "2/2 [==============================] - 0s 116ms/step - loss: 0.6950 - accuracy: 0.7340 - val_loss: 1.0057 - val_accuracy: 0.5000\n",
      "Epoch 87/100\n",
      "2/2 [==============================] - 0s 119ms/step - loss: 0.6626 - accuracy: 0.7660 - val_loss: 0.9763 - val_accuracy: 0.5208\n",
      "Epoch 88/100\n",
      "2/2 [==============================] - 0s 116ms/step - loss: 0.6969 - accuracy: 0.7181 - val_loss: 1.0207 - val_accuracy: 0.4792\n",
      "Epoch 89/100\n",
      "2/2 [==============================] - 0s 120ms/step - loss: 0.6538 - accuracy: 0.7234 - val_loss: 1.0335 - val_accuracy: 0.4792\n",
      "Epoch 90/100\n",
      "2/2 [==============================] - 0s 116ms/step - loss: 0.6543 - accuracy: 0.7287 - val_loss: 1.0430 - val_accuracy: 0.4583\n",
      "Epoch 91/100\n",
      "2/2 [==============================] - 0s 114ms/step - loss: 0.6421 - accuracy: 0.7553 - val_loss: 1.0335 - val_accuracy: 0.4792\n",
      "Epoch 92/100\n",
      "2/2 [==============================] - 0s 115ms/step - loss: 0.6562 - accuracy: 0.7394 - val_loss: 1.0272 - val_accuracy: 0.4792\n",
      "Epoch 93/100\n",
      "2/2 [==============================] - 0s 116ms/step - loss: 0.6506 - accuracy: 0.7500 - val_loss: 1.0190 - val_accuracy: 0.4583\n",
      "Epoch 94/100\n",
      "2/2 [==============================] - 0s 113ms/step - loss: 0.6465 - accuracy: 0.7394 - val_loss: 1.0111 - val_accuracy: 0.4583\n",
      "Epoch 95/100\n",
      "2/2 [==============================] - 0s 118ms/step - loss: 0.6791 - accuracy: 0.7394 - val_loss: 0.9862 - val_accuracy: 0.4792\n",
      "Epoch 96/100\n",
      "2/2 [==============================] - 0s 117ms/step - loss: 0.6593 - accuracy: 0.7766 - val_loss: 0.9638 - val_accuracy: 0.5000\n",
      "Epoch 97/100\n",
      "2/2 [==============================] - 0s 115ms/step - loss: 0.6593 - accuracy: 0.7128 - val_loss: 0.9529 - val_accuracy: 0.5208\n",
      "Epoch 98/100\n",
      "2/2 [==============================] - 0s 117ms/step - loss: 0.6603 - accuracy: 0.7394 - val_loss: 0.9534 - val_accuracy: 0.5208\n",
      "Epoch 99/100\n",
      "2/2 [==============================] - 0s 122ms/step - loss: 0.6353 - accuracy: 0.7287 - val_loss: 1.0230 - val_accuracy: 0.4375\n",
      "Epoch 100/100\n",
      "2/2 [==============================] - 0s 116ms/step - loss: 0.6573 - accuracy: 0.7340 - val_loss: 1.0436 - val_accuracy: 0.4375\n"
     ]
    },
    {
     "name": "stderr",
     "output_type": "stream",
     "text": [
      "WARNING:absl:Found untraced functions such as embedding_5_layer_call_fn, embedding_5_layer_call_and_return_conditional_losses, lstm_cell_4_layer_call_fn, lstm_cell_4_layer_call_and_return_conditional_losses while saving (showing 4 of 4). These functions will not be directly callable after loading.\n"
     ]
    },
    {
     "name": "stdout",
     "output_type": "stream",
     "text": [
      "INFO:tensorflow:Assets written to: lstm.pkl/assets\n"
     ]
    },
    {
     "name": "stderr",
     "output_type": "stream",
     "text": [
      "INFO:tensorflow:Assets written to: lstm.pkl/assets\n"
     ]
    },
    {
     "name": "stdout",
     "output_type": "stream",
     "text": [
      "1/1 [==============================] - 0s 22ms/step\n",
      "base totality data agree nusinersen positive profile treat sma Positive Neutral\n",
      "1/1 [==============================] - 0s 19ms/step\n",
      "take together data demonstrate consistently nusinersen produce meaningful benefit across broad range sma phenotypes Positive Positive\n",
      "1/1 [==============================] - 0s 20ms/step\n",
      "overall available clinical efficacy data consider adequate support use cladribine treatment adult patients highly active rms define clinical image feature Positive Neutral\n",
      "1/1 [==============================] - 0s 23ms/step\n",
      "data furthermore support use cumulative dose administer 2 course 2 years Positive Neutral\n",
      "1/1 [==============================] - 0s 22ms/step\n",
      "appropriately cover maviret smpc addition medicine Positive Neutral\n",
      "1/1 [==============================] - 0s 21ms/step\n",
      "clinical data assess nuwiq application adequately reflect product information Positive Positive\n",
      "1/1 [==============================] - 0s 21ms/step\n",
      "nevertheless chmp note since clinical development build mainly promote use dual therapy first line treatment rather retreatment limit sample size study without gt3 patients daa te leave many uncertainties use dual therapy patients fail daa Negative Neutral\n",
      "1/1 [==============================] - 0s 22ms/step\n",
      "major contribution hba1c due insulin glargine treatment difference frc insulin glargine range whereas treatment difference frc lixisenatide Neutral Neutral\n",
      "1/1 [==============================] - 0s 23ms/step\n",
      "due structure pps weak anticoagulant effect observe pps patients risk factor increase bleed undergo invasive procedures underlie coagulopathy take anticoagulants carefully evaluate haemorrhage treatment Negative Neutral\n",
      "1/1 [==============================] - 0s 22ms/step\n",
      "preliminary result ongoing phase 3 study reassure respect Positive Positive\n",
      "1/1 [==============================] - 0s 21ms/step\n",
      "particular interest fdc comprise two pangenotypic components high potency high genetic barrier Neutral Positive\n",
      "1/1 [==============================] - 0s 21ms/step\n",
      "safety profile fdc largely base safety profile individual components Positive Positive\n",
      "1/1 [==============================] - 0s 23ms/step\n",
      "summary literature regard clinical data tadalafil two bioequivalence study provide demonstrate active substance not differ significantly properties regard safety efficacy reference product accept chmp Positive Positive\n",
      "1/1 [==============================] - 0s 21ms/step\n",
      "study 221 continue characterize safety combination treatment patients non clear cell renal carcinoma Neutral Positive\n",
      "1/1 [==============================] - 0s 21ms/step\n",
      "safety profile 8 12 weeks patients compensate liver disease due hcv infection appear favourable Positive Positive\n",
      "1/1 [==============================] - 0s 22ms/step\n",
      "consistency among various key clinically meaningful endpoints provide independent measure central pathology sma support significant efficacy symptomatic subject across sma Positive Positive\n",
      "1/1 [==============================] - 0s 22ms/step\n",
      "lack data beyond 30 weeks frc Negative Positive\n",
      "1/1 [==============================] - 0s 23ms/step\n",
      "subgroup analyse suggest larger effect size patients high disease activity Neutral Positive\n",
      "1/1 [==============================] - 0s 23ms/step\n",
      "acknowledge insulin glargine lixisenatide may take time day use Neutral Neutral\n",
      "1/1 [==============================] - 0s 22ms/step\n",
      "european medicine agency review new information medicinal product least every year smpc update necessary Neutral Positive\n",
      "1/1 [==============================] - 0s 24ms/step\n",
      "frequency relate aes severity aes aesis remain similar group transition humira sb5 week 24 Positive Positive\n",
      "1/1 [==============================] - 0s 23ms/step\n",
      "similar trend towards prolong os also observe favour lenvatinib monotherapy less obvious combination therapy Positive Positive\n",
      "1/1 [==============================] - 0s 21ms/step\n",
      "furthermore encourage sign prolong os see patients treat combination lenvatinib everolimus combination therapy per primary analysis well two update analyse span period Positive Positive\n",
      "1/1 [==============================] - 0s 24ms/step\n",
      "take account intrinsic limitation single arm study rarity disease challenge compare result data historical control literature currently available data deem support efficacy avelumab patients Positive Neutral\n",
      "1/1 [==============================] - 0s 21ms/step\n",
      "objectives study demonstrate similarity pharmacokinetics efficacy rituxan primary endpoints coadministered cvp patients advance fl objectives meet furthermore extrapolation context nhl cll indications acceptable Positive Positive\n",
      "1/1 [==============================] - 0s 21ms/step\n",
      "question still remain long term safety ongoing extension study undertake provide data Negative Positive\n",
      "1/1 [==============================] - 0s 22ms/step\n",
      "also mean change show high similarity visit Positive Positive\n",
      "1/1 [==============================] - 0s 20ms/step\n",
      "chmp consider additional supportive data efficacy provide also follow safety study Neutral Neutral\n",
      "1/1 [==============================] - 0s 22ms/step\n",
      "furthermore data spms patients superimpose relapse although limit support beneficial effect cladribine relapse rate population Positive Positive\n",
      "1/1 [==============================] - 0s 22ms/step\n",
      "additional safety data maintenance study period period provide see rmp Negative Neutral\n",
      "1/1 [==============================] - 0s 21ms/step\n",
      "overall chf 5993 pmdi show benefit reduction exacerbation frequency improvement lung function two large phase iii study Positive Neutral\n",
      "1/1 [==============================] - 0s 21ms/step\n",
      "latter uncertainties due observe imbalance case occur patients treat cladribine compare placebo well low number events remain although supportive analyse not support causal association Neutral Positive\n",
      "1/1 [==============================] - 0s 22ms/step\n",
      "superior clinical efficacy chf 5993 pmdi compare tiotropium support consistent find relevant parameters include sgrq use rescue medication Positive Neutral\n",
      "1/1 [==============================] - 0s 23ms/step\n",
      "effect consistent across study across investigate subgroups Neutral Positive\n",
      "1/1 [==============================] - 0s 20ms/step\n",
      "overall safety profile pps not consider concern Positive Positive\n",
      "1/1 [==============================] - 0s 19ms/step\n",
      "data ongoing study sma support treatment nusinersen potential prolong overall survival Positive Positive\n",
      "1/1 [==============================] - 0s 21ms/step\n",
      "majority aes saes report subject expose nusinersen consistent nature frequency events typically occur context sma Positive Neutral\n",
      "1/1 [==============================] - 0s 21ms/step\n",
      "since tadalafil lilly application inform consent cialis application clinical data support tadalafil lilly application identical clinical data cialis dossier assess authorise include procedures Positive Neutral\n",
      "1/1 [==============================] - 0s 21ms/step\n",
      "sample size calculate provide adequate power bioequivalence analysis Positive Neutral\n",
      "1/1 [==============================] - 0s 21ms/step\n",
      "poor tolerability combination manifest high rat discontinuations due aes dose modifications Negative Positive\n",
      "1/1 [==============================] - 0s 22ms/step\n",
      "conclusion safety profile insulin lispro sanofi acceptable not different humalog Positive Positive\n",
      "1/1 [==============================] - 0s 25ms/step\n",
      "chmp consider follow measure necessary address issue relate safety Negative Neutral\n",
      "1/1 [==============================] - 0s 22ms/step\n",
      "difference magnitude across endpoints alignment understand pathology sma deficiency smn protein lead disease progression events proximal action smn decline motor neuron health measure cmap chop intend distal measure motor milestones survival Neutral Positive\n",
      "1/1 [==============================] - 0s 21ms/step\n",
      "no major concern identify update analysis Positive Neutral\n",
      "1/1 [==============================] - 0s 21ms/step\n",
      "1 nevertheless applicant conduct two large efficacy safety phase iii study compare test reference products order investigate feature biosimilar candidate product translate clinical parameters relevant management patients type 1 2 dm Neutral Neutral\n"
     ]
    },
    {
     "name": "stdout",
     "output_type": "stream",
     "text": [
      "1/1 [==============================] - 0s 21ms/step\n",
      "mean evidence medicinal product await Negative Positive\n",
      "1/1 [==============================] - 0s 20ms/step\n",
      "majority treat infants sma achieve improvement great proportion reach clinically meaningful continue improvements motor milestones independent sit stand walk muscle strength motor function exceed sham infants study cs3b natural history disease progressive loss motor function observe Positive Positive\n",
      "1/1 [==============================] - 0s 22ms/step\n",
      "addition fatality rate subject sma half subject Positive Neutral\n",
      "模型在测试集上的准确率为: 0.4375.\n"
     ]
    }
   ],
   "source": [
    "lstm_model.fit(train_x, train_y, epochs=100, batch_size=150,validation_data=(test_x,test_y))\n",
    "# 模型保存\n",
    "lstm_model.save('lstm.pkl')\n",
    "N = test_x.shape[0]  # 测试的条数\n",
    "predict = []\n",
    "label = []\n",
    "for start, end in zip(range(0, N, 1), range(1, N+1, 1)):\n",
    "    sentence = [inverse_word_dictionary[i] for i in test_x[start] if i != 0]\n",
    "    y_predict = lstm_model.predict(test_x[start:end])\n",
    "    label_predict = output_dictionary[np.argmax(y_predict[0])]\n",
    "    label_true = output_dictionary[np.argmax(test_y[start:end])]\n",
    "    print(''.join(sentence), label_true, label_predict) # 输出预测结果\n",
    "    predict.append(label_predict)\n",
    "    label.append(label_true)\n",
    "acc = accuracy_score(predict, label) # 预测准确率\n",
    "print('模型在测试集上的准确率为: %s.' % acc)"
   ]
  },
  {
   "cell_type": "code",
   "execution_count": 351,
   "metadata": {},
   "outputs": [
    {
     "name": "stdout",
     "output_type": "stream",
     "text": [
      "1/1 [==============================] - 0s 21ms/step\n",
      "result 2nd line treatment show orr 33 patients durable responses result apparent pfs plateau Positive Positive\n",
      "1/1 [==============================] - 0s 21ms/step\n",
      "long duration response high durable response rate observe minimum substantiate minimum analysis Positive Positive\n",
      "1/1 [==============================] - 0s 22ms/step\n",
      "median os time update result exceed 1 year Neutral Neutral\n",
      "1/1 [==============================] - 0s 22ms/step\n",
      "therefore clinical benefit 2nd line treatment consider clinically meaningful magnitude effect significant compare chemotherapy Positive Positive\n",
      "1/1 [==============================] - 0s 22ms/step\n",
      "data provide 1st line although preliminary show activity avelumab mmcc term response rate evidence similar durable response small subset patients longer compare 2nd line treatment Positive Positive\n",
      "1/1 [==============================] - 0s 23ms/step\n",
      "take account intrinsic limitation single arm study rarity disease challenge compare result data historical control literature currently available data deem support efficacy avelumab patients Positive Neutral\n",
      "1/1 [==============================] - 0s 21ms/step\n",
      "medicinal product authorise conditional approval scheme Neutral Positive\n",
      "1/1 [==============================] - 0s 25ms/step\n",
      "mean evidence medicinal product await Negative Positive\n",
      "1/1 [==============================] - 0s 22ms/step\n",
      "european medicine agency review new information medicinal product least every year smpc update necessary Neutral Positive\n",
      "1/1 [==============================] - 0s 22ms/step\n",
      "chmp consider follow measure necessary address miss efficacy data 1st line treatment context conditional Negative Positive\n",
      "1/1 [==============================] - 0s 23ms/step\n",
      "order confirm efficacy treat patients mah submit final result study emr part b Neutral Neutral\n",
      "1/1 [==============================] - 0s 24ms/step\n",
      "final result study submit 30th january 2020 Neutral Neutral\n",
      "1/1 [==============================] - 0s 21ms/step\n",
      "chmp consider additional supportive data efficacy provide also follow safety study Neutral Neutral\n",
      "1/1 [==============================] - 0s 21ms/step\n",
      "pass german cohort study submit additional phv activity address miss information safety efficacy immune compromise patients Negative Positive\n",
      "1/1 [==============================] - 0s 23ms/step\n",
      "safety data collect earlier data cut remain consistent longer follow Positive Positive\n",
      "1/1 [==============================] - 0s 23ms/step\n",
      "no major concern identify update analysis Positive Neutral\n",
      "1/1 [==============================] - 0s 22ms/step\n",
      "safety avelumab propose indication appear acceptable manageable recommendations propose smpc rmp Positive Positive\n",
      "1/1 [==============================] - 0s 21ms/step\n",
      "safety risk associate immune relate adverse reactions manage additional risk minimisation activities implement form educational materials inform hcps patients identify properly handle suspect immune relate adrs Neutral Neutral\n",
      "1/1 [==============================] - 0s 23ms/step\n",
      "chmp consider follow measure necessary address issue relate safety Negative Neutral\n",
      "1/1 [==============================] - 0s 22ms/step\n",
      "biosimilarity mabthera consider demonstrate base efficacy data Positive Positive\n",
      "1/1 [==============================] - 0s 22ms/step\n",
      "pivotal ra trial efficacy result term das28 acr show comparable mabthera Positive Positive\n",
      "1/1 [==============================] - 0s 22ms/step\n",
      "addition pk data discuss support extrapolation autoimmune indications Positive Positive\n",
      "1/1 [==============================] - 0s 22ms/step\n",
      "objectives study demonstrate similarity pharmacokinetics efficacy rituxan primary endpoints coadministered cvp patients advance fl objectives meet furthermore extrapolation context nhl cll indications acceptable Positive Positive\n",
      "1/1 [==============================] - 0s 21ms/step\n",
      "overall safety profile appear roughly similar reference product although pool incidences aes saes generally lower reference products Neutral Neutral\n",
      "1/1 [==============================] - 0s 21ms/step\n",
      "therefore available safety data consider supportive biosimilarity mabthera Positive Positive\n",
      "1/1 [==============================] - 0s 22ms/step\n",
      "common report events infections infusion relate reactions Neutral Neutral\n",
      "1/1 [==============================] - 0s 23ms/step\n",
      "frequencies nature adverse events line report innovator ra nlh study populations Positive Positive\n",
      "1/1 [==============================] - 0s 22ms/step\n",
      "although dataset afl patients update data still consider limit reach firm conclusion safety proflie Negative Neutral\n",
      "1/1 [==============================] - 0s 22ms/step\n",
      "additional safety data maintenance study period period provide see rmp Negative Neutral\n",
      "1/1 [==============================] - 0s 24ms/step\n",
      "plan extension study ra afl ltbfl list rmp provide additional long term safety data Neutral Neutral\n",
      "1/1 [==============================] - 0s 20ms/step\n",
      "summary literature regard clinical data daptomycin hospira justifications product essentially similar properties regard safety efficacy reference product provide accept chmp Positive Positive\n",
      "1/1 [==============================] - 0s 21ms/step\n",
      "accordance relevant guideline additional clinical study not consider necessary Positive Positive\n",
      "1/1 [==============================] - 0s 25ms/step\n",
      "superiority placebo demonstrate dupilumab dose monotherapy combination tcs ad patients insufficiently control topical therapies alone Positive Positive\n",
      "1/1 [==============================] - 0s 21ms/step\n",
      "no significant additional benefit observe weekly dose versus q2w dose 300 mg overall population Neutral Neutral\n",
      "1/1 [==============================] - 0s 21ms/step\n",
      "therefore chmp endorse propose dose 300 mg every week q2w load dose 600 mg day 1 Neutral Neutral\n",
      "1/1 [==============================] - 0s 22ms/step\n",
      "base present available data dupilumab find acceptable safety profile Positive Positive\n",
      "1/1 [==============================] - 0s 22ms/step\n",
      "regard teae profile no meaningful qualitative quantitative differences see treatment well dose regimen Neutral Neutral\n",
      "1/1 [==============================] - 0s 21ms/step\n",
      "question still remain long term safety ongoing extension study undertake provide data Negative Positive\n",
      "1/1 [==============================] - 0s 22ms/step\n",
      "applicant provide six pivotal study support application Neutral Neutral\n",
      "1/1 [==============================] - 0s 28ms/step\n",
      "3 pivotal randomize multicentre placebo control study parsons mulholland 1987 mulholland et al 1990 parsons et al 1993 among 6 pivotal study meet primary endpoint gra secondary endpoints pain Negative Positive\n",
      "1/1 [==============================] - 0s 20ms/step\n",
      "base primary conduct applicant include six pivotal study estimate benefit differences reach 13 itt report Neutral Neutral\n",
      "1/1 [==============================] - 0s 23ms/step\n",
      "benefit difference pps versus placebo reach 17 exclude 2 pivotal study et al 1987 nickel et al 2015 lowest response rat population less homogeneous four clinical study mix broad Neutral Neutral\n",
      "1/1 [==============================] - 0s 24ms/step\n",
      "indeed benefit difference mainly drive statistically significant result three pivotal study parsons et al 1993 mulholland et al 1990 parsons mulholland 1987 include patients fall within essic classification 2x 3c Neutral Neutral\n",
      "1/1 [==============================] - 0s 20ms/step\n",
      "furthermore accord four pivotal study perform patients meet essic classification 2x 3c pool response rate pps treatment higher pool response rate placebo gra primary endpoint also pain urgency efficacy pps consider sufficiently demonstrate population Positive Positive\n",
      "1/1 [==============================] - 0s 21ms/step\n",
      "overall safety profile pps not consider concern Positive Positive\n",
      "1/1 [==============================] - 0s 21ms/step\n",
      "due structure pps weak anticoagulant effect observe pps patients risk factor increase bleed undergo invasive procedures underlie coagulopathy take anticoagulants carefully evaluate haemorrhage treatment Negative Neutral\n",
      "1/1 [==============================] - 0s 23ms/step\n",
      "risk adequately address various section smpc important identify risk rmp Positive Positive\n"
     ]
    },
    {
     "name": "stdout",
     "output_type": "stream",
     "text": [
      "1/1 [==============================] - 0s 21ms/step\n",
      "base present bioequivalence study test formulation disoproxil krka film coat tablets krka slovenia consider bioequivalent reference truvada film coat tablets manufacture gilead sciences intl ltd ireland holder gilead sciences uk Positive Neutral\n",
      "1/1 [==============================] - 0s 21ms/step\n",
      "application contain adequate review publish clinical data bioequivalence show granpidam 100 mg tablets Positive Positive\n",
      "1/1 [==============================] - 0s 22ms/step\n",
      "biowaiver 20 mg strength consider acceptable Positive Positive\n",
      "1/1 [==============================] - 0s 20ms/step\n",
      "base present bioequivalence study granpidam consider bioequivalent viagra reference product use Positive Positive\n",
      "1/1 [==============================] - 0s 21ms/step\n",
      "result study 100mg formulation extrapolate strengths 20mg accord condition guidelines Positive Neutral\n",
      "1/1 [==============================] - 0s 21ms/step\n",
      "result present efficacy support biosimilarity claim test product sb5 reference product eu humira Positive Positive\n",
      "1/1 [==============================] - 0s 23ms/step\n",
      "number subject sufficient compare safety profile biosimilar candidate sb5 reference medicinal product study safety biosimilar product one year Positive Neutral\n",
      "1/1 [==============================] - 0s 20ms/step\n",
      "broadly number severity type teaes saes aes special interest treatment discontinuations due aes laboratory find comparable sb5 humira mirror safety profile describe smpc humira Positive Positive\n",
      "1/1 [==============================] - 0s 22ms/step\n",
      "frequency relate aes severity aes aesis remain similar group transition humira sb5 week 24 Positive Positive\n",
      "1/1 [==============================] - 0s 20ms/step\n",
      "detail data injection site reactions hypersensitivity anaphylactic reactions request order allow thorough assessment issue subject without adas Negative Neutral\n",
      "1/1 [==============================] - 0s 22ms/step\n",
      "submit additional analyse support comparability safety profile sb5 humira Positive Positive\n",
      "1/1 [==============================] - 0s 22ms/step\n",
      "regard immunogenicity incidence titre distribution adas compare seem similar sb5 humira half subject develop neutralise antibodies treatment group Positive Positive\n",
      "1/1 [==============================] - 0s 21ms/step\n",
      "no worsen immunogenicity profile observe transition humira sb5 Positive Positive\n",
      "1/1 [==============================] - 0s 20ms/step\n",
      "no clinical efficacy study perform support biosimilarity claim Neutral Neutral\n",
      "1/1 [==============================] - 0s 21ms/step\n",
      "light establish biosimilarity quality level remain uncertainty safety profile inhixa clexane differ significantly consider low enough conclude similarity Positive Neutral\n",
      "1/1 [==============================] - 0s 21ms/step\n",
      "purpose clinical biosimilarity exercise biosimilar insulin products evaluation hba1c not sensitive endpoint therefore efficacy study evaluate hba1c not request Neutral Neutral\n",
      "1/1 [==============================] - 0s 20ms/step\n",
      "1 nevertheless applicant conduct two large efficacy safety phase iii study compare test reference products order investigate feature biosimilar candidate product translate clinical parameters relevant management patients type 1 2 dm Neutral Neutral\n",
      "1/1 [==============================] - 0s 20ms/step\n",
      "data consider supportive establish biosimilarity Positive Positive\n",
      "1/1 [==============================] - 0s 20ms/step\n",
      "study demonstrate sar342434 humalog improvement glycaemic control week 26 therefore provide strong supportive evidence comparability biosimilarity two products Positive Positive\n",
      "1/1 [==============================] - 0s 20ms/step\n",
      "result study efc12619 support similar clinical efficacy sar342434 humalog t1dm subject Positive Positive\n",
      "1/1 [==============================] - 0s 20ms/step\n",
      "size safety database duration exposure consider appropriate evaluation general safety profile insulin lispro sanofi Positive Neutral\n",
      "1/1 [==============================] - 0s 20ms/step\n",
      "safety tolerability insulin lispro sanofi humalog seem comparable thus support biosimilarity two products Positive Positive\n",
      "1/1 [==============================] - 0s 20ms/step\n",
      "regard immunogenicity differences aia response sars342434 humalog small inconsistent Negative Positive\n",
      "1/1 [==============================] - 0s 20ms/step\n",
      "aia not affect efficacy safety endpoints either t1dm t2dm subject Positive Positive\n",
      "1/1 [==============================] - 0s 19ms/step\n",
      "conclusion safety profile insulin lispro sanofi acceptable not different humalog Positive Positive\n",
      "1/1 [==============================] - 0s 20ms/step\n",
      "bioequivalence apply product ivabradine tablets mg respective strength reference product procoralan tablets les laboratoires servier demonstrate one bioequivalence study study Positive Neutral\n",
      "1/1 [==============================] - 0s 22ms/step\n",
      "study perform feed condition reflect recommendations brand leader spc administration product Positive Positive\n",
      "1/1 [==============================] - 0s 20ms/step\n",
      "sample size calculate provide adequate power bioequivalence analysis Positive Neutral\n",
      "1/1 [==============================] - 0s 19ms/step\n",
      "statistical methodology use study justify consistent principles guidelines investigation bioequivalence Positive Positive\n",
      "1/1 [==============================] - 0s 22ms/step\n",
      "accordance study protocol study meet bioequivalence criteria 90 confidence intervals pharmacokinetic parameters cmax ivabradine within acceptance range power respectively Positive Positive\n",
      "1/1 [==============================] - 0s 22ms/step\n",
      "bioequivalence study appear well conduct Positive Neutral\n",
      "1/1 [==============================] - 0s 20ms/step\n",
      "acceptable justification biowaiver ivabradine hydrochloride 5 mg tablets provide Positive Positive\n",
      "1/1 [==============================] - 0s 19ms/step\n",
      "ema guideline investigation bioequivalence rev 1 corr ivabradine 5 mg tablets satisfy condition waiver bioequivalence study conduct apply product mg strength Positive Positive\n",
      "1/1 [==============================] - 0s 20ms/step\n",
      "efficacy data two phase 3 study patients receive background dmards show dose regimens sarilumab 150 mg q2w 200 mg q2w superior placebo regard improvement sign symptoms acr20 responses physical function change baseline progression structural damage mtss study efc11072 Positive Positive\n",
      "1/1 [==============================] - 0s 20ms/step\n",
      "study demonstrate efficacy sarilumab monotherapy relative biologic dmard adalimumab Positive Positive\n",
      "1/1 [==============================] - 0s 20ms/step\n",
      "overall data submit study consider overall adequate identify patient population indication Positive Neutral\n",
      "1/1 [==============================] - 0s 22ms/step\n",
      "safety observation base total 3354 patients expose least 1 dose sarilumab total exposure Neutral Neutral\n",
      "1/1 [==============================] - 0s 20ms/step\n",
      "sarilumab associate infections include serious infections decrease anc platelet count increase alt lipids events consistent know effect inhibition injection site reactions consistent sc route administration Neutral Positive\n",
      "1/1 [==============================] - 0s 20ms/step\n",
      "no new safety concern identify development program clinical trial population Positive Positive\n",
      "1/1 [==============================] - 0s 20ms/step\n",
      "efficacy combination lenvatinib everolimus show Positive Positive\n",
      "1/1 [==============================] - 0s 20ms/step\n",
      "combination therapy demonstrate improve pfs compare everolimus monotherapy median pfs months vs months Positive Positive\n",
      "1/1 [==============================] - 0s 22ms/step\n",
      "additional sensitivity analyse perform confirm robustness observe pfs Positive Positive\n",
      "1/1 [==============================] - 0s 22ms/step\n",
      "furthermore encourage sign prolong os see patients treat combination lenvatinib everolimus combination therapy per primary analysis well two update analyse span period Positive Positive\n",
      "1/1 [==============================] - 0s 22ms/step\n",
      "similar trend towards prolong os also observe favour lenvatinib monotherapy less obvious combination therapy Positive Positive\n",
      "1/1 [==============================] - 0s 22ms/step\n",
      "overall safety profile combination consistent know safety profile components observe either indications lenvatinib intend indication everolimus Positive Positive\n"
     ]
    },
    {
     "name": "stdout",
     "output_type": "stream",
     "text": [
      "1/1 [==============================] - 0s 20ms/step\n",
      "report toxicity general predictable manageable Positive Positive\n",
      "1/1 [==============================] - 0s 22ms/step\n",
      "no new safety signal report Positive Positive\n",
      "1/1 [==============================] - 0s 22ms/step\n",
      "however adverse events well manage dose reduction interruption additional medical treatment Positive Neutral\n",
      "1/1 [==============================] - 0s 20ms/step\n",
      "however precaution warrant give small size safety database limit information toxicity limit data interactions together indication potential worsen toxicity vegfri mtor inhibitor combinations general Negative Positive\n",
      "1/1 [==============================] - 0s 22ms/step\n",
      "although toxicity appear manageable intend combination onset frequent severe toxicity may occur larger database longer term Negative Neutral\n",
      "1/1 [==============================] - 0s 20ms/step\n",
      "poor tolerability combination manifest high rat discontinuations due aes dose modifications Negative Positive\n",
      "1/1 [==============================] - 0s 21ms/step\n",
      "therefore study need conduct relevant clinical set order provide comprehensive data improve tolerability profile combination view limit safety database combination treatment intend relate uncertainties poor tolerability combination high rate treatment discontinuation dose modifications Negative Positive\n",
      "1/1 [==============================] - 0s 22ms/step\n",
      "chmp consider follow measure necessary address issue relate safety Negative Neutral\n",
      "1/1 [==============================] - 0s 20ms/step\n",
      "study 307 request characterise safety tolerability profile combination therapy contribute knowledge pk lenvatinib everolimus pk pd interactions Negative Positive\n",
      "1/1 [==============================] - 0s 20ms/step\n",
      "study 221 continue characterize safety combination treatment patients non clear cell renal carcinoma Neutral Positive\n",
      "1/1 [==============================] - 0s 20ms/step\n",
      "study 010 assess vitro lenvatinib protein bind determine unbind drug concentrations order define correctly patients severe hepatic renal impairment Neutral Neutral\n",
      "1/1 [==============================] - 0s 20ms/step\n",
      "study request lenvima also provide relevant safety information application Negative Neutral\n",
      "1/1 [==============================] - 0s 20ms/step\n",
      "base available data chmp consider criteria biowaiver meet Positive Positive\n",
      "1/1 [==============================] - 0s 21ms/step\n",
      "therefore absence bioequivalence study consider justify chmp conclude no clinical data need support application lacosamide accord 50 mg 100 mg 150 mg 200 mg tablets generic medicinal product vimpat Positive Positive\n",
      "1/1 [==============================] - 0s 20ms/step\n",
      "overall available clinical efficacy data consider adequate support use cladribine treatment adult patients highly active rms define clinical image feature Positive Neutral\n",
      "1/1 [==============================] - 0s 20ms/step\n",
      "result pivotal study clarity show clinically relevant effect cladribine patients rms term reduction relapse rate well mri lesions delay disability progression Positive Positive\n",
      "1/1 [==============================] - 0s 20ms/step\n",
      "subgroup analyse suggest larger effect size patients high disease activity Neutral Positive\n",
      "1/1 [==============================] - 0s 20ms/step\n",
      "furthermore data spms patients superimpose relapse although limit support beneficial effect cladribine relapse rate population Positive Positive\n",
      "1/1 [==============================] - 0s 21ms/step\n",
      "base data since relapse spms rrms patients underlie inflammatory pathophysiology patients rms instead rrms consider suitable target population Negative Neutral\n",
      "1/1 [==============================] - 0s 20ms/step\n",
      "data furthermore support use cumulative dose administer 2 course 2 years Positive Neutral\n",
      "1/1 [==============================] - 0s 20ms/step\n",
      "maintenance treatment effect year 3 4 support data clarity ext Positive Positive\n",
      "1/1 [==============================] - 0s 21ms/step\n",
      "no clinically relevant add benefit additional treatment cycle beyond year 2 evident Neutral Neutral\n",
      "1/1 [==============================] - 0s 21ms/step\n",
      "overall chmp view available clinical safety data adequate purpose assess safety cladribine use treatment adult patients highly active rms Positive Positive\n",
      "1/1 [==============================] - 0s 22ms/step\n",
      "main safety issue relate risk prolong severe lymphopenia infections include reactivation latent infections opportunistic infections well malignancies Neutral Neutral\n",
      "1/1 [==============================] - 0s 22ms/step\n",
      "latter uncertainties due observe imbalance case occur patients treat cladribine compare placebo well low number events remain although supportive analyse not support causal association Neutral Positive\n",
      "1/1 [==============================] - 0s 20ms/step\n",
      "overall risk minimisation measure include safety information product information well prescriber patient guide consider adequate address risk cladribine treatment data gather set Positive Positive\n",
      "1/1 [==============================] - 0s 22ms/step\n",
      "particular interest fdc comprise two pangenotypic components high potency high genetic barrier Neutral Positive\n",
      "1/1 [==============================] - 0s 24ms/step\n",
      "hcv population widely represent eu observe result 99 svr12 achieve convenient 8 weeks treatment duration tn patients 97 cirrhotic patients 12 weeks treatment duration support fact fdc represent optimization therapeutic armamentarium Positive Positive\n",
      "1/1 [==============================] - 0s 22ms/step\n",
      "part response chmp question throughout assessment clarifications additional data ongoing study notably provide applicant support efficacy product Neutral Neutral\n",
      "1/1 [==============================] - 0s 22ms/step\n",
      "chmp thus acknowledge applicant proposal treatment recommendation could overall follow daa treatment naïve patients mind possibility bridge efficacy gt1 base comparable vitro activity lead favour simplify regimen programmatic approach hcv eradication target 2030 Positive Positive\n",
      "1/1 [==============================] - 0s 20ms/step\n",
      "nevertheless chmp note since clinical development build mainly promote use dual therapy first line treatment rather retreatment limit sample size study without gt3 patients daa te leave many uncertainties use dual therapy patients fail daa Negative Neutral\n",
      "1/1 [==============================] - 0s 20ms/step\n",
      "safety profile maviret favourable no major concern identify Positive Positive\n",
      "1/1 [==============================] - 0s 20ms/step\n",
      "risk alt elevations seem lower compare previously authorize remain situations namely case combination regimens identify increase hepatic risk Neutral Positive\n",
      "1/1 [==============================] - 0s 21ms/step\n",
      "appropriately cover maviret smpc addition medicine Positive Neutral\n",
      "1/1 [==============================] - 0s 22ms/step\n",
      "support application applicant submit one bioequivalence study Neutral Neutral\n",
      "1/1 [==============================] - 0s 22ms/step\n",
      "randomize blind parallel bioequivalence study nitisinone 10 mg capsule orfadin reference follow 10 mg dose healthy subject fast condition Neutral Neutral\n",
      "1/1 [==============================] - 0s 21ms/step\n",
      "concern raise procedure regard satisfactorily answer product approvable clinical point view Positive Positive\n",
      "1/1 [==============================] - 0s 23ms/step\n",
      "no additional clinical study provide within current application Neutral Neutral\n",
      "1/1 [==============================] - 0s 22ms/step\n",
      "clinical overview provide base adequate scientific literature Neutral Neutral\n",
      "1/1 [==============================] - 0s 22ms/step\n",
      "chmp consider application acceptable clinical point view Positive Positive\n",
      "1/1 [==============================] - 0s 20ms/step\n",
      "summary literature regard clinical data pemetrexed hospira uk limit justifications different salt active substance not differ significantly properties regard safety efficacy reference product provide accept chmp Positive Positive\n",
      "1/1 [==============================] - 0s 20ms/step\n",
      "single dose bioequivalence study consider sufficient since application concern immediate release formulation Positive Positive\n",
      "1/1 [==============================] - 0s 23ms/step\n",
      "additional safety data maintenance study period period provide see rmp Negative Neutral\n"
     ]
    },
    {
     "name": "stdout",
     "output_type": "stream",
     "text": [
      "1/1 [==============================] - 0s 23ms/step\n",
      "additional safety data maintenance study period period provide see rmp Negative Neutral\n",
      "1/1 [==============================] - 0s 22ms/step\n",
      "since rolufta application inform consent incruse application clinical data support rolufta application identical clinical data incruse dossier assess authorise include procedures Positive Neutral\n",
      "1/1 [==============================] - 0s 22ms/step\n",
      "overall abp 501 ra study show similarity adalimumab several analyse Positive Positive\n",
      "1/1 [==============================] - 0s 21ms/step\n",
      "primary endpoint meet similarity week 24 indicate low point estimate narrow ci intervals acr20 rr risk difference Positive Positive\n",
      "1/1 [==============================] - 0s 21ms/step\n",
      "also mean change show high similarity visit Positive Positive\n",
      "1/1 [==============================] - 0s 20ms/step\n",
      "acr20 result per visit show significant differences may interpret indicate faster onset effect abp 501 could question similarity Negative Positive\n",
      "1/1 [==============================] - 0s 20ms/step\n",
      "however result not see das28 favourable acr50 acr70 conclude difference see week 2 acr20 likely chance find rather true difference Positive Positive\n",
      "1/1 [==============================] - 0s 20ms/step\n",
      "also psoriasis study meet primary endpoint point estimate difference 2 narrow cis indicate similarity Positive Positive\n",
      "1/1 [==============================] - 0s 20ms/step\n",
      "secondary endpoints pasi 75 spga show point estimate 7 difference wide ci Neutral Neutral\n",
      "1/1 [==============================] - 0s 20ms/step\n",
      "overall clinical similarity abp 501 adalimumab demonstrate Positive Positive\n",
      "1/1 [==============================] - 0s 20ms/step\n",
      "safety profile abp 501 humira consider comparable Positive Positive\n",
      "1/1 [==============================] - 0s 21ms/step\n",
      "majority treat infants sma achieve improvement great proportion reach clinically meaningful continue improvements motor milestones independent sit stand walk muscle strength motor function exceed sham infants study cs3b natural history disease progressive loss motor function observe Positive Positive\n",
      "1/1 [==============================] - 0s 20ms/step\n",
      "data treat infants genetically confirm sma show achieve motor milestones develop muscle strength motor function nusinersen treatment consistent normal infants symptomatic infants sma Positive Positive\n",
      "1/1 [==============================] - 0s 22ms/step\n",
      "subject sma receive nusinersen achieve maintain motor function across multiple measure milestones ability walk completely inconsistent natural history Positive Positive\n",
      "1/1 [==============================] - 0s 22ms/step\n",
      "difference magnitude across endpoints alignment understand pathology sma deficiency smn protein lead disease progression events proximal action smn decline motor neuron health measure cmap chop intend distal measure motor milestones survival Neutral Positive\n",
      "1/1 [==============================] - 0s 21ms/step\n",
      "data ongoing study sma support treatment nusinersen potential prolong overall survival Positive Positive\n",
      "1/1 [==============================] - 0s 21ms/step\n",
      "also support need early treatment nusinersen since shortly load phase complete rate ventilation among subject separate control Positive Positive\n",
      "1/1 [==============================] - 0s 20ms/step\n",
      "take together data demonstrate consistently nusinersen produce meaningful benefit across broad range sma phenotypes Positive Positive\n",
      "1/1 [==============================] - 0s 23ms/step\n",
      "consistency among various key clinically meaningful endpoints provide independent measure central pathology sma support significant efficacy symptomatic subject across sma Positive Positive\n",
      "1/1 [==============================] - 0s 23ms/step\n",
      "current study not provide evidence treatment effect persist indefinite length treatment neither infantile nor later onset sma Negative Neutral\n",
      "1/1 [==============================] - 0s 22ms/step\n",
      "chmp consider follow measure key ratio product necessary address issue relate efficacy Negative Neutral\n",
      "1/1 [==============================] - 0s 20ms/step\n",
      "paes order evaluate long term efficacy safety nusinersen symptomatic patients spinal muscular atrophy phase 3 extension study shine cs11 Negative Neutral\n",
      "1/1 [==============================] - 0s 20ms/step\n",
      "mah conduct submit result Negative Positive\n",
      "1/1 [==============================] - 0s 20ms/step\n",
      "paes order evaluate long term efficacy safety nusinersen patients spinal muscular atrophy mah conduct submit result phase 2 study nurture sm201 Negative Neutral\n",
      "1/1 [==============================] - 0s 20ms/step\n",
      "along need data efficacy safety derive study protocols include pk data collections Neutral Neutral\n",
      "1/1 [==============================] - 0s 20ms/step\n",
      "use collect require pk data order enable company make future decisions whether dose adjustment investigation dose adjustment require Neutral Neutral\n",
      "1/1 [==============================] - 0s 21ms/step\n",
      "csf data collect study use comprehensive update pop pk model Neutral Neutral\n",
      "1/1 [==============================] - 0s 20ms/step\n",
      "additionally follow measure contribute better understand efficacy safety clinical applicability product Neutral Neutral\n",
      "1/1 [==============================] - 0s 22ms/step\n",
      "embrace sm202 phase 2 randomize sham procedure control study assess safety tolerability pk efficacy patients not eligible participate study cs3b cs4 Neutral Neutral\n",
      "1/1 [==============================] - 0s 22ms/step\n",
      "registries initiative collaborations exist disease registries across globe capitalize available clinical experts network modify able collect appropriate information take account availability medicinal product Neutral Neutral\n",
      "1/1 [==============================] - 0s 21ms/step\n",
      "explore higher dose company request explore whether higher dose nusinersen could show greater efficacy Neutral Positive\n",
      "1/1 [==============================] - 0s 22ms/step\n",
      "safety profile nusinersen characterize subject sma randomize control study study infants sma study children sma randomize study study Neutral Neutral\n",
      "1/1 [==============================] - 0s 20ms/step\n",
      "review available data demonstrate no safety concern due nusinersen exposure Positive Neutral\n",
      "1/1 [==============================] - 0s 22ms/step\n",
      "majority aes saes report subject expose nusinersen consistent nature frequency events typically occur context sma Positive Neutral\n",
      "1/1 [==============================] - 0s 24ms/step\n",
      "infants treat nusinersen experience fewer adverse events compare symptomatic infants likely due healthier baseline condition maintain throughout participation study Neutral Positive\n",
      "1/1 [==============================] - 0s 21ms/step\n",
      "addition fatality rate subject sma half subject Positive Neutral\n",
      "1/1 [==============================] - 0s 21ms/step\n",
      "nusinersen demonstrate favourable safety efficacy pattern treatment sma randomize control clinical study study cs3b Positive Positive\n",
      "1/1 [==============================] - 0s 20ms/step\n",
      "support favourable safety efficacy data interim analysis randomize control clinical study cs4 subject study subject subject sma attainment motor milestones subject receive treatment differ see natural history sma Positive Neutral\n",
      "1/1 [==============================] - 0s 22ms/step\n",
      "base totality data agree nusinersen positive profile treat sma Positive Neutral\n",
      "1/1 [==============================] - 0s 22ms/step\n",
      "safety data obtain plan ongoing study Neutral Neutral\n",
      "1/1 [==============================] - 0s 21ms/step\n",
      "frc investigate clinical programme adequate design Positive Neutral\n",
      "1/1 [==============================] - 0s 23ms/step\n",
      "frc provide two different pen two different ratios insulin glargine lixisenatide may increase risk medication errors Negative Positive\n",
      "1/1 [==============================] - 0s 21ms/step\n",
      "study efc12404 provide relevant information contribution effect frc Positive Positive\n",
      "1/1 [==============================] - 0s 20ms/step\n",
      "insulin glargine primarily reduce hba1c decrease fast plasma glucose whereas lixisenatide primarily reduce glucose excursion Neutral Neutral\n",
      "1/1 [==============================] - 0s 20ms/step\n",
      "major contribution hba1c due insulin glargine treatment difference frc insulin glargine range whereas treatment difference frc lixisenatide Neutral Neutral\n"
     ]
    },
    {
     "name": "stdout",
     "output_type": "stream",
     "text": [
      "1/1 [==============================] - 0s 22ms/step\n",
      "frc decrease hba1c achieve without increase body weight without increase report hypoglycaemia compare patients monotherapy insulin glargine Positive Positive\n",
      "1/1 [==============================] - 0s 20ms/step\n",
      "no difference insulin dose frc compare monotherapy insulin glargine study thus no insulin save effect frc insulin dose comparator group cap 60 u Neutral Neutral\n",
      "1/1 [==============================] - 0s 21ms/step\n",
      "effect consistent across study across investigate subgroups Neutral Positive\n",
      "1/1 [==============================] - 0s 23ms/step\n",
      "study frc always take breakfast whereas propose smpc state suliqua take prior meal Neutral Neutral\n",
      "1/1 [==============================] - 0s 24ms/step\n",
      "acknowledge insulin glargine lixisenatide may take time day use Neutral Neutral\n",
      "1/1 [==============================] - 0s 23ms/step\n",
      "recommendation support data lixisenatide file show no statistically significant differences observe dose lixisenatide Neutral Neutral\n",
      "1/1 [==============================] - 0s 22ms/step\n",
      "lack data beyond 30 weeks frc Negative Positive\n",
      "1/1 [==============================] - 0s 21ms/step\n",
      "however analyse show small proportion patients 7 15 study efc12404 efc12405 respectively reach maximum dose need intensify treatment week 30 Positive Positive\n",
      "1/1 [==============================] - 0s 20ms/step\n",
      "addition data lixisenatide file present show maintenance efficacy 76 weeks combination basal insulin Positive Positive\n",
      "1/1 [==============================] - 0s 20ms/step\n",
      "thus appear plausible effect maintain majority patients dose Positive Positive\n",
      "1/1 [==============================] - 0s 22ms/step\n",
      "no new unexpected adverse reactions note fix combination glargine frc compare Positive Positive\n",
      "1/1 [==============================] - 0s 23ms/step\n",
      "adverse reaction pattern differ however aspect frc group lower frequency subject gastrointestinal adverse reactions compare lixisenatide group higher frequency subject reactions compare use insulin glargine Neutral Neutral\n",
      "1/1 [==============================] - 0s 22ms/step\n",
      "incidences document hypoglycaemic episode comparable frc insulin glargine group Positive Positive\n",
      "1/1 [==============================] - 0s 20ms/step\n",
      "however note concomitant use su not allow present study frc Neutral Neutral\n",
      "1/1 [==============================] - 0s 21ms/step\n",
      "immunological reactions allergic reactions injections site reactions equally distribute different treatment group Positive Positive\n",
      "1/1 [==============================] - 0s 20ms/step\n",
      "lower frequency patients develop lixisenatide antibodies ada frc group 36 compare lixisenatide group 48 Positive Positive\n",
      "1/1 [==============================] - 0s 24ms/step\n",
      "rmp adequately reflect safety concern list two monocomponents Positive Positive\n",
      "1/1 [==============================] - 0s 21ms/step\n",
      "overall fix combination glargine demonstrate comparable safety profile two Positive Positive\n",
      "1/1 [==============================] - 0s 21ms/step\n",
      "no major objections base efficacy data Positive Positive\n",
      "1/1 [==============================] - 0s 22ms/step\n",
      "separate components fix dose combination already approve also use specific combination Neutral Positive\n",
      "1/1 [==============================] - 0s 23ms/step\n",
      "bioequivalence fdc separate components establish Positive Positive\n",
      "1/1 [==============================] - 0s 23ms/step\n",
      "efficacy vs show phase 2 study although higher expect discontinuation rate observe group Neutral Positive\n",
      "1/1 [==============================] - 0s 21ms/step\n",
      "preliminary result ongoing phase 3 study reassure respect Positive Positive\n",
      "1/1 [==============================] - 0s 22ms/step\n",
      "safety profile fdc largely base safety profile individual components Positive Positive\n",
      "1/1 [==============================] - 0s 20ms/step\n",
      "safety profile fdc support result phase 2 study well preliminary result ongoing phase 3 study Positive Positive\n",
      "1/1 [==============================] - 0s 20ms/step\n",
      "observe safety profile line expectations not raise additional concern Positive Positive\n",
      "1/1 [==============================] - 0s 20ms/step\n",
      "since tadalafil lilly application inform consent cialis application clinical data support tadalafil lilly application identical clinical data cialis dossier assess authorise include procedures Positive Neutral\n",
      "1/1 [==============================] - 0s 19ms/step\n",
      "summary literature regard clinical data tadalafil two bioequivalence study provide demonstrate active substance not differ significantly properties regard safety efficacy reference product accept chmp Positive Positive\n",
      "1/1 [==============================] - 0s 21ms/step\n",
      "study triple 5 triple therapy chf 5993 statistically significant clinically relevant superior effect fev1 week 26 foster Positive Positive\n",
      "1/1 [==============================] - 0s 21ms/step\n",
      "tdi focal score third endpoint clinically relevant improvement treatments mean difference treatments tdi focal score week 26 not statistically significant Neutral Neutral\n",
      "1/1 [==============================] - 0s 20ms/step\n",
      "nevertheless responder analysis indicate benefit chf 5993 compare foster tdi symptoms greater proportion patients Positive Positive\n",
      "1/1 [==============================] - 0s 20ms/step\n",
      "also observe 23 reduction exacerbation rate minimum clinically important difference Positive Positive\n",
      "1/1 [==============================] - 0s 22ms/step\n",
      "study triple 6 chf 5993 statistically significant superior effect moderate severe copd exacerbation rate 52 weeks tiotropium Positive Positive\n",
      "1/1 [==============================] - 0s 21ms/step\n",
      "observe 20 reduction exacerbation rate minimum clinically important difference Positive Positive\n",
      "1/1 [==============================] - 0s 20ms/step\n",
      "superiority chf 5993 pmdi tiotropium relative foster pmdi tiotropium term morning fev1 week 52 also demonstrate Positive Positive\n",
      "1/1 [==============================] - 0s 22ms/step\n",
      "superior clinical efficacy chf 5993 pmdi compare tiotropium support consistent find relevant parameters include sgrq use rescue medication Positive Neutral\n",
      "1/1 [==============================] - 0s 21ms/step\n",
      "parameters chf 5993 pmdi foster pmdi tiotropium generally show similar effect Neutral Neutral\n",
      "1/1 [==============================] - 0s 21ms/step\n",
      "overall chf 5993 pmdi show benefit reduction exacerbation frequency improvement lung function two large phase iii study Positive Neutral\n",
      "1/1 [==============================] - 0s 21ms/step\n",
      "safety data present no particular safety signal suggest additive effect ff gb administer together Positive Positive\n",
      "1/1 [==============================] - 0s 21ms/step\n",
      "main side effect observe chf 5993 associate know ics lama laba effect Neutral Neutral\n",
      "1/1 [==============================] - 0s 20ms/step\n",
      "clinical database acceptable consider sufficient Positive Positive\n",
      "1/1 [==============================] - 0s 20ms/step\n",
      "clinical safety section smpc contain appropriate information substance reflect safety information fdc Positive Positive\n",
      "1/1 [==============================] - 0s 20ms/step\n",
      "inform consent application no new issue relate clinical data Positive Neutral\n",
      "1/1 [==============================] - 0s 21ms/step\n",
      "clinical data assess nuwiq application adequately reflect product information Positive Positive\n",
      "1/1 [==============================] - 0s 20ms/step\n",
      "12 weeks show excellent efficacy patients previously fail regimen contain ns5a inhibitor Positive Positive\n",
      "1/1 [==============================] - 0s 20ms/step\n",
      "similar 12 week course appear somewhat better patients previous failure regimen without ns5a inhibitor Positive Positive\n",
      "1/1 [==============================] - 0s 21ms/step\n",
      "8 week course similarly efficacious 12 weeks difficult cure cirrhotic gt3 cohort Positive Positive\n",
      "1/1 [==============================] - 0s 21ms/step\n",
      "8 week course show svr rate 95 population however not meet predefined 12 weeks Negative Positive\n",
      "1/1 [==============================] - 0s 20ms/step\n",
      "addition vox appear increase barrier resistance compare alone Neutral Neutral\n",
      "1/1 [==============================] - 0s 23ms/step\n",
      "conclusions concern recommend use discuss section Neutral Neutral\n"
     ]
    },
    {
     "name": "stdout",
     "output_type": "stream",
     "text": [
      "1/1 [==============================] - 0s 21ms/step\n",
      "study sufficient number patients include substantial number patients compensate cirrhosis Positive Positive\n",
      "1/1 [==============================] - 0s 23ms/step\n",
      "compare placebo similar rat aes overall notable difference increase rat mild grade 1 nausea diarrhoea Positive Positive\n",
      "1/1 [==============================] - 0s 21ms/step\n",
      "potentially relate ae include decrease appetite vomit muscle spasms rash Neutral Neutral\n",
      "1/1 [==============================] - 0s 22ms/step\n",
      "no sae report one subject phase 3 trials discontinue due report advents assess unrelated study drug Positive Positive\n",
      "1/1 [==============================] - 0s 20ms/step\n",
      "no general indication transaminitis see inhibitors however two case associate concomitant ethinyl estradiol among total 29 object expose make quite questionable Negative Positive\n",
      "1/1 [==============================] - 0s 20ms/step\n",
      "safety profile 8 12 weeks patients compensate liver disease due hcv infection appear favourable Positive Positive\n",
      "模型准确率为: 0.6949152542372882.\n"
     ]
    }
   ],
   "source": [
    "N_total = x.shape[0]  #\n",
    "predict_all = []\n",
    "label_all = []\n",
    "for start, end in zip(range(0, N_total, 1), range(1, N_total+1, 1)):\n",
    "    sentence = [inverse_word_dictionary[i] for i in x[start] if i != 0]\n",
    "    y_predict = lstm_model.predict(x[start:end])\n",
    "    label_predict = output_dictionary[np.argmax(y_predict[0])]\n",
    "    label_true = output_dictionary[np.argmax(y[start:end])]\n",
    "    print(''.join(sentence), label_true, label_predict) \n",
    "    predict_all.append(label_predict)\n",
    "    label_all.append(label_true)\n",
    "acc = accuracy_score(predict_all, label_all) \n",
    "print('模型准确率为: %s.' % acc)"
   ]
  },
  {
   "cell_type": "code",
   "execution_count": 352,
   "metadata": {},
   "outputs": [],
   "source": [
    "df['Predicted_LSTM'] = predict_all"
   ]
  },
  {
   "cell_type": "code",
   "execution_count": 353,
   "metadata": {},
   "outputs": [
    {
     "data": {
      "image/png": "[encoded data removed]",
      "text/plain": [
       "<Figure size 640x480 with 1 Axes>"
      ]
     },
     "metadata": {},
     "output_type": "display_data"
    },
    {
     "name": "stdout",
     "output_type": "stream",
     "text": [
      "0.6949152542372882\n"
     ]
    }
   ],
   "source": [
    "plot_prediction_test_train_bar('Predicted_LSTM',X_train.index,X_test.index,'LSTM')\n",
    "print(accuracy_score(df['label'],df['Predicted_LSTM']))"
   ]
  }
 ],
 "metadata": {
  "kernelspec": {
   "display_name": "tensorflow",
   "language": "python",
   "name": "py38"
  },
  "language_info": {
   "codemirror_mode": {
    "name": "ipython",
    "version": 3
   },
   "file_extension": ".py",
   "mimetype": "text/x-python",
   "name": "python",
   "nbconvert_exporter": "python",
   "pygments_lexer": "ipython3",
   "version": "3.8.13"
  }
 },
 "nbformat": 4,
 "nbformat_minor": 4
}
